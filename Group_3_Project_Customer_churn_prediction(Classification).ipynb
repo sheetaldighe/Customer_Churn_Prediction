{
  "nbformat": 4,
  "nbformat_minor": 0,
  "metadata": {
    "colab": {
      "provenance": [],
      "include_colab_link": true
    },
    "kernelspec": {
      "name": "python3",
      "display_name": "Python 3"
    },
    "language_info": {
      "name": "python"
    }
  },
  "cells": [
    {
      "cell_type": "markdown",
      "metadata": {
        "id": "view-in-github",
        "colab_type": "text"
      },
      "source": [
        "<a href=\"https://colab.research.google.com/github/sheetaldighe/Customer_Churn_Prediction/blob/main/Group_3_Project_Customer_churn_prediction(Classification).ipynb\" target=\"_parent\"><img src=\"https://colab.research.google.com/assets/colab-badge.svg\" alt=\"Open In Colab\"/></a>"
      ]
    },
    {
      "cell_type": "code",
      "source": [
        "from google.colab import drive\n",
        "drive.mount('/content/drive')"
      ],
      "metadata": {
        "id": "V67mDjqfKvcK",
        "colab": {
          "base_uri": "https://localhost:8080/"
        },
        "outputId": "07802cc9-1ecf-4789-a38a-0fdce49dba2a"
      },
      "execution_count": null,
      "outputs": [
        {
          "output_type": "stream",
          "name": "stdout",
          "text": [
            "Mounted at /content/drive\n"
          ]
        }
      ]
    },
    {
      "cell_type": "code",
      "execution_count": null,
      "metadata": {
        "id": "p7NkwCfyQfig"
      },
      "outputs": [],
      "source": [
        "# importing the necesarry python libraries\n",
        "import numpy as np\n",
        "import pandas as pd\n",
        "import matplotlib.pyplot as plt\n",
        "import seaborn as sb\n",
        "import zipfile\n",
        "import plotly.express as px\n",
        "%matplotlib inline\n",
        "\n",
        "\n"
      ]
    },
    {
      "cell_type": "code",
      "source": [
        "path = \"/content/drive/MyDrive/iranian+churn+dataset.zip\"\n",
        "\n"
      ],
      "metadata": {
        "id": "UN1hXJ4bQyU6"
      },
      "execution_count": null,
      "outputs": []
    },
    {
      "cell_type": "code",
      "source": [
        "df = pd.read_csv(path, index_col= False)"
      ],
      "metadata": {
        "id": "QmMvrP-tNcfu"
      },
      "execution_count": null,
      "outputs": []
    },
    {
      "cell_type": "code",
      "source": [
        "df"
      ],
      "metadata": {
        "colab": {
          "base_uri": "https://localhost:8080/",
          "height": 458
        },
        "id": "h4owcW7haKVe",
        "outputId": "158f0ab3-9500-40a9-f795-fd444b52be56"
      },
      "execution_count": null,
      "outputs": [
        {
          "output_type": "execute_result",
          "data": {
            "text/plain": [
              "      Call  Failure  Complains  Subscription  Length  Charge  Amount  \\\n",
              "0                 8          0                    38               0   \n",
              "1                 0          0                    39               0   \n",
              "2                10          0                    37               0   \n",
              "3                10          0                    38               0   \n",
              "4                 3          0                    38               0   \n",
              "...             ...        ...                   ...             ...   \n",
              "3145             21          0                    19               2   \n",
              "3146             17          0                    17               1   \n",
              "3147             13          0                    18               4   \n",
              "3148              7          0                    11               2   \n",
              "3149              8          1                    11               2   \n",
              "\n",
              "      Seconds of Use  Frequency of use  Frequency of SMS  \\\n",
              "0               4370                71                 5   \n",
              "1                318                 5                 7   \n",
              "2               2453                60               359   \n",
              "3               4198                66                 1   \n",
              "4               2393                58                 2   \n",
              "...              ...               ...               ...   \n",
              "3145            6697               147                92   \n",
              "3146            9237               177                80   \n",
              "3147            3157                51                38   \n",
              "3148            4695                46               222   \n",
              "3149            1792                25                 7   \n",
              "\n",
              "      Distinct Called Numbers  Age Group  Tariff Plan  Status  Age  \\\n",
              "0                          17          3            1       1   30   \n",
              "1                           4          2            1       2   25   \n",
              "2                          24          3            1       1   30   \n",
              "3                          35          1            1       1   15   \n",
              "4                          33          1            1       1   15   \n",
              "...                       ...        ...          ...     ...  ...   \n",
              "3145                       44          2            2       1   25   \n",
              "3146                       42          5            1       1   55   \n",
              "3147                       21          3            1       1   30   \n",
              "3148                       12          3            1       1   30   \n",
              "3149                        9          3            1       1   30   \n",
              "\n",
              "      Customer Value  Churn  \n",
              "0            197.640      0  \n",
              "1             46.035      0  \n",
              "2           1536.520      0  \n",
              "3            240.020      0  \n",
              "4            145.805      0  \n",
              "...              ...    ...  \n",
              "3145         721.980      0  \n",
              "3146         261.210      0  \n",
              "3147         280.320      0  \n",
              "3148        1077.640      0  \n",
              "3149         100.680      1  \n",
              "\n",
              "[3150 rows x 14 columns]"
            ],
            "text/html": [
              "\n",
              "  <div id=\"df-cac18d10-13c5-4ade-953b-0e7883e5f086\" class=\"colab-df-container\">\n",
              "    <div>\n",
              "<style scoped>\n",
              "    .dataframe tbody tr th:only-of-type {\n",
              "        vertical-align: middle;\n",
              "    }\n",
              "\n",
              "    .dataframe tbody tr th {\n",
              "        vertical-align: top;\n",
              "    }\n",
              "\n",
              "    .dataframe thead th {\n",
              "        text-align: right;\n",
              "    }\n",
              "</style>\n",
              "<table border=\"1\" class=\"dataframe\">\n",
              "  <thead>\n",
              "    <tr style=\"text-align: right;\">\n",
              "      <th></th>\n",
              "      <th>Call  Failure</th>\n",
              "      <th>Complains</th>\n",
              "      <th>Subscription  Length</th>\n",
              "      <th>Charge  Amount</th>\n",
              "      <th>Seconds of Use</th>\n",
              "      <th>Frequency of use</th>\n",
              "      <th>Frequency of SMS</th>\n",
              "      <th>Distinct Called Numbers</th>\n",
              "      <th>Age Group</th>\n",
              "      <th>Tariff Plan</th>\n",
              "      <th>Status</th>\n",
              "      <th>Age</th>\n",
              "      <th>Customer Value</th>\n",
              "      <th>Churn</th>\n",
              "    </tr>\n",
              "  </thead>\n",
              "  <tbody>\n",
              "    <tr>\n",
              "      <th>0</th>\n",
              "      <td>8</td>\n",
              "      <td>0</td>\n",
              "      <td>38</td>\n",
              "      <td>0</td>\n",
              "      <td>4370</td>\n",
              "      <td>71</td>\n",
              "      <td>5</td>\n",
              "      <td>17</td>\n",
              "      <td>3</td>\n",
              "      <td>1</td>\n",
              "      <td>1</td>\n",
              "      <td>30</td>\n",
              "      <td>197.640</td>\n",
              "      <td>0</td>\n",
              "    </tr>\n",
              "    <tr>\n",
              "      <th>1</th>\n",
              "      <td>0</td>\n",
              "      <td>0</td>\n",
              "      <td>39</td>\n",
              "      <td>0</td>\n",
              "      <td>318</td>\n",
              "      <td>5</td>\n",
              "      <td>7</td>\n",
              "      <td>4</td>\n",
              "      <td>2</td>\n",
              "      <td>1</td>\n",
              "      <td>2</td>\n",
              "      <td>25</td>\n",
              "      <td>46.035</td>\n",
              "      <td>0</td>\n",
              "    </tr>\n",
              "    <tr>\n",
              "      <th>2</th>\n",
              "      <td>10</td>\n",
              "      <td>0</td>\n",
              "      <td>37</td>\n",
              "      <td>0</td>\n",
              "      <td>2453</td>\n",
              "      <td>60</td>\n",
              "      <td>359</td>\n",
              "      <td>24</td>\n",
              "      <td>3</td>\n",
              "      <td>1</td>\n",
              "      <td>1</td>\n",
              "      <td>30</td>\n",
              "      <td>1536.520</td>\n",
              "      <td>0</td>\n",
              "    </tr>\n",
              "    <tr>\n",
              "      <th>3</th>\n",
              "      <td>10</td>\n",
              "      <td>0</td>\n",
              "      <td>38</td>\n",
              "      <td>0</td>\n",
              "      <td>4198</td>\n",
              "      <td>66</td>\n",
              "      <td>1</td>\n",
              "      <td>35</td>\n",
              "      <td>1</td>\n",
              "      <td>1</td>\n",
              "      <td>1</td>\n",
              "      <td>15</td>\n",
              "      <td>240.020</td>\n",
              "      <td>0</td>\n",
              "    </tr>\n",
              "    <tr>\n",
              "      <th>4</th>\n",
              "      <td>3</td>\n",
              "      <td>0</td>\n",
              "      <td>38</td>\n",
              "      <td>0</td>\n",
              "      <td>2393</td>\n",
              "      <td>58</td>\n",
              "      <td>2</td>\n",
              "      <td>33</td>\n",
              "      <td>1</td>\n",
              "      <td>1</td>\n",
              "      <td>1</td>\n",
              "      <td>15</td>\n",
              "      <td>145.805</td>\n",
              "      <td>0</td>\n",
              "    </tr>\n",
              "    <tr>\n",
              "      <th>...</th>\n",
              "      <td>...</td>\n",
              "      <td>...</td>\n",
              "      <td>...</td>\n",
              "      <td>...</td>\n",
              "      <td>...</td>\n",
              "      <td>...</td>\n",
              "      <td>...</td>\n",
              "      <td>...</td>\n",
              "      <td>...</td>\n",
              "      <td>...</td>\n",
              "      <td>...</td>\n",
              "      <td>...</td>\n",
              "      <td>...</td>\n",
              "      <td>...</td>\n",
              "    </tr>\n",
              "    <tr>\n",
              "      <th>3145</th>\n",
              "      <td>21</td>\n",
              "      <td>0</td>\n",
              "      <td>19</td>\n",
              "      <td>2</td>\n",
              "      <td>6697</td>\n",
              "      <td>147</td>\n",
              "      <td>92</td>\n",
              "      <td>44</td>\n",
              "      <td>2</td>\n",
              "      <td>2</td>\n",
              "      <td>1</td>\n",
              "      <td>25</td>\n",
              "      <td>721.980</td>\n",
              "      <td>0</td>\n",
              "    </tr>\n",
              "    <tr>\n",
              "      <th>3146</th>\n",
              "      <td>17</td>\n",
              "      <td>0</td>\n",
              "      <td>17</td>\n",
              "      <td>1</td>\n",
              "      <td>9237</td>\n",
              "      <td>177</td>\n",
              "      <td>80</td>\n",
              "      <td>42</td>\n",
              "      <td>5</td>\n",
              "      <td>1</td>\n",
              "      <td>1</td>\n",
              "      <td>55</td>\n",
              "      <td>261.210</td>\n",
              "      <td>0</td>\n",
              "    </tr>\n",
              "    <tr>\n",
              "      <th>3147</th>\n",
              "      <td>13</td>\n",
              "      <td>0</td>\n",
              "      <td>18</td>\n",
              "      <td>4</td>\n",
              "      <td>3157</td>\n",
              "      <td>51</td>\n",
              "      <td>38</td>\n",
              "      <td>21</td>\n",
              "      <td>3</td>\n",
              "      <td>1</td>\n",
              "      <td>1</td>\n",
              "      <td>30</td>\n",
              "      <td>280.320</td>\n",
              "      <td>0</td>\n",
              "    </tr>\n",
              "    <tr>\n",
              "      <th>3148</th>\n",
              "      <td>7</td>\n",
              "      <td>0</td>\n",
              "      <td>11</td>\n",
              "      <td>2</td>\n",
              "      <td>4695</td>\n",
              "      <td>46</td>\n",
              "      <td>222</td>\n",
              "      <td>12</td>\n",
              "      <td>3</td>\n",
              "      <td>1</td>\n",
              "      <td>1</td>\n",
              "      <td>30</td>\n",
              "      <td>1077.640</td>\n",
              "      <td>0</td>\n",
              "    </tr>\n",
              "    <tr>\n",
              "      <th>3149</th>\n",
              "      <td>8</td>\n",
              "      <td>1</td>\n",
              "      <td>11</td>\n",
              "      <td>2</td>\n",
              "      <td>1792</td>\n",
              "      <td>25</td>\n",
              "      <td>7</td>\n",
              "      <td>9</td>\n",
              "      <td>3</td>\n",
              "      <td>1</td>\n",
              "      <td>1</td>\n",
              "      <td>30</td>\n",
              "      <td>100.680</td>\n",
              "      <td>1</td>\n",
              "    </tr>\n",
              "  </tbody>\n",
              "</table>\n",
              "<p>3150 rows × 14 columns</p>\n",
              "</div>\n",
              "    <div class=\"colab-df-buttons\">\n",
              "\n",
              "  <div class=\"colab-df-container\">\n",
              "    <button class=\"colab-df-convert\" onclick=\"convertToInteractive('df-cac18d10-13c5-4ade-953b-0e7883e5f086')\"\n",
              "            title=\"Convert this dataframe to an interactive table.\"\n",
              "            style=\"display:none;\">\n",
              "\n",
              "  <svg xmlns=\"http://www.w3.org/2000/svg\" height=\"24px\" viewBox=\"0 -960 960 960\">\n",
              "    <path d=\"M120-120v-720h720v720H120Zm60-500h600v-160H180v160Zm220 220h160v-160H400v160Zm0 220h160v-160H400v160ZM180-400h160v-160H180v160Zm440 0h160v-160H620v160ZM180-180h160v-160H180v160Zm440 0h160v-160H620v160Z\"/>\n",
              "  </svg>\n",
              "    </button>\n",
              "\n",
              "  <style>\n",
              "    .colab-df-container {\n",
              "      display:flex;\n",
              "      gap: 12px;\n",
              "    }\n",
              "\n",
              "    .colab-df-convert {\n",
              "      background-color: #E8F0FE;\n",
              "      border: none;\n",
              "      border-radius: 50%;\n",
              "      cursor: pointer;\n",
              "      display: none;\n",
              "      fill: #1967D2;\n",
              "      height: 32px;\n",
              "      padding: 0 0 0 0;\n",
              "      width: 32px;\n",
              "    }\n",
              "\n",
              "    .colab-df-convert:hover {\n",
              "      background-color: #E2EBFA;\n",
              "      box-shadow: 0px 1px 2px rgba(60, 64, 67, 0.3), 0px 1px 3px 1px rgba(60, 64, 67, 0.15);\n",
              "      fill: #174EA6;\n",
              "    }\n",
              "\n",
              "    .colab-df-buttons div {\n",
              "      margin-bottom: 4px;\n",
              "    }\n",
              "\n",
              "    [theme=dark] .colab-df-convert {\n",
              "      background-color: #3B4455;\n",
              "      fill: #D2E3FC;\n",
              "    }\n",
              "\n",
              "    [theme=dark] .colab-df-convert:hover {\n",
              "      background-color: #434B5C;\n",
              "      box-shadow: 0px 1px 3px 1px rgba(0, 0, 0, 0.15);\n",
              "      filter: drop-shadow(0px 1px 2px rgba(0, 0, 0, 0.3));\n",
              "      fill: #FFFFFF;\n",
              "    }\n",
              "  </style>\n",
              "\n",
              "    <script>\n",
              "      const buttonEl =\n",
              "        document.querySelector('#df-cac18d10-13c5-4ade-953b-0e7883e5f086 button.colab-df-convert');\n",
              "      buttonEl.style.display =\n",
              "        google.colab.kernel.accessAllowed ? 'block' : 'none';\n",
              "\n",
              "      async function convertToInteractive(key) {\n",
              "        const element = document.querySelector('#df-cac18d10-13c5-4ade-953b-0e7883e5f086');\n",
              "        const dataTable =\n",
              "          await google.colab.kernel.invokeFunction('convertToInteractive',\n",
              "                                                    [key], {});\n",
              "        if (!dataTable) return;\n",
              "\n",
              "        const docLinkHtml = 'Like what you see? Visit the ' +\n",
              "          '<a target=\"_blank\" href=https://colab.research.google.com/notebooks/data_table.ipynb>data table notebook</a>'\n",
              "          + ' to learn more about interactive tables.';\n",
              "        element.innerHTML = '';\n",
              "        dataTable['output_type'] = 'display_data';\n",
              "        await google.colab.output.renderOutput(dataTable, element);\n",
              "        const docLink = document.createElement('div');\n",
              "        docLink.innerHTML = docLinkHtml;\n",
              "        element.appendChild(docLink);\n",
              "      }\n",
              "    </script>\n",
              "  </div>\n",
              "\n",
              "\n",
              "<div id=\"df-c1f87411-3692-443b-9758-dffff9b55803\">\n",
              "  <button class=\"colab-df-quickchart\" onclick=\"quickchart('df-c1f87411-3692-443b-9758-dffff9b55803')\"\n",
              "            title=\"Suggest charts.\"\n",
              "            style=\"display:none;\">\n",
              "\n",
              "<svg xmlns=\"http://www.w3.org/2000/svg\" height=\"24px\"viewBox=\"0 0 24 24\"\n",
              "     width=\"24px\">\n",
              "    <g>\n",
              "        <path d=\"M19 3H5c-1.1 0-2 .9-2 2v14c0 1.1.9 2 2 2h14c1.1 0 2-.9 2-2V5c0-1.1-.9-2-2-2zM9 17H7v-7h2v7zm4 0h-2V7h2v10zm4 0h-2v-4h2v4z\"/>\n",
              "    </g>\n",
              "</svg>\n",
              "  </button>\n",
              "\n",
              "<style>\n",
              "  .colab-df-quickchart {\n",
              "      --bg-color: #E8F0FE;\n",
              "      --fill-color: #1967D2;\n",
              "      --hover-bg-color: #E2EBFA;\n",
              "      --hover-fill-color: #174EA6;\n",
              "      --disabled-fill-color: #AAA;\n",
              "      --disabled-bg-color: #DDD;\n",
              "  }\n",
              "\n",
              "  [theme=dark] .colab-df-quickchart {\n",
              "      --bg-color: #3B4455;\n",
              "      --fill-color: #D2E3FC;\n",
              "      --hover-bg-color: #434B5C;\n",
              "      --hover-fill-color: #FFFFFF;\n",
              "      --disabled-bg-color: #3B4455;\n",
              "      --disabled-fill-color: #666;\n",
              "  }\n",
              "\n",
              "  .colab-df-quickchart {\n",
              "    background-color: var(--bg-color);\n",
              "    border: none;\n",
              "    border-radius: 50%;\n",
              "    cursor: pointer;\n",
              "    display: none;\n",
              "    fill: var(--fill-color);\n",
              "    height: 32px;\n",
              "    padding: 0;\n",
              "    width: 32px;\n",
              "  }\n",
              "\n",
              "  .colab-df-quickchart:hover {\n",
              "    background-color: var(--hover-bg-color);\n",
              "    box-shadow: 0 1px 2px rgba(60, 64, 67, 0.3), 0 1px 3px 1px rgba(60, 64, 67, 0.15);\n",
              "    fill: var(--button-hover-fill-color);\n",
              "  }\n",
              "\n",
              "  .colab-df-quickchart-complete:disabled,\n",
              "  .colab-df-quickchart-complete:disabled:hover {\n",
              "    background-color: var(--disabled-bg-color);\n",
              "    fill: var(--disabled-fill-color);\n",
              "    box-shadow: none;\n",
              "  }\n",
              "\n",
              "  .colab-df-spinner {\n",
              "    border: 2px solid var(--fill-color);\n",
              "    border-color: transparent;\n",
              "    border-bottom-color: var(--fill-color);\n",
              "    animation:\n",
              "      spin 1s steps(1) infinite;\n",
              "  }\n",
              "\n",
              "  @keyframes spin {\n",
              "    0% {\n",
              "      border-color: transparent;\n",
              "      border-bottom-color: var(--fill-color);\n",
              "      border-left-color: var(--fill-color);\n",
              "    }\n",
              "    20% {\n",
              "      border-color: transparent;\n",
              "      border-left-color: var(--fill-color);\n",
              "      border-top-color: var(--fill-color);\n",
              "    }\n",
              "    30% {\n",
              "      border-color: transparent;\n",
              "      border-left-color: var(--fill-color);\n",
              "      border-top-color: var(--fill-color);\n",
              "      border-right-color: var(--fill-color);\n",
              "    }\n",
              "    40% {\n",
              "      border-color: transparent;\n",
              "      border-right-color: var(--fill-color);\n",
              "      border-top-color: var(--fill-color);\n",
              "    }\n",
              "    60% {\n",
              "      border-color: transparent;\n",
              "      border-right-color: var(--fill-color);\n",
              "    }\n",
              "    80% {\n",
              "      border-color: transparent;\n",
              "      border-right-color: var(--fill-color);\n",
              "      border-bottom-color: var(--fill-color);\n",
              "    }\n",
              "    90% {\n",
              "      border-color: transparent;\n",
              "      border-bottom-color: var(--fill-color);\n",
              "    }\n",
              "  }\n",
              "</style>\n",
              "\n",
              "  <script>\n",
              "    async function quickchart(key) {\n",
              "      const quickchartButtonEl =\n",
              "        document.querySelector('#' + key + ' button');\n",
              "      quickchartButtonEl.disabled = true;  // To prevent multiple clicks.\n",
              "      quickchartButtonEl.classList.add('colab-df-spinner');\n",
              "      try {\n",
              "        const charts = await google.colab.kernel.invokeFunction(\n",
              "            'suggestCharts', [key], {});\n",
              "      } catch (error) {\n",
              "        console.error('Error during call to suggestCharts:', error);\n",
              "      }\n",
              "      quickchartButtonEl.classList.remove('colab-df-spinner');\n",
              "      quickchartButtonEl.classList.add('colab-df-quickchart-complete');\n",
              "    }\n",
              "    (() => {\n",
              "      let quickchartButtonEl =\n",
              "        document.querySelector('#df-c1f87411-3692-443b-9758-dffff9b55803 button');\n",
              "      quickchartButtonEl.style.display =\n",
              "        google.colab.kernel.accessAllowed ? 'block' : 'none';\n",
              "    })();\n",
              "  </script>\n",
              "</div>\n",
              "    </div>\n",
              "  </div>\n"
            ]
          },
          "metadata": {},
          "execution_count": 5
        }
      ]
    },
    {
      "cell_type": "code",
      "source": [
        "df = zipfile.ZipFile(path)    # unarchiving the dataset\n",
        "\n",
        "df.namelist()    # This tells us the name of the file in the dataset"
      ],
      "metadata": {
        "colab": {
          "base_uri": "https://localhost:8080/"
        },
        "id": "bQ2ju9WcQ2aa",
        "outputId": "7d5f0690-6d94-40e1-f373-716d8edf0d66"
      },
      "execution_count": null,
      "outputs": [
        {
          "output_type": "execute_result",
          "data": {
            "text/plain": [
              "['Customer Churn.csv']"
            ]
          },
          "metadata": {},
          "execution_count": 6
        }
      ]
    },
    {
      "cell_type": "code",
      "source": [
        "df"
      ],
      "metadata": {
        "colab": {
          "base_uri": "https://localhost:8080/"
        },
        "id": "a_LAuGeVabcf",
        "outputId": "3cfc3c04-7d9c-4e90-b9d9-1f97139e2df3"
      },
      "execution_count": null,
      "outputs": [
        {
          "output_type": "execute_result",
          "data": {
            "text/plain": [
              "<zipfile.ZipFile filename='/content/drive/MyDrive/iranian+churn+dataset.zip' mode='r'>"
            ]
          },
          "metadata": {},
          "execution_count": 7
        }
      ]
    },
    {
      "cell_type": "code",
      "source": [
        "# Reading the file\n",
        "df = pd.read_csv(df.open(\"Customer Churn.csv\"))"
      ],
      "metadata": {
        "id": "ST598-4cQ_bU"
      },
      "execution_count": null,
      "outputs": []
    },
    {
      "cell_type": "code",
      "source": [
        "df.head(6)"
      ],
      "metadata": {
        "colab": {
          "base_uri": "https://localhost:8080/",
          "height": 272
        },
        "id": "DOERKZvtRJjg",
        "outputId": "c98d1cab-3755-4805-ba68-16cf06590b16"
      },
      "execution_count": null,
      "outputs": [
        {
          "output_type": "execute_result",
          "data": {
            "text/plain": [
              "   Call  Failure  Complains  Subscription  Length  Charge  Amount  \\\n",
              "0              8          0                    38               0   \n",
              "1              0          0                    39               0   \n",
              "2             10          0                    37               0   \n",
              "3             10          0                    38               0   \n",
              "4              3          0                    38               0   \n",
              "5             11          0                    38               1   \n",
              "\n",
              "   Seconds of Use  Frequency of use  Frequency of SMS  \\\n",
              "0            4370                71                 5   \n",
              "1             318                 5                 7   \n",
              "2            2453                60               359   \n",
              "3            4198                66                 1   \n",
              "4            2393                58                 2   \n",
              "5            3775                82                32   \n",
              "\n",
              "   Distinct Called Numbers  Age Group  Tariff Plan  Status  Age  \\\n",
              "0                       17          3            1       1   30   \n",
              "1                        4          2            1       2   25   \n",
              "2                       24          3            1       1   30   \n",
              "3                       35          1            1       1   15   \n",
              "4                       33          1            1       1   15   \n",
              "5                       28          3            1       1   30   \n",
              "\n",
              "   Customer Value  Churn  \n",
              "0         197.640      0  \n",
              "1          46.035      0  \n",
              "2        1536.520      0  \n",
              "3         240.020      0  \n",
              "4         145.805      0  \n",
              "5         282.280      0  "
            ],
            "text/html": [
              "\n",
              "  <div id=\"df-2c6ba945-f4b5-4f04-a2e0-faa5fcd5ea99\" class=\"colab-df-container\">\n",
              "    <div>\n",
              "<style scoped>\n",
              "    .dataframe tbody tr th:only-of-type {\n",
              "        vertical-align: middle;\n",
              "    }\n",
              "\n",
              "    .dataframe tbody tr th {\n",
              "        vertical-align: top;\n",
              "    }\n",
              "\n",
              "    .dataframe thead th {\n",
              "        text-align: right;\n",
              "    }\n",
              "</style>\n",
              "<table border=\"1\" class=\"dataframe\">\n",
              "  <thead>\n",
              "    <tr style=\"text-align: right;\">\n",
              "      <th></th>\n",
              "      <th>Call  Failure</th>\n",
              "      <th>Complains</th>\n",
              "      <th>Subscription  Length</th>\n",
              "      <th>Charge  Amount</th>\n",
              "      <th>Seconds of Use</th>\n",
              "      <th>Frequency of use</th>\n",
              "      <th>Frequency of SMS</th>\n",
              "      <th>Distinct Called Numbers</th>\n",
              "      <th>Age Group</th>\n",
              "      <th>Tariff Plan</th>\n",
              "      <th>Status</th>\n",
              "      <th>Age</th>\n",
              "      <th>Customer Value</th>\n",
              "      <th>Churn</th>\n",
              "    </tr>\n",
              "  </thead>\n",
              "  <tbody>\n",
              "    <tr>\n",
              "      <th>0</th>\n",
              "      <td>8</td>\n",
              "      <td>0</td>\n",
              "      <td>38</td>\n",
              "      <td>0</td>\n",
              "      <td>4370</td>\n",
              "      <td>71</td>\n",
              "      <td>5</td>\n",
              "      <td>17</td>\n",
              "      <td>3</td>\n",
              "      <td>1</td>\n",
              "      <td>1</td>\n",
              "      <td>30</td>\n",
              "      <td>197.640</td>\n",
              "      <td>0</td>\n",
              "    </tr>\n",
              "    <tr>\n",
              "      <th>1</th>\n",
              "      <td>0</td>\n",
              "      <td>0</td>\n",
              "      <td>39</td>\n",
              "      <td>0</td>\n",
              "      <td>318</td>\n",
              "      <td>5</td>\n",
              "      <td>7</td>\n",
              "      <td>4</td>\n",
              "      <td>2</td>\n",
              "      <td>1</td>\n",
              "      <td>2</td>\n",
              "      <td>25</td>\n",
              "      <td>46.035</td>\n",
              "      <td>0</td>\n",
              "    </tr>\n",
              "    <tr>\n",
              "      <th>2</th>\n",
              "      <td>10</td>\n",
              "      <td>0</td>\n",
              "      <td>37</td>\n",
              "      <td>0</td>\n",
              "      <td>2453</td>\n",
              "      <td>60</td>\n",
              "      <td>359</td>\n",
              "      <td>24</td>\n",
              "      <td>3</td>\n",
              "      <td>1</td>\n",
              "      <td>1</td>\n",
              "      <td>30</td>\n",
              "      <td>1536.520</td>\n",
              "      <td>0</td>\n",
              "    </tr>\n",
              "    <tr>\n",
              "      <th>3</th>\n",
              "      <td>10</td>\n",
              "      <td>0</td>\n",
              "      <td>38</td>\n",
              "      <td>0</td>\n",
              "      <td>4198</td>\n",
              "      <td>66</td>\n",
              "      <td>1</td>\n",
              "      <td>35</td>\n",
              "      <td>1</td>\n",
              "      <td>1</td>\n",
              "      <td>1</td>\n",
              "      <td>15</td>\n",
              "      <td>240.020</td>\n",
              "      <td>0</td>\n",
              "    </tr>\n",
              "    <tr>\n",
              "      <th>4</th>\n",
              "      <td>3</td>\n",
              "      <td>0</td>\n",
              "      <td>38</td>\n",
              "      <td>0</td>\n",
              "      <td>2393</td>\n",
              "      <td>58</td>\n",
              "      <td>2</td>\n",
              "      <td>33</td>\n",
              "      <td>1</td>\n",
              "      <td>1</td>\n",
              "      <td>1</td>\n",
              "      <td>15</td>\n",
              "      <td>145.805</td>\n",
              "      <td>0</td>\n",
              "    </tr>\n",
              "    <tr>\n",
              "      <th>5</th>\n",
              "      <td>11</td>\n",
              "      <td>0</td>\n",
              "      <td>38</td>\n",
              "      <td>1</td>\n",
              "      <td>3775</td>\n",
              "      <td>82</td>\n",
              "      <td>32</td>\n",
              "      <td>28</td>\n",
              "      <td>3</td>\n",
              "      <td>1</td>\n",
              "      <td>1</td>\n",
              "      <td>30</td>\n",
              "      <td>282.280</td>\n",
              "      <td>0</td>\n",
              "    </tr>\n",
              "  </tbody>\n",
              "</table>\n",
              "</div>\n",
              "    <div class=\"colab-df-buttons\">\n",
              "\n",
              "  <div class=\"colab-df-container\">\n",
              "    <button class=\"colab-df-convert\" onclick=\"convertToInteractive('df-2c6ba945-f4b5-4f04-a2e0-faa5fcd5ea99')\"\n",
              "            title=\"Convert this dataframe to an interactive table.\"\n",
              "            style=\"display:none;\">\n",
              "\n",
              "  <svg xmlns=\"http://www.w3.org/2000/svg\" height=\"24px\" viewBox=\"0 -960 960 960\">\n",
              "    <path d=\"M120-120v-720h720v720H120Zm60-500h600v-160H180v160Zm220 220h160v-160H400v160Zm0 220h160v-160H400v160ZM180-400h160v-160H180v160Zm440 0h160v-160H620v160ZM180-180h160v-160H180v160Zm440 0h160v-160H620v160Z\"/>\n",
              "  </svg>\n",
              "    </button>\n",
              "\n",
              "  <style>\n",
              "    .colab-df-container {\n",
              "      display:flex;\n",
              "      gap: 12px;\n",
              "    }\n",
              "\n",
              "    .colab-df-convert {\n",
              "      background-color: #E8F0FE;\n",
              "      border: none;\n",
              "      border-radius: 50%;\n",
              "      cursor: pointer;\n",
              "      display: none;\n",
              "      fill: #1967D2;\n",
              "      height: 32px;\n",
              "      padding: 0 0 0 0;\n",
              "      width: 32px;\n",
              "    }\n",
              "\n",
              "    .colab-df-convert:hover {\n",
              "      background-color: #E2EBFA;\n",
              "      box-shadow: 0px 1px 2px rgba(60, 64, 67, 0.3), 0px 1px 3px 1px rgba(60, 64, 67, 0.15);\n",
              "      fill: #174EA6;\n",
              "    }\n",
              "\n",
              "    .colab-df-buttons div {\n",
              "      margin-bottom: 4px;\n",
              "    }\n",
              "\n",
              "    [theme=dark] .colab-df-convert {\n",
              "      background-color: #3B4455;\n",
              "      fill: #D2E3FC;\n",
              "    }\n",
              "\n",
              "    [theme=dark] .colab-df-convert:hover {\n",
              "      background-color: #434B5C;\n",
              "      box-shadow: 0px 1px 3px 1px rgba(0, 0, 0, 0.15);\n",
              "      filter: drop-shadow(0px 1px 2px rgba(0, 0, 0, 0.3));\n",
              "      fill: #FFFFFF;\n",
              "    }\n",
              "  </style>\n",
              "\n",
              "    <script>\n",
              "      const buttonEl =\n",
              "        document.querySelector('#df-2c6ba945-f4b5-4f04-a2e0-faa5fcd5ea99 button.colab-df-convert');\n",
              "      buttonEl.style.display =\n",
              "        google.colab.kernel.accessAllowed ? 'block' : 'none';\n",
              "\n",
              "      async function convertToInteractive(key) {\n",
              "        const element = document.querySelector('#df-2c6ba945-f4b5-4f04-a2e0-faa5fcd5ea99');\n",
              "        const dataTable =\n",
              "          await google.colab.kernel.invokeFunction('convertToInteractive',\n",
              "                                                    [key], {});\n",
              "        if (!dataTable) return;\n",
              "\n",
              "        const docLinkHtml = 'Like what you see? Visit the ' +\n",
              "          '<a target=\"_blank\" href=https://colab.research.google.com/notebooks/data_table.ipynb>data table notebook</a>'\n",
              "          + ' to learn more about interactive tables.';\n",
              "        element.innerHTML = '';\n",
              "        dataTable['output_type'] = 'display_data';\n",
              "        await google.colab.output.renderOutput(dataTable, element);\n",
              "        const docLink = document.createElement('div');\n",
              "        docLink.innerHTML = docLinkHtml;\n",
              "        element.appendChild(docLink);\n",
              "      }\n",
              "    </script>\n",
              "  </div>\n",
              "\n",
              "\n",
              "<div id=\"df-946f4c65-d16f-4b1c-b0e0-6343c2e327da\">\n",
              "  <button class=\"colab-df-quickchart\" onclick=\"quickchart('df-946f4c65-d16f-4b1c-b0e0-6343c2e327da')\"\n",
              "            title=\"Suggest charts.\"\n",
              "            style=\"display:none;\">\n",
              "\n",
              "<svg xmlns=\"http://www.w3.org/2000/svg\" height=\"24px\"viewBox=\"0 0 24 24\"\n",
              "     width=\"24px\">\n",
              "    <g>\n",
              "        <path d=\"M19 3H5c-1.1 0-2 .9-2 2v14c0 1.1.9 2 2 2h14c1.1 0 2-.9 2-2V5c0-1.1-.9-2-2-2zM9 17H7v-7h2v7zm4 0h-2V7h2v10zm4 0h-2v-4h2v4z\"/>\n",
              "    </g>\n",
              "</svg>\n",
              "  </button>\n",
              "\n",
              "<style>\n",
              "  .colab-df-quickchart {\n",
              "      --bg-color: #E8F0FE;\n",
              "      --fill-color: #1967D2;\n",
              "      --hover-bg-color: #E2EBFA;\n",
              "      --hover-fill-color: #174EA6;\n",
              "      --disabled-fill-color: #AAA;\n",
              "      --disabled-bg-color: #DDD;\n",
              "  }\n",
              "\n",
              "  [theme=dark] .colab-df-quickchart {\n",
              "      --bg-color: #3B4455;\n",
              "      --fill-color: #D2E3FC;\n",
              "      --hover-bg-color: #434B5C;\n",
              "      --hover-fill-color: #FFFFFF;\n",
              "      --disabled-bg-color: #3B4455;\n",
              "      --disabled-fill-color: #666;\n",
              "  }\n",
              "\n",
              "  .colab-df-quickchart {\n",
              "    background-color: var(--bg-color);\n",
              "    border: none;\n",
              "    border-radius: 50%;\n",
              "    cursor: pointer;\n",
              "    display: none;\n",
              "    fill: var(--fill-color);\n",
              "    height: 32px;\n",
              "    padding: 0;\n",
              "    width: 32px;\n",
              "  }\n",
              "\n",
              "  .colab-df-quickchart:hover {\n",
              "    background-color: var(--hover-bg-color);\n",
              "    box-shadow: 0 1px 2px rgba(60, 64, 67, 0.3), 0 1px 3px 1px rgba(60, 64, 67, 0.15);\n",
              "    fill: var(--button-hover-fill-color);\n",
              "  }\n",
              "\n",
              "  .colab-df-quickchart-complete:disabled,\n",
              "  .colab-df-quickchart-complete:disabled:hover {\n",
              "    background-color: var(--disabled-bg-color);\n",
              "    fill: var(--disabled-fill-color);\n",
              "    box-shadow: none;\n",
              "  }\n",
              "\n",
              "  .colab-df-spinner {\n",
              "    border: 2px solid var(--fill-color);\n",
              "    border-color: transparent;\n",
              "    border-bottom-color: var(--fill-color);\n",
              "    animation:\n",
              "      spin 1s steps(1) infinite;\n",
              "  }\n",
              "\n",
              "  @keyframes spin {\n",
              "    0% {\n",
              "      border-color: transparent;\n",
              "      border-bottom-color: var(--fill-color);\n",
              "      border-left-color: var(--fill-color);\n",
              "    }\n",
              "    20% {\n",
              "      border-color: transparent;\n",
              "      border-left-color: var(--fill-color);\n",
              "      border-top-color: var(--fill-color);\n",
              "    }\n",
              "    30% {\n",
              "      border-color: transparent;\n",
              "      border-left-color: var(--fill-color);\n",
              "      border-top-color: var(--fill-color);\n",
              "      border-right-color: var(--fill-color);\n",
              "    }\n",
              "    40% {\n",
              "      border-color: transparent;\n",
              "      border-right-color: var(--fill-color);\n",
              "      border-top-color: var(--fill-color);\n",
              "    }\n",
              "    60% {\n",
              "      border-color: transparent;\n",
              "      border-right-color: var(--fill-color);\n",
              "    }\n",
              "    80% {\n",
              "      border-color: transparent;\n",
              "      border-right-color: var(--fill-color);\n",
              "      border-bottom-color: var(--fill-color);\n",
              "    }\n",
              "    90% {\n",
              "      border-color: transparent;\n",
              "      border-bottom-color: var(--fill-color);\n",
              "    }\n",
              "  }\n",
              "</style>\n",
              "\n",
              "  <script>\n",
              "    async function quickchart(key) {\n",
              "      const quickchartButtonEl =\n",
              "        document.querySelector('#' + key + ' button');\n",
              "      quickchartButtonEl.disabled = true;  // To prevent multiple clicks.\n",
              "      quickchartButtonEl.classList.add('colab-df-spinner');\n",
              "      try {\n",
              "        const charts = await google.colab.kernel.invokeFunction(\n",
              "            'suggestCharts', [key], {});\n",
              "      } catch (error) {\n",
              "        console.error('Error during call to suggestCharts:', error);\n",
              "      }\n",
              "      quickchartButtonEl.classList.remove('colab-df-spinner');\n",
              "      quickchartButtonEl.classList.add('colab-df-quickchart-complete');\n",
              "    }\n",
              "    (() => {\n",
              "      let quickchartButtonEl =\n",
              "        document.querySelector('#df-946f4c65-d16f-4b1c-b0e0-6343c2e327da button');\n",
              "      quickchartButtonEl.style.display =\n",
              "        google.colab.kernel.accessAllowed ? 'block' : 'none';\n",
              "    })();\n",
              "  </script>\n",
              "</div>\n",
              "    </div>\n",
              "  </div>\n"
            ]
          },
          "metadata": {},
          "execution_count": 9
        }
      ]
    },
    {
      "cell_type": "code",
      "source": [
        "df['Churn'].value_counts()"
      ],
      "metadata": {
        "colab": {
          "base_uri": "https://localhost:8080/"
        },
        "id": "co2huB0gbMmH",
        "outputId": "db1c922a-f326-4c14-82fd-516019ed4849"
      },
      "execution_count": null,
      "outputs": [
        {
          "output_type": "execute_result",
          "data": {
            "text/plain": [
              "0    2655\n",
              "1     495\n",
              "Name: Churn, dtype: int64"
            ]
          },
          "metadata": {},
          "execution_count": 10
        }
      ]
    },
    {
      "cell_type": "code",
      "source": [
        "sb.countplot(data = df , x =\"Churn\")"
      ],
      "metadata": {
        "colab": {
          "base_uri": "https://localhost:8080/",
          "height": 467
        },
        "id": "7Koi5dGkrlGi",
        "outputId": "046b491c-5ad1-4668-9047-c91da96fc97c"
      },
      "execution_count": null,
      "outputs": [
        {
          "output_type": "execute_result",
          "data": {
            "text/plain": [
              "<Axes: xlabel='Churn', ylabel='count'>"
            ]
          },
          "metadata": {},
          "execution_count": 11
        },
        {
          "output_type": "display_data",
          "data": {
            "text/plain": [
              "<Figure size 640x480 with 1 Axes>"
            ],
            "image/png": "[encoded data removed]"
          },
          "metadata": {}
        }
      ]
    },
    {
      "cell_type": "markdown",
      "source": [
        "From the observation we can see that the data is biased as the number of rows of class 0 is much greater than class 1"
      ],
      "metadata": {
        "id": "pza-fpc8rtsk"
      }
    },
    {
      "cell_type": "code",
      "source": [
        "# checking for any missing values\n",
        "df.isnull().sum()"
      ],
      "metadata": {
        "colab": {
          "base_uri": "https://localhost:8080/"
        },
        "id": "roBEbzX-RLeZ",
        "outputId": "ad0627c5-c201-46b5-953d-817f29ec19b2"
      },
      "execution_count": null,
      "outputs": [
        {
          "output_type": "execute_result",
          "data": {
            "text/plain": [
              "Call  Failure              0\n",
              "Complains                  0\n",
              "Subscription  Length       0\n",
              "Charge  Amount             0\n",
              "Seconds of Use             0\n",
              "Frequency of use           0\n",
              "Frequency of SMS           0\n",
              "Distinct Called Numbers    0\n",
              "Age Group                  0\n",
              "Tariff Plan                0\n",
              "Status                     0\n",
              "Age                        0\n",
              "Customer Value             0\n",
              "Churn                      0\n",
              "dtype: int64"
            ]
          },
          "metadata": {},
          "execution_count": 12
        }
      ]
    },
    {
      "cell_type": "code",
      "source": [
        "df[\"Age Group\"].unique()"
      ],
      "metadata": {
        "colab": {
          "base_uri": "https://localhost:8080/"
        },
        "id": "CeE5NGKvXSY9",
        "outputId": "41c6d9e6-6c38-486e-d0c1-7b7fc93c8c2d"
      },
      "execution_count": null,
      "outputs": [
        {
          "output_type": "execute_result",
          "data": {
            "text/plain": [
              "array([3, 2, 1, 4, 5])"
            ]
          },
          "metadata": {},
          "execution_count": 13
        }
      ]
    },
    {
      "cell_type": "code",
      "source": [
        "df.Status.unique()"
      ],
      "metadata": {
        "colab": {
          "base_uri": "https://localhost:8080/"
        },
        "id": "z1ut5wf4XykK",
        "outputId": "0f4eeb94-12c7-4c99-b959-7f396f51b98f"
      },
      "execution_count": null,
      "outputs": [
        {
          "output_type": "execute_result",
          "data": {
            "text/plain": [
              "array([1, 2])"
            ]
          },
          "metadata": {},
          "execution_count": 14
        }
      ]
    },
    {
      "cell_type": "code",
      "source": [
        "df.Status = df.Status.replace({2: 0})"
      ],
      "metadata": {
        "id": "_6FZUJSjk5Uh"
      },
      "execution_count": null,
      "outputs": []
    },
    {
      "cell_type": "code",
      "source": [
        "df.Status.unique()"
      ],
      "metadata": {
        "colab": {
          "base_uri": "https://localhost:8080/"
        },
        "id": "fM_TI8Mbl6w6",
        "outputId": "7a38b726-2b50-4291-927e-803b94c37027"
      },
      "execution_count": null,
      "outputs": [
        {
          "output_type": "execute_result",
          "data": {
            "text/plain": [
              "array([1, 0])"
            ]
          },
          "metadata": {},
          "execution_count": 16
        }
      ]
    },
    {
      "cell_type": "code",
      "source": [
        "df.info()"
      ],
      "metadata": {
        "colab": {
          "base_uri": "https://localhost:8080/"
        },
        "id": "i1hBJr0RRsrw",
        "outputId": "d84b9e4d-200b-40df-e063-d709409b1b25"
      },
      "execution_count": null,
      "outputs": [
        {
          "output_type": "stream",
          "name": "stdout",
          "text": [
            "<class 'pandas.core.frame.DataFrame'>\n",
            "RangeIndex: 3150 entries, 0 to 3149\n",
            "Data columns (total 14 columns):\n",
            " #   Column                   Non-Null Count  Dtype  \n",
            "---  ------                   --------------  -----  \n",
            " 0   Call  Failure            3150 non-null   int64  \n",
            " 1   Complains                3150 non-null   int64  \n",
            " 2   Subscription  Length     3150 non-null   int64  \n",
            " 3   Charge  Amount           3150 non-null   int64  \n",
            " 4   Seconds of Use           3150 non-null   int64  \n",
            " 5   Frequency of use         3150 non-null   int64  \n",
            " 6   Frequency of SMS         3150 non-null   int64  \n",
            " 7   Distinct Called Numbers  3150 non-null   int64  \n",
            " 8   Age Group                3150 non-null   int64  \n",
            " 9   Tariff Plan              3150 non-null   int64  \n",
            " 10  Status                   3150 non-null   int64  \n",
            " 11  Age                      3150 non-null   int64  \n",
            " 12  Customer Value           3150 non-null   float64\n",
            " 13  Churn                    3150 non-null   int64  \n",
            "dtypes: float64(1), int64(13)\n",
            "memory usage: 344.7 KB\n"
          ]
        }
      ]
    },
    {
      "cell_type": "code",
      "source": [
        "# Gives us a statistical summary of the dataset\n",
        "df.describe().transpose()"
      ],
      "metadata": {
        "id": "6XwiAOs9Ruxf",
        "colab": {
          "base_uri": "https://localhost:8080/",
          "height": 488
        },
        "outputId": "16178356-2098-4ce2-8176-3e38e09681f3"
      },
      "execution_count": null,
      "outputs": [
        {
          "output_type": "execute_result",
          "data": {
            "text/plain": [
              "                          count         mean          std   min         25%  \\\n",
              "Call  Failure            3150.0     7.627937     7.263886   0.0     1.00000   \n",
              "Complains                3150.0     0.076508     0.265851   0.0     0.00000   \n",
              "Subscription  Length     3150.0    32.541905     8.573482   3.0    30.00000   \n",
              "Charge  Amount           3150.0     0.942857     1.521072   0.0     0.00000   \n",
              "Seconds of Use           3150.0  4472.459683  4197.908687   0.0  1391.25000   \n",
              "Frequency of use         3150.0    69.460635    57.413308   0.0    27.00000   \n",
              "Frequency of SMS         3150.0    73.174921   112.237560   0.0     6.00000   \n",
              "Distinct Called Numbers  3150.0    23.509841    17.217337   0.0    10.00000   \n",
              "Age Group                3150.0     2.826032     0.892555   1.0     2.00000   \n",
              "Tariff Plan              3150.0     1.077778     0.267864   1.0     1.00000   \n",
              "Status                   3150.0     0.751746     0.432069   0.0     1.00000   \n",
              "Age                      3150.0    30.998413     8.831095  15.0    25.00000   \n",
              "Customer Value           3150.0   470.972916   517.015433   0.0   113.80125   \n",
              "Churn                    3150.0     0.157143     0.363993   0.0     0.00000   \n",
              "\n",
              "                             50%         75%       max  \n",
              "Call  Failure               6.00    12.00000     36.00  \n",
              "Complains                   0.00     0.00000      1.00  \n",
              "Subscription  Length       35.00    38.00000     47.00  \n",
              "Charge  Amount              0.00     1.00000     10.00  \n",
              "Seconds of Use           2990.00  6478.25000  17090.00  \n",
              "Frequency of use           54.00    95.00000    255.00  \n",
              "Frequency of SMS           21.00    87.00000    522.00  \n",
              "Distinct Called Numbers    21.00    34.00000     97.00  \n",
              "Age Group                   3.00     3.00000      5.00  \n",
              "Tariff Plan                 1.00     1.00000      2.00  \n",
              "Status                      1.00     1.00000      1.00  \n",
              "Age                        30.00    30.00000     55.00  \n",
              "Customer Value            228.48   788.38875   2165.28  \n",
              "Churn                       0.00     0.00000      1.00  "
            ],
            "text/html": [
              "\n",
              "  <div id=\"df-8a8a47dd-5255-4573-bf04-bda39f8e9afb\" class=\"colab-df-container\">\n",
              "    <div>\n",
              "<style scoped>\n",
              "    .dataframe tbody tr th:only-of-type {\n",
              "        vertical-align: middle;\n",
              "    }\n",
              "\n",
              "    .dataframe tbody tr th {\n",
              "        vertical-align: top;\n",
              "    }\n",
              "\n",
              "    .dataframe thead th {\n",
              "        text-align: right;\n",
              "    }\n",
              "</style>\n",
              "<table border=\"1\" class=\"dataframe\">\n",
              "  <thead>\n",
              "    <tr style=\"text-align: right;\">\n",
              "      <th></th>\n",
              "      <th>count</th>\n",
              "      <th>mean</th>\n",
              "      <th>std</th>\n",
              "      <th>min</th>\n",
              "      <th>25%</th>\n",
              "      <th>50%</th>\n",
              "      <th>75%</th>\n",
              "      <th>max</th>\n",
              "    </tr>\n",
              "  </thead>\n",
              "  <tbody>\n",
              "    <tr>\n",
              "      <th>Call  Failure</th>\n",
              "      <td>3150.0</td>\n",
              "      <td>7.627937</td>\n",
              "      <td>7.263886</td>\n",
              "      <td>0.0</td>\n",
              "      <td>1.00000</td>\n",
              "      <td>6.00</td>\n",
              "      <td>12.00000</td>\n",
              "      <td>36.00</td>\n",
              "    </tr>\n",
              "    <tr>\n",
              "      <th>Complains</th>\n",
              "      <td>3150.0</td>\n",
              "      <td>0.076508</td>\n",
              "      <td>0.265851</td>\n",
              "      <td>0.0</td>\n",
              "      <td>0.00000</td>\n",
              "      <td>0.00</td>\n",
              "      <td>0.00000</td>\n",
              "      <td>1.00</td>\n",
              "    </tr>\n",
              "    <tr>\n",
              "      <th>Subscription  Length</th>\n",
              "      <td>3150.0</td>\n",
              "      <td>32.541905</td>\n",
              "      <td>8.573482</td>\n",
              "      <td>3.0</td>\n",
              "      <td>30.00000</td>\n",
              "      <td>35.00</td>\n",
              "      <td>38.00000</td>\n",
              "      <td>47.00</td>\n",
              "    </tr>\n",
              "    <tr>\n",
              "      <th>Charge  Amount</th>\n",
              "      <td>3150.0</td>\n",
              "      <td>0.942857</td>\n",
              "      <td>1.521072</td>\n",
              "      <td>0.0</td>\n",
              "      <td>0.00000</td>\n",
              "      <td>0.00</td>\n",
              "      <td>1.00000</td>\n",
              "      <td>10.00</td>\n",
              "    </tr>\n",
              "    <tr>\n",
              "      <th>Seconds of Use</th>\n",
              "      <td>3150.0</td>\n",
              "      <td>4472.459683</td>\n",
              "      <td>4197.908687</td>\n",
              "      <td>0.0</td>\n",
              "      <td>1391.25000</td>\n",
              "      <td>2990.00</td>\n",
              "      <td>6478.25000</td>\n",
              "      <td>17090.00</td>\n",
              "    </tr>\n",
              "    <tr>\n",
              "      <th>Frequency of use</th>\n",
              "      <td>3150.0</td>\n",
              "      <td>69.460635</td>\n",
              "      <td>57.413308</td>\n",
              "      <td>0.0</td>\n",
              "      <td>27.00000</td>\n",
              "      <td>54.00</td>\n",
              "      <td>95.00000</td>\n",
              "      <td>255.00</td>\n",
              "    </tr>\n",
              "    <tr>\n",
              "      <th>Frequency of SMS</th>\n",
              "      <td>3150.0</td>\n",
              "      <td>73.174921</td>\n",
              "      <td>112.237560</td>\n",
              "      <td>0.0</td>\n",
              "      <td>6.00000</td>\n",
              "      <td>21.00</td>\n",
              "      <td>87.00000</td>\n",
              "      <td>522.00</td>\n",
              "    </tr>\n",
              "    <tr>\n",
              "      <th>Distinct Called Numbers</th>\n",
              "      <td>3150.0</td>\n",
              "      <td>23.509841</td>\n",
              "      <td>17.217337</td>\n",
              "      <td>0.0</td>\n",
              "      <td>10.00000</td>\n",
              "      <td>21.00</td>\n",
              "      <td>34.00000</td>\n",
              "      <td>97.00</td>\n",
              "    </tr>\n",
              "    <tr>\n",
              "      <th>Age Group</th>\n",
              "      <td>3150.0</td>\n",
              "      <td>2.826032</td>\n",
              "      <td>0.892555</td>\n",
              "      <td>1.0</td>\n",
              "      <td>2.00000</td>\n",
              "      <td>3.00</td>\n",
              "      <td>3.00000</td>\n",
              "      <td>5.00</td>\n",
              "    </tr>\n",
              "    <tr>\n",
              "      <th>Tariff Plan</th>\n",
              "      <td>3150.0</td>\n",
              "      <td>1.077778</td>\n",
              "      <td>0.267864</td>\n",
              "      <td>1.0</td>\n",
              "      <td>1.00000</td>\n",
              "      <td>1.00</td>\n",
              "      <td>1.00000</td>\n",
              "      <td>2.00</td>\n",
              "    </tr>\n",
              "    <tr>\n",
              "      <th>Status</th>\n",
              "      <td>3150.0</td>\n",
              "      <td>0.751746</td>\n",
              "      <td>0.432069</td>\n",
              "      <td>0.0</td>\n",
              "      <td>1.00000</td>\n",
              "      <td>1.00</td>\n",
              "      <td>1.00000</td>\n",
              "      <td>1.00</td>\n",
              "    </tr>\n",
              "    <tr>\n",
              "      <th>Age</th>\n",
              "      <td>3150.0</td>\n",
              "      <td>30.998413</td>\n",
              "      <td>8.831095</td>\n",
              "      <td>15.0</td>\n",
              "      <td>25.00000</td>\n",
              "      <td>30.00</td>\n",
              "      <td>30.00000</td>\n",
              "      <td>55.00</td>\n",
              "    </tr>\n",
              "    <tr>\n",
              "      <th>Customer Value</th>\n",
              "      <td>3150.0</td>\n",
              "      <td>470.972916</td>\n",
              "      <td>517.015433</td>\n",
              "      <td>0.0</td>\n",
              "      <td>113.80125</td>\n",
              "      <td>228.48</td>\n",
              "      <td>788.38875</td>\n",
              "      <td>2165.28</td>\n",
              "    </tr>\n",
              "    <tr>\n",
              "      <th>Churn</th>\n",
              "      <td>3150.0</td>\n",
              "      <td>0.157143</td>\n",
              "      <td>0.363993</td>\n",
              "      <td>0.0</td>\n",
              "      <td>0.00000</td>\n",
              "      <td>0.00</td>\n",
              "      <td>0.00000</td>\n",
              "      <td>1.00</td>\n",
              "    </tr>\n",
              "  </tbody>\n",
              "</table>\n",
              "</div>\n",
              "    <div class=\"colab-df-buttons\">\n",
              "\n",
              "  <div class=\"colab-df-container\">\n",
              "    <button class=\"colab-df-convert\" onclick=\"convertToInteractive('df-8a8a47dd-5255-4573-bf04-bda39f8e9afb')\"\n",
              "            title=\"Convert this dataframe to an interactive table.\"\n",
              "            style=\"display:none;\">\n",
              "\n",
              "  <svg xmlns=\"http://www.w3.org/2000/svg\" height=\"24px\" viewBox=\"0 -960 960 960\">\n",
              "    <path d=\"M120-120v-720h720v720H120Zm60-500h600v-160H180v160Zm220 220h160v-160H400v160Zm0 220h160v-160H400v160ZM180-400h160v-160H180v160Zm440 0h160v-160H620v160ZM180-180h160v-160H180v160Zm440 0h160v-160H620v160Z\"/>\n",
              "  </svg>\n",
              "    </button>\n",
              "\n",
              "  <style>\n",
              "    .colab-df-container {\n",
              "      display:flex;\n",
              "      gap: 12px;\n",
              "    }\n",
              "\n",
              "    .colab-df-convert {\n",
              "      background-color: #E8F0FE;\n",
              "      border: none;\n",
              "      border-radius: 50%;\n",
              "      cursor: pointer;\n",
              "      display: none;\n",
              "      fill: #1967D2;\n",
              "      height: 32px;\n",
              "      padding: 0 0 0 0;\n",
              "      width: 32px;\n",
              "    }\n",
              "\n",
              "    .colab-df-convert:hover {\n",
              "      background-color: #E2EBFA;\n",
              "      box-shadow: 0px 1px 2px rgba(60, 64, 67, 0.3), 0px 1px 3px 1px rgba(60, 64, 67, 0.15);\n",
              "      fill: #174EA6;\n",
              "    }\n",
              "\n",
              "    .colab-df-buttons div {\n",
              "      margin-bottom: 4px;\n",
              "    }\n",
              "\n",
              "    [theme=dark] .colab-df-convert {\n",
              "      background-color: #3B4455;\n",
              "      fill: #D2E3FC;\n",
              "    }\n",
              "\n",
              "    [theme=dark] .colab-df-convert:hover {\n",
              "      background-color: #434B5C;\n",
              "      box-shadow: 0px 1px 3px 1px rgba(0, 0, 0, 0.15);\n",
              "      filter: drop-shadow(0px 1px 2px rgba(0, 0, 0, 0.3));\n",
              "      fill: #FFFFFF;\n",
              "    }\n",
              "  </style>\n",
              "\n",
              "    <script>\n",
              "      const buttonEl =\n",
              "        document.querySelector('#df-8a8a47dd-5255-4573-bf04-bda39f8e9afb button.colab-df-convert');\n",
              "      buttonEl.style.display =\n",
              "        google.colab.kernel.accessAllowed ? 'block' : 'none';\n",
              "\n",
              "      async function convertToInteractive(key) {\n",
              "        const element = document.querySelector('#df-8a8a47dd-5255-4573-bf04-bda39f8e9afb');\n",
              "        const dataTable =\n",
              "          await google.colab.kernel.invokeFunction('convertToInteractive',\n",
              "                                                    [key], {});\n",
              "        if (!dataTable) return;\n",
              "\n",
              "        const docLinkHtml = 'Like what you see? Visit the ' +\n",
              "          '<a target=\"_blank\" href=https://colab.research.google.com/notebooks/data_table.ipynb>data table notebook</a>'\n",
              "          + ' to learn more about interactive tables.';\n",
              "        element.innerHTML = '';\n",
              "        dataTable['output_type'] = 'display_data';\n",
              "        await google.colab.output.renderOutput(dataTable, element);\n",
              "        const docLink = document.createElement('div');\n",
              "        docLink.innerHTML = docLinkHtml;\n",
              "        element.appendChild(docLink);\n",
              "      }\n",
              "    </script>\n",
              "  </div>\n",
              "\n",
              "\n",
              "<div id=\"df-d2536d80-a5b7-41da-99ee-068f41811229\">\n",
              "  <button class=\"colab-df-quickchart\" onclick=\"quickchart('df-d2536d80-a5b7-41da-99ee-068f41811229')\"\n",
              "            title=\"Suggest charts.\"\n",
              "            style=\"display:none;\">\n",
              "\n",
              "<svg xmlns=\"http://www.w3.org/2000/svg\" height=\"24px\"viewBox=\"0 0 24 24\"\n",
              "     width=\"24px\">\n",
              "    <g>\n",
              "        <path d=\"M19 3H5c-1.1 0-2 .9-2 2v14c0 1.1.9 2 2 2h14c1.1 0 2-.9 2-2V5c0-1.1-.9-2-2-2zM9 17H7v-7h2v7zm4 0h-2V7h2v10zm4 0h-2v-4h2v4z\"/>\n",
              "    </g>\n",
              "</svg>\n",
              "  </button>\n",
              "\n",
              "<style>\n",
              "  .colab-df-quickchart {\n",
              "      --bg-color: #E8F0FE;\n",
              "      --fill-color: #1967D2;\n",
              "      --hover-bg-color: #E2EBFA;\n",
              "      --hover-fill-color: #174EA6;\n",
              "      --disabled-fill-color: #AAA;\n",
              "      --disabled-bg-color: #DDD;\n",
              "  }\n",
              "\n",
              "  [theme=dark] .colab-df-quickchart {\n",
              "      --bg-color: #3B4455;\n",
              "      --fill-color: #D2E3FC;\n",
              "      --hover-bg-color: #434B5C;\n",
              "      --hover-fill-color: #FFFFFF;\n",
              "      --disabled-bg-color: #3B4455;\n",
              "      --disabled-fill-color: #666;\n",
              "  }\n",
              "\n",
              "  .colab-df-quickchart {\n",
              "    background-color: var(--bg-color);\n",
              "    border: none;\n",
              "    border-radius: 50%;\n",
              "    cursor: pointer;\n",
              "    display: none;\n",
              "    fill: var(--fill-color);\n",
              "    height: 32px;\n",
              "    padding: 0;\n",
              "    width: 32px;\n",
              "  }\n",
              "\n",
              "  .colab-df-quickchart:hover {\n",
              "    background-color: var(--hover-bg-color);\n",
              "    box-shadow: 0 1px 2px rgba(60, 64, 67, 0.3), 0 1px 3px 1px rgba(60, 64, 67, 0.15);\n",
              "    fill: var(--button-hover-fill-color);\n",
              "  }\n",
              "\n",
              "  .colab-df-quickchart-complete:disabled,\n",
              "  .colab-df-quickchart-complete:disabled:hover {\n",
              "    background-color: var(--disabled-bg-color);\n",
              "    fill: var(--disabled-fill-color);\n",
              "    box-shadow: none;\n",
              "  }\n",
              "\n",
              "  .colab-df-spinner {\n",
              "    border: 2px solid var(--fill-color);\n",
              "    border-color: transparent;\n",
              "    border-bottom-color: var(--fill-color);\n",
              "    animation:\n",
              "      spin 1s steps(1) infinite;\n",
              "  }\n",
              "\n",
              "  @keyframes spin {\n",
              "    0% {\n",
              "      border-color: transparent;\n",
              "      border-bottom-color: var(--fill-color);\n",
              "      border-left-color: var(--fill-color);\n",
              "    }\n",
              "    20% {\n",
              "      border-color: transparent;\n",
              "      border-left-color: var(--fill-color);\n",
              "      border-top-color: var(--fill-color);\n",
              "    }\n",
              "    30% {\n",
              "      border-color: transparent;\n",
              "      border-left-color: var(--fill-color);\n",
              "      border-top-color: var(--fill-color);\n",
              "      border-right-color: var(--fill-color);\n",
              "    }\n",
              "    40% {\n",
              "      border-color: transparent;\n",
              "      border-right-color: var(--fill-color);\n",
              "      border-top-color: var(--fill-color);\n",
              "    }\n",
              "    60% {\n",
              "      border-color: transparent;\n",
              "      border-right-color: var(--fill-color);\n",
              "    }\n",
              "    80% {\n",
              "      border-color: transparent;\n",
              "      border-right-color: var(--fill-color);\n",
              "      border-bottom-color: var(--fill-color);\n",
              "    }\n",
              "    90% {\n",
              "      border-color: transparent;\n",
              "      border-bottom-color: var(--fill-color);\n",
              "    }\n",
              "  }\n",
              "</style>\n",
              "\n",
              "  <script>\n",
              "    async function quickchart(key) {\n",
              "      const quickchartButtonEl =\n",
              "        document.querySelector('#' + key + ' button');\n",
              "      quickchartButtonEl.disabled = true;  // To prevent multiple clicks.\n",
              "      quickchartButtonEl.classList.add('colab-df-spinner');\n",
              "      try {\n",
              "        const charts = await google.colab.kernel.invokeFunction(\n",
              "            'suggestCharts', [key], {});\n",
              "      } catch (error) {\n",
              "        console.error('Error during call to suggestCharts:', error);\n",
              "      }\n",
              "      quickchartButtonEl.classList.remove('colab-df-spinner');\n",
              "      quickchartButtonEl.classList.add('colab-df-quickchart-complete');\n",
              "    }\n",
              "    (() => {\n",
              "      let quickchartButtonEl =\n",
              "        document.querySelector('#df-d2536d80-a5b7-41da-99ee-068f41811229 button');\n",
              "      quickchartButtonEl.style.display =\n",
              "        google.colab.kernel.accessAllowed ? 'block' : 'none';\n",
              "    })();\n",
              "  </script>\n",
              "</div>\n",
              "    </div>\n",
              "  </div>\n"
            ]
          },
          "metadata": {},
          "execution_count": 18
        }
      ]
    },
    {
      "cell_type": "code",
      "source": [
        "# Gives us the rows and columns of the dataset\n",
        "df.shape"
      ],
      "metadata": {
        "id": "xcMOiR_uRy2P",
        "colab": {
          "base_uri": "https://localhost:8080/"
        },
        "outputId": "7d1d61ae-b494-49fd-efc6-39044d48c629"
      },
      "execution_count": null,
      "outputs": [
        {
          "output_type": "execute_result",
          "data": {
            "text/plain": [
              "(3150, 14)"
            ]
          },
          "metadata": {},
          "execution_count": 19
        }
      ]
    },
    {
      "cell_type": "code",
      "source": [
        "df.columns"
      ],
      "metadata": {
        "colab": {
          "base_uri": "https://localhost:8080/"
        },
        "id": "slTJL9LiR1Lc",
        "outputId": "c5eb9d00-c04f-46ad-9e31-fcf1dd632e50"
      },
      "execution_count": null,
      "outputs": [
        {
          "output_type": "execute_result",
          "data": {
            "text/plain": [
              "Index(['Call  Failure', 'Complains', 'Subscription  Length', 'Charge  Amount',\n",
              "       'Seconds of Use', 'Frequency of use', 'Frequency of SMS',\n",
              "       'Distinct Called Numbers', 'Age Group', 'Tariff Plan', 'Status', 'Age',\n",
              "       'Customer Value', 'Churn'],\n",
              "      dtype='object')"
            ]
          },
          "metadata": {},
          "execution_count": 20
        }
      ]
    },
    {
      "cell_type": "code",
      "source": [
        "sb.countplot(data = df , x =\"Age\")"
      ],
      "metadata": {
        "colab": {
          "base_uri": "https://localhost:8080/",
          "height": 467
        },
        "id": "BuhXy2d7Ud9z",
        "outputId": "08dbdfc3-9f5b-4a4d-ae13-eabc344f188d"
      },
      "execution_count": null,
      "outputs": [
        {
          "output_type": "execute_result",
          "data": {
            "text/plain": [
              "<Axes: xlabel='Age', ylabel='count'>"
            ]
          },
          "metadata": {},
          "execution_count": 21
        },
        {
          "output_type": "display_data",
          "data": {
            "text/plain": [
              "<Figure size 640x480 with 1 Axes>"
            ],
            "image/png": "[encoded data removed]"
          },
          "metadata": {}
        }
      ]
    },
    {
      "cell_type": "code",
      "source": [
        "pd.crosstab(df[\"Charge  Amount\"] , df.Churn).plot(kind = \"bar\");"
      ],
      "metadata": {
        "colab": {
          "base_uri": "https://localhost:8080/",
          "height": 455
        },
        "id": "yb-hfgJSj3fq",
        "outputId": "5650ccbd-2c02-471d-e378-380425867b00"
      },
      "execution_count": null,
      "outputs": [
        {
          "output_type": "display_data",
          "data": {
            "text/plain": [
              "<Figure size 640x480 with 1 Axes>"
            ],
            "image/png": "[encoded data removed]"
          },
          "metadata": {}
        }
      ]
    },
    {
      "cell_type": "code",
      "source": [
        "\n",
        "# Calculate the proportion of churned customers within each age group\n",
        "age_group_churn_proportions = df.groupby('Age Group')['Churn'].mean()\n",
        "\n",
        "# Create the bar plot\n",
        "plt.figure(figsize=(10, 6))\n",
        "age_group_churn_proportions.plot(kind='bar')\n",
        "\n",
        "plt.title('Proportion of Churn by Age Group')\n",
        "plt.xlabel('Age Group')\n",
        "plt.ylabel('Proportion of Churn')\n",
        "\n",
        "plt.show()\n"
      ],
      "metadata": {
        "colab": {
          "base_uri": "https://localhost:8080/",
          "height": 559
        },
        "id": "4xFDQAlsUeBj",
        "outputId": "07012725-521f-48d0-f09e-9b43537d7c37"
      },
      "execution_count": null,
      "outputs": [
        {
          "output_type": "display_data",
          "data": {
            "text/plain": [
              "<Figure size 1000x600 with 1 Axes>"
            ],
            "image/png": "[encoded data removed]"
          },
          "metadata": {}
        }
      ]
    },
    {
      "cell_type": "code",
      "source": [
        "sb.lineplot(data = df , y = \"Tariff Plan\" , x = \"Age\" )"
      ],
      "metadata": {
        "colab": {
          "base_uri": "https://localhost:8080/",
          "height": 467
        },
        "id": "NuUZ1YBTUeFi",
        "outputId": "579acc61-2b44-4285-ff94-7902f0cce747"
      },
      "execution_count": null,
      "outputs": [
        {
          "output_type": "execute_result",
          "data": {
            "text/plain": [
              "<Axes: xlabel='Age', ylabel='Tariff Plan'>"
            ]
          },
          "metadata": {},
          "execution_count": 24
        },
        {
          "output_type": "display_data",
          "data": {
            "text/plain": [
              "<Figure size 640x480 with 1 Axes>"
            ],
            "image/png": "[encoded data removed]"
          },
          "metadata": {}
        }
      ]
    },
    {
      "cell_type": "code",
      "source": [
        "plt.figure(figsize = (12,12))\n",
        "plt.xticks(rotation = 90);\n",
        "sb.boxplot(df)\n"
      ],
      "metadata": {
        "colab": {
          "base_uri": "https://localhost:8080/",
          "height": 1000
        },
        "id": "7QXSdmfTkn3p",
        "outputId": "490ba14a-0129-454b-a1ad-59434e857aab"
      },
      "execution_count": null,
      "outputs": [
        {
          "output_type": "execute_result",
          "data": {
            "text/plain": [
              "<Axes: >"
            ]
          },
          "metadata": {},
          "execution_count": 25
        },
        {
          "output_type": "display_data",
          "data": {
            "text/plain": [
              "<Figure size 1200x1200 with 1 Axes>"
            ],
            "image/png": "[encoded data removed]"
          },
          "metadata": {}
        }
      ]
    },
    {
      "cell_type": "code",
      "source": [
        "df[\"Age Group\"].unique()"
      ],
      "metadata": {
        "id": "LowHmaDqUeJC",
        "colab": {
          "base_uri": "https://localhost:8080/"
        },
        "outputId": "0544c94e-6a5d-4ebe-8889-b0fc80ba145e"
      },
      "execution_count": null,
      "outputs": [
        {
          "output_type": "execute_result",
          "data": {
            "text/plain": [
              "array([3, 2, 1, 4, 5])"
            ]
          },
          "metadata": {},
          "execution_count": 26
        }
      ]
    },
    {
      "cell_type": "code",
      "source": [
        "df[\"Tariff Plan\"].unique()"
      ],
      "metadata": {
        "id": "xmBoOgOhUeMq",
        "colab": {
          "base_uri": "https://localhost:8080/"
        },
        "outputId": "e576ac00-fd35-4c9d-bd77-ba19322c411a"
      },
      "execution_count": null,
      "outputs": [
        {
          "output_type": "execute_result",
          "data": {
            "text/plain": [
              "array([1, 2])"
            ]
          },
          "metadata": {},
          "execution_count": 27
        }
      ]
    },
    {
      "cell_type": "code",
      "source": [
        "df.columns"
      ],
      "metadata": {
        "id": "wwPSAwgaUOtp",
        "colab": {
          "base_uri": "https://localhost:8080/"
        },
        "outputId": "5e71b5b4-5661-49db-c25a-ef671c1fa887"
      },
      "execution_count": null,
      "outputs": [
        {
          "output_type": "execute_result",
          "data": {
            "text/plain": [
              "Index(['Call  Failure', 'Complains', 'Subscription  Length', 'Charge  Amount',\n",
              "       'Seconds of Use', 'Frequency of use', 'Frequency of SMS',\n",
              "       'Distinct Called Numbers', 'Age Group', 'Tariff Plan', 'Status', 'Age',\n",
              "       'Customer Value', 'Churn'],\n",
              "      dtype='object')"
            ]
          },
          "metadata": {},
          "execution_count": 28
        }
      ]
    },
    {
      "cell_type": "code",
      "source": [
        "plot = px.box(df , x = \"Customer Value\")\n",
        "plot.show()"
      ],
      "metadata": {
        "colab": {
          "base_uri": "https://localhost:8080/",
          "height": 542
        },
        "id": "tycIN0srShlH",
        "outputId": "f3464a8c-fe22-4c51-b310-c4acce071c6a"
      },
      "execution_count": null,
      "outputs": [
        {
          "output_type": "display_data",
          "data": {
            "text/html": [
              "<html>\n",
              "<head><meta charset=\"utf-8\" /></head>\n",
              "<body>\n",
              "    <div>            <script src=\"https://cdnjs.cloudflare.com/ajax/libs/mathjax/2.7.5/MathJax.js?config=TeX-AMS-MML_SVG\"></script><script type=\"text/javascript\">if (window.MathJax && window.MathJax.Hub && window.MathJax.Hub.Config) {window.MathJax.Hub.Config({SVG: {font: \"STIX-Web\"}});}</script>                <script type=\"text/javascript\">window.PlotlyConfig = {MathJaxConfig: 'local'};</script>\n",
              "        <script charset=\"utf-8\" src=\"https://cdn.plot.ly/plotly-2.24.1.min.js\"></script>                <div id=\"c57cf4f1-8acc-4ba3-8aed-b6f1f023c610\" class=\"plotly-graph-div\" style=\"height:525px; width:100%;\"></div>            <script type=\"text/javascript\">                                    window.PLOTLYENV=window.PLOTLYENV || {};                                    if (document.getElementById(\"c57cf4f1-8acc-4ba3-8aed-b6f1f023c610\")) {                    Plotly.newPlot(                        \"c57cf4f1-8acc-4ba3-8aed-b6f1f023c610\",                        [{\"alignmentgroup\":\"True\",\"hovertemplate\":\"Customer Value=%{x}\\u003cextra\\u003e\\u003c\\u002fextra\\u003e\",\"legendgroup\":\"\",\"marker\":{\"color\":\"#636efa\"},\"name\":\"\",\"notched\":false,\"offsetgroup\":\"\",\"orientation\":\"h\",\"showlegend\":false,\"x\":[197.64,46.035,1536.52,240.02,145.805,282.28,1235.96,945.44,557.68,191.92,268.52,123.68,830.6,2056.88,1380.015,1007.44,40.005,80.96,0.0,2071.575,317.975,791.685,117.09,159.42,383.22,114.48,157.24,228.48,5.4,67.72,124.23,38.375,11.13,734.085,1538.145,180.0,220.36,914.985,929.295,115.175,77.625,73.375,142.065,163.44,203.445,676.53,410.1,239.92,1037.2,60.28,220.16,63.44,1559.04,270.985,144.63,304.8,1258.48,967.96,580.2,214.44,291.04,146.2,853.12,2079.4,1405.35,1029.96,65.34,103.48,25.335,1863.92,332.05,817.02,126.6,167.865,408.555,137.0,179.76,251.0,27.92,56.4,132.675,52.45,19.575,759.42,1389.76,182.52,242.88,940.32,848.56,129.25,91.52,87.45,167.4,185.96,228.78,701.865,254.505,262.44,1059.72,82.8,197.01,20.7,1703.25,231.055,131.34,259.76,1213.44,922.92,555.16,181.4,276.75,101.16,808.08,2034.36,1354.68,984.92,37.17,65.745,0.0,2046.24,486.24,766.35,91.755,261.625,357.885,111.96,151.56,205.96,0.0,65.2,192.975,24.3,0.0,731.25,1512.81,168.165,197.84,889.65,903.96,101.1,52.29,59.3,116.73,140.92,178.11,795.905,396.025,217.4,1014.68,57.76,240.92,84.2,1579.8,299.53,167.985,325.56,1279.24,988.72,600.96,235.2,311.8,166.96,873.88,2100.16,1428.705,1050.72,88.695,124.24,48.69,1884.68,345.025,840.375,147.36,175.65,431.91,157.76,200.52,271.76,48.68,69.375,140.46,65.425,27.36,782.775,1586.835,203.28,263.64,963.675,977.985,142.225,112.28,100.425,190.755,206.72,252.135,725.22,262.29,283.2,1080.48,103.56,196.155,0.0,1679.895,230.01,130.295,239.0,1192.68,902.16,554.4,180.64,266.895,88.4,787.32,2013.6,1331.325,964.16,36.315,42.39,0.0,2022.885,465.48,742.995,68.4,261.15,334.53,111.2,117.96,185.2,0.0,64.44,180.0,0.0,0.0,730.395,1489.455,167.31,177.08,866.295,880.605,88.125,28.935,27.5,93.375,128.16,154.755,767.36,383.05,196.64,993.92,57.0,268.44,111.72,1607.32,337.37,198.945,353.08,1306.76,1016.24,628.48,262.72,339.32,194.48,901.4,2127.68,1459.665,1078.24,119.655,151.76,79.65,1912.2,362.225,871.335,174.88,185.97,462.87,185.28,228.04,187.05,76.2,86.575,150.78,82.625,37.68,813.735,1438.04,230.8,291.16,994.635,896.84,95.655,139.8,117.625,221.715,234.24,251.64,756.18,272.61,310.72,1108.0,131.08,187.695,0.0,1648.935,219.67,119.955,237.915,1165.16,874.64,546.88,173.12,258.435,80.88,759.8,1986.08,1300.365,936.64,27.855,20.43,0.0,1991.925,453.96,712.035,37.44,256.45,303.57,103.68,124.245,157.68,0.0,0.0,165.3,0.0,0.0,721.935,1458.495,158.85,149.56,835.335,849.645,70.925,20.475,15.0,62.415,120.64,123.795,729.52,365.85,169.12,966.4,55.665,249.16,103.995,1588.04,310.86,216.645,333.8,1287.48,996.96,609.2,243.44,320.04,175.2,882.12,2108.4,1437.975,1058.96,97.965,132.48,57.96,2129.535,350.175,849.645,175.05,178.74,441.18,166.0,208.76,280.0,56.92,119.24,143.55,70.575,30.45,792.045,1596.105,237.96,271.88,972.945,987.255,147.375,135.585,105.575,200.025,214.96,261.405,734.49,442.3,291.44,1088.72,111.8,170.12,0.0,1485.0,224.18,124.465,230.76,1184.44,893.92,550.16,176.4,233.0,84.16,779.08,2005.36,1322.055,955.92,31.545,29.44,0.0,2013.615,285.775,733.725,59.13,155.1,325.26,106.96,113.72,176.96,0.0,60.2,104.91,0.0,0.0,725.625,1480.185,162.54,168.84,857.025,871.335,82.975,24.165,25.0,84.105,123.92,145.485,618.57,377.9,188.4,985.68,52.76,306.04,149.32,1644.92,389.07,241.245,390.68,1344.36,1053.84,666.08,300.32,376.92,232.08,939.0,2165.28,1501.965,1115.84,161.955,189.36,121.95,1949.8,385.725,913.635,212.48,200.07,505.17,222.88,265.64,336.88,113.8,110.075,164.88,106.125,51.78,856.035,1660.095,268.4,328.76,1036.935,1051.245,182.925,177.4,141.125,264.015,271.84,325.395,798.48,286.71,348.32,1145.6,168.68,172.395,0.0,1606.635,200.97,101.255,173.88,1127.56,837.04,533.28,159.52,243.135,67.28,722.2,1948.48,1258.065,899.04,12.555,5.13,0.0,1949.625,440.36,669.735,17.64,247.95,261.27,90.08,96.84,120.08,0.0,43.32,156.8,0.0,0.0,706.635,1416.195,143.55,111.96,793.035,807.345,47.425,5.175,0.0,29.115,107.04,81.495,677.82,342.35,131.52,928.8,35.88,330.48,173.76,1669.36,422.675,268.74,415.12,855.5,1078.28,690.52,324.76,401.36,256.52,963.44,1368.575,1529.46,1140.28,189.45,213.8,149.445,1974.24,401.0,941.13,236.92,209.235,473.48,247.32,290.08,225.825,138.24,125.35,174.045,121.4,60.945,883.53,1500.08,292.84,220.75,1064.43,958.88,118.92,201.84,156.4,291.51,296.28,313.68,825.975,295.875,372.76,1170.04,193.12,194.4,0.0,1579.14,227.865,128.15,168.12,1103.12,812.6,552.84,179.08,265.14,86.84,697.76,1924.04,1230.57,874.6,34.56,27.135,0.0,1922.13,459.92,642.24,39.645,260.175,260.775,109.64,130.95,95.64,0.0,62.88,169.025,12.85,0.0,728.64,1388.7,165.555,87.52,765.54,779.85,37.15,27.18,17.85,51.12,126.6,72.0,644.215,327.075,111.08,904.36,62.37,241.28,95.13,1580.16,300.025,205.81,325.92,1279.6,989.08,601.32,235.56,312.16,167.32,874.24,2100.52,1429.11,1051.08,89.1,124.6,49.095,2120.67,345.25,840.78,166.185,175.785,432.315,158.12,200.88,272.12,49.04,111.36,140.595,65.65,27.495,783.18,1587.24,229.095,264.0,964.08,978.39,142.45,126.72,100.65,191.16,207.08,252.54,725.58,437.35,283.52,1080.84,103.88,170.0,5.94,1492.88,224.015,124.3,238.64,1192.32,901.8,550.04,176.28,232.88,84.04,786.96,2013.24,1330.92,963.8,31.41,37.32,0.0,2022.48,290.7,742.59,67.995,155.055,334.125,106.84,113.6,184.84,0.0,60.08,107.865,11.1,0.0,725.49,1489.05,162.405,176.72,865.89,880.2,87.9,28.53,46.1,92.97,123.8,154.35,627.39,382.8,196.24,993.56,52.6,199.575,14.49,1692.315,234.19,134.475,281.295,1203.72,913.2,557.44,183.68,270.315,91.44,798.36,2024.64,1343.745,975.2,39.735,54.81,0.0,2035.305,476.52,755.415,80.82,263.05,346.95,114.24,140.625,196.24,0.0,67.48,186.9,18.225,8.575,733.815,1501.875,170.73,188.12,878.715,893.025,95.025,41.355,53.225,105.795,131.2,167.175,782.485,389.925,207.64,1004.96,67.5,229.88,73.16,1568.76,284.35,155.565,314.52,792.625,977.68,589.92,224.16,300.76,155.92,862.84,1305.7,1416.285,1039.68,76.275,113.2,36.0,1873.64,338.125,827.955,136.32,171.51,372.88,146.72,189.48,162.95,37.64,62.475,136.32,58.525,23.22,770.355,1399.48,192.24,157.875,951.255,858.28,81.195,101.24,93.525,178.335,195.68,213.08,712.755,258.135,272.12,1069.44,92.48,326.48,101.76,1597.36,323.675,187.74,343.12,1296.8,1006.28,618.52,252.76,329.36,184.52,891.44,2117.72,1448.46,1068.28,108.45,141.8,68.445,1902.24,356.0,860.13,164.92,182.235,451.665,175.32,218.08,289.32,66.24,80.35,147.045,76.4,33.945,802.53,1428.08,220.84,281.2,983.43,886.88,153.2,129.84,111.4,210.51,224.28,271.89,744.93,268.86,300.72,1098.04,121.08,167.4,0.0,1583.64,194.865,95.15,153.44,1107.12,816.6,528.84,155.08,238.14,62.84,701.76,1928.04,1235.07,878.6,7.56,0.0,0.0,1926.63,435.92,646.74,12.645,245.175,238.275,85.64,103.95,99.64,0.0,38.88,154.025,0.0,0.0,701.64,1393.2,138.555,91.52,770.04,784.35,34.65,0.0,0.0,24.12,102.6,58.5,649.66,329.55,111.04,908.36,31.4,197.64,46.035,1536.52,240.02,145.805,282.28,1235.96,945.44,557.68,191.92,268.52,123.68,830.6,2056.88,1380.015,1007.44,40.005,80.96,0.0,2071.575,317.975,791.685,117.09,159.42,383.22,114.48,157.24,228.48,5.4,67.72,124.23,38.375,11.13,734.085,1538.145,180.0,220.36,914.985,929.295,115.175,77.625,73.375,142.065,163.44,203.445,676.485,410.075,239.88,1037.2,60.24,197.64,46.035,1536.52,240.02,145.805,282.28,1235.96,945.44,557.68,191.92,268.52,123.68,830.6,2056.88,1380.015,1007.44,40.005,80.96,0.0,2071.575,317.975,791.685,117.09,159.42,383.22,114.48,157.24,228.48,5.4,67.72,124.23,38.375,11.13,734.085,1538.145,180.0,220.36,914.985,929.295,115.175,77.625,73.375,142.065,163.44,203.445,676.485,410.075,239.88,1037.2,60.24,185.85,0.0,1683.09,217.415,117.7,272.07,1195.52,905.0,545.24,171.48,256.59,83.24,790.16,2016.44,1334.52,967.0,26.01,45.585,0.0,2026.08,468.32,746.19,71.595,255.425,337.725,102.04,131.4,188.04,0.0,55.28,181.775,13.1,0.0,720.09,1492.65,157.005,179.92,869.49,883.8,89.9,32.13,48.1,96.57,123.0,157.95,771.265,384.825,199.48,996.76,53.82,202.185,25.875,1708.425,220.88,121.165,264.36,1218.04,927.52,547.76,174.0,281.925,105.76,812.68,2038.96,1359.855,989.52,28.845,70.92,0.0,2051.415,490.84,771.525,96.93,257.0,363.06,104.56,139.32,210.56,0.0,57.8,195.85,27.175,4.41,722.925,1517.985,159.84,202.44,894.825,909.135,103.975,57.465,62.175,121.905,145.52,183.285,802.23,398.9,222.0,1019.28,50.36,183.015,0.0,1657.755,175.05,114.235,246.735,1173.0,882.48,542.72,168.96,253.755,76.72,863.595,1993.92,1309.185,944.48,23.175,20.25,0.0,2000.745,449.8,720.855,46.26,253.85,312.39,99.52,119.565,165.52,0.0,52.76,167.7,10.56,0.0,717.255,1467.315,154.17,157.4,844.155,858.465,75.825,15.795,22.5,71.235,116.48,132.615,740.3,370.75,176.96,974.24,50.985,225.54,49.23,1731.78,199.575,149.71,285.12,1238.8,948.28,560.52,194.76,305.28,126.52,833.44,2059.72,1383.21,1010.28,43.2,94.275,13.5,2074.77,511.6,794.88,120.285,267.475,386.415,117.32,180.09,231.32,12.0,70.56,208.825,40.15,10.5,737.28,1541.34,183.195,223.2,918.18,932.49,116.95,80.82,75.15,145.26,166.28,206.64,830.775,411.875,242.76,1040.04,63.12,182.16,0.0,1634.4,212.905,113.19,223.38,1152.24,861.72,541.96,168.2,252.9,75.96,746.88,1973.16,1285.83,923.72,22.32,14.895,0.0,1977.39,449.04,697.5,27.405,253.375,289.035,98.76,118.71,144.76,0.0,52.0,162.225,0.0,0.0,716.4,1443.96,153.315,136.64,820.8,835.11,62.85,14.94,10.0,47.88,115.72,109.26,711.755,357.775,156.2,953.48,50.13,228.0,80.19,1566.88,281.765,187.55,312.64,1266.32,975.8,588.04,222.28,298.88,154.04,860.96,2087.24,1414.17,1037.8,74.16,111.32,36.0,2105.73,336.95,825.84,151.245,170.805,417.375,144.84,187.6,258.84,35.76,98.08,135.615,57.35,22.515,768.24,1572.3,214.155,250.72,949.14,963.45,134.15,111.78,92.35,176.22,193.8,237.6,710.685,429.075,270.28,1067.56,90.64,173.7,0.0,1603.44,202.565,102.85,192.42,1124.72,834.2,534.44,160.68,244.44,68.44,809.28,1945.64,1254.87,896.2,0.0,0.0,0.0,1946.43,441.52,666.54,18.945,248.675,258.075,91.24,110.25,117.24,0.0,0.0,157.525,0.0,0.0,707.94,1413.0,144.855,109.12,789.84,804.15,45.65,0.0,0.0,30.42,108.2,78.3,673.915,340.575,128.68,1041.705,0.0,234.81,58.5,1741.05,255.255,161.04,330.03,1247.04,956.52,568.76,203.0,314.55,134.76,841.68,2067.96,1392.48,1018.52,52.47,103.545,18.0,2084.04,519.84,804.15,129.555,272.625,395.685,125.56,189.36,239.56,16.48,78.8,213.975,45.3,15.285,746.55,1550.61,192.465,231.44,927.45,941.76,122.1,90.09,80.3,154.53,174.52,215.91,842.105,417.025,251.0,1048.28,80.28,177.39,0.0,1625.13,207.075,107.36,214.11,1144.0,853.48,537.72,163.96,248.13,71.72,738.64,1964.92,1276.56,915.48,0.0,0.0,0.0,1968.12,444.8,688.23,22.635,250.725,279.765,94.52,113.94,136.52,0.0,0.0,159.575,0.0,0.0,711.63,1434.69,148.545,128.4,811.53,825.84,57.7,10.17,7.5,38.61,111.48,99.99,700.425,352.625,147.96,945.24,45.36,298.8,122.49,1805.04,333.465,239.25,350.24,1303.92,1013.4,625.64,259.88,378.54,191.64,898.56,2124.84,1456.47,1075.4,116.46,167.535,76.455,2148.03,576.72,868.14,193.545,308.175,459.675,182.44,253.35,296.44,73.36,135.68,249.525,80.85,36.615,810.54,1614.6,256.455,288.32,991.44,1005.75,157.65,154.08,115.85,218.52,231.4,279.9,920.315,452.575,307.88,1105.16,128.24,158.4,0.0,1561.14,183.865,84.15,150.12,1087.12,796.6,520.84,147.08,229.14,54.84,681.76,1908.04,1212.57,858.6,0.0,0.0,0.0,1904.13,427.92,624.24,2.34,240.175,224.775,77.64,94.95,79.64,0.0,0.0,149.025,0.0,0.0,692.64,1370.7,129.555,71.52,747.54,829.035,22.15,0.0,0.0,0.0,94.6,0.0,622.215,317.075,91.08,888.36,0.0,290.04,133.32,1628.92,367.07,223.245,374.68,1328.36,1037.84,650.08,284.32,360.92,216.08,923.0,2149.28,1483.965,1099.84,143.955,173.36,112.5,1933.8,375.725,895.635,196.48,194.07,487.17,206.88,249.64,320.88,100.0,100.075,158.88,96.125,45.78,838.035,1642.095,252.4,312.76,1018.935,1033.245,172.925,161.4,131.125,246.015,255.84,307.395,780.48,280.71,332.32,1129.6,152.68,180.405,0.0,1533.645,210.76,111.045,154.125,1062.68,772.16,540.4,166.64,251.145,74.4,739.485,1883.6,1185.075,834.16,20.565,13.14,0.0,1876.635,447.48,596.745,25.65,252.4,246.78,97.2,116.955,75.2,0.0,50.44,161.25,0.0,0.0,714.645,1343.205,151.56,51.08,720.045,734.355,29.375,13.185,0.0,45.375,114.16,58.005,588.61,301.8,98.64,971.91,48.375,225.945,40.5,1732.185,244.42,150.205,321.165,1239.16,948.64,560.88,195.12,305.685,126.88,833.8,2060.08,1383.615,1010.64,43.605,94.68,9.0,2075.175,511.96,795.285,120.69,267.7,386.82,117.68,180.495,231.68,8.0,70.92,209.05,40.375,9.0,737.685,1541.745,183.6,223.56,918.585,932.895,117.175,81.225,75.375,145.665,166.64,207.045,831.215,412.075,243.08,1040.4,71.37,177.255,0.0,1633.995,169.29,107.195,222.975,1151.88,861.36,537.6,163.84,247.995,71.6,746.52,1972.8,1285.425,923.36,17.415,9.99,0.0,1976.985,444.68,697.095,22.5,250.65,288.63,94.4,113.805,144.4,0.0,47.64,159.5,0.0,0.0,711.495,1443.555,148.41,136.28,820.395,834.705,62.625,10.035,12.5,47.475,111.36,108.855,711.205,357.525,155.8,953.12,45.18,185.58,0.0,1646.82,217.085,117.37,235.8,1163.28,872.76,545.0,171.24,256.32,79.0,852.66,1984.2,1298.25,934.76,25.74,18.315,0.0,1989.81,452.08,709.92,35.325,255.275,301.455,101.8,122.13,155.8,0.0,55.04,164.125,0.0,0.0,719.82,1456.38,156.735,147.68,833.22,847.53,69.75,18.36,28.1,73.7,118.76,121.68,726.88,364.65,167.2,1085.085,53.505,189.44,32.72,1528.32,228.745,110.07,274.08,1227.76,937.24,549.48,183.72,260.32,115.48,822.4,2048.68,1370.79,999.24,30.78,72.76,4.5,1833.2,312.85,782.46,95.88,156.345,373.995,106.28,149.04,220.28,4.0,37.2,121.155,33.25,8.055,724.86,1528.92,151.8,212.16,905.76,920.07,110.05,60.8,68.25,132.84,155.24,194.22,667.26,242.97,231.68,1029.0,52.04,321.795,68.985,1751.535,268.07,173.855,302.68,1256.36,965.84,578.08,212.32,325.035,144.08,851.0,2077.28,1402.965,1027.84,62.955,114.03,4.5,2094.525,529.16,814.635,140.04,278.45,406.17,134.88,177.64,248.88,25.8,88.12,219.8,51.125,18.78,757.035,1561.095,202.95,240.76,937.935,952.245,127.925,100.575,86.125,165.015,183.84,226.395,854.865,422.825,260.28,1057.6,80.64,153.405,0.0,1538.145,177.76,78.045,127.125,1066.68,776.16,516.4,142.64,224.145,50.4,743.985,1887.6,1189.575,838.16,0.0,0.0,0.0,1881.135,423.48,601.245,0.0,237.4,219.78,73.2,89.955,59.2,0.0,26.44,146.25,0.0,0.0,687.645,1347.705,124.56,51.08,724.545,738.855,14.375,0.0,0.0,10.125,90.16,31.005,594.055,304.275,74.6,867.92,21.33,185.85,0.0,1683.09,217.415,117.7,272.07,1195.52,905.0,545.24,171.48,256.59,83.24,790.16,2016.44,1334.52,967.0,26.01,45.585,0.0,2026.08,468.32,746.19,71.595,255.425,337.725,102.04,131.4,188.04,0.0,55.28,181.775,13.1,0.0,720.09,1492.65,157.005,179.92,869.49,883.8,89.9,32.13,48.1,96.57,123.0,157.95,771.21,384.8,199.44,996.76,53.775,185.85,0.0,1683.09,217.415,117.7,272.07,1195.52,905.0,545.24,171.48,256.59,83.24,790.16,2016.44,1334.52,967.0,26.01,45.585,0.0,2026.08,468.32,746.19,71.595,255.425,337.725,102.04,131.4,188.04,0.0,55.28,181.775,13.1,0.0,720.09,1492.65,157.005,179.92,869.49,883.8,89.9,32.13,48.1,96.57,123.0,157.95,771.21,384.8,199.44,996.76,53.775,238.08,81.36,1576.96,295.625,164.79,322.72,1276.4,985.88,598.12,232.36,308.96,164.12,871.04,2097.32,1425.51,1047.88,85.5,121.4,45.495,1881.84,343.25,837.18,144.52,174.585,428.715,154.92,197.68,168.075,45.84,67.6,139.395,63.65,26.295,779.58,1407.68,200.44,260.8,960.48,866.48,84.27,109.44,98.65,187.56,203.88,221.28,722.025,261.225,280.36,1077.64,100.72,260.6,103.88,1599.48,326.59,190.125,345.24,811.825,1008.4,620.64,159.3,331.48,116.65,893.56,1324.9,1450.845,1070.4,110.835,143.92,62.96,1904.36,357.325,862.515,167.04,183.03,403.6,177.44,220.2,182.15,68.36,81.675,147.84,77.725,34.74,804.915,1430.2,222.96,177.075,985.815,889.0,92.715,131.96,112.725,212.895,226.4,243.8,747.36,269.67,302.88,1100.16,123.24,215.56,58.84,1554.44,286.66,152.955,300.2,1253.88,963.36,595.6,221.84,286.44,141.6,848.52,2074.8,1400.175,1025.36,82.665,98.88,45.495,1859.32,329.175,811.845,122.0,172.14,403.38,152.4,175.16,246.4,40.44,66.025,130.95,49.575,15.165,776.745,1558.305,189.92,238.28,935.145,949.455,126.375,86.92,84.575,162.225,181.36,223.605,696.69,252.78,257.84,1055.12,98.2,281.36,124.64,1620.24,355.135,213.48,366.0,824.8,1029.16,641.4,275.64,352.24,207.4,914.32,1337.875,1474.2,1091.16,134.19,164.68,94.185,1925.12,370.3,885.87,187.8,190.815,424.36,198.2,240.96,195.125,89.12,94.65,155.625,90.7,42.525,828.27,1450.96,243.72,190.05,1009.17,909.76,100.5,152.72,125.7,236.25,247.16,264.56,770.715,277.455,323.64,1120.92,144.0,214.8,40.44,1533.68,233.685,152.1,279.44,1233.12,942.6,594.84,221.08,277.68,128.84,827.76,2054.04,1376.82,1004.6,81.81,78.12,45.495,1838.56,316.2,788.49,101.24,171.855,380.025,151.64,158.4,225.64,40.44,65.55,123.165,25.275,15.165,775.89,1364.4,189.16,217.52,911.79,823.2,113.4,66.16,52.775,138.87,168.6,200.25,673.335,244.995,237.08,1034.36,97.44,308.88,152.16,1647.76,392.975,244.44,393.52,842.0,1056.68,668.92,189.475,379.76,146.825,941.84,1355.075,1505.16,699.175,146.8,192.2,111.24,1952.64,387.5,916.83,215.32,201.135,451.88,141.075,268.48,212.325,116.64,111.85,165.945,107.9,52.845,859.23,1478.48,271.24,207.25,1040.13,937.28,110.82,180.24,142.9,267.21,171.675,292.08,801.675,287.775,219.475,1148.44,171.52,207.28,45.495,1506.16,225.225,175.56,251.92,1205.6,915.08,587.32,213.56,270.16,121.32,800.24,2026.52,1345.86,977.08,73.35,58.6,45.495,2037.42,309.0,757.53,82.935,169.035,349.065,144.12,150.88,198.12,40.44,40.44,114.345,25.275,15.165,767.43,1503.99,204.345,190.0,880.83,895.14,96.2,65.97,40.275,107.91,161.08,169.29,642.375,391.125,209.56,1006.84,89.92,289.6,132.88,1628.48,366.465,222.75,374.24,1327.92,1037.4,649.64,283.88,360.48,215.64,922.56,2148.84,1483.47,1099.4,143.46,172.92,103.455,1933.36,375.45,895.14,196.04,193.905,486.675,206.44,249.2,200.275,97.36,99.8,158.715,95.85,45.615,837.54,1459.2,251.96,312.32,1018.44,918.0,103.59,160.96,130.85,245.52,255.4,272.8,779.985,280.545,331.88,1129.16,152.24,210.56,40.44,1525.44,279.785,147.33,271.2,1224.88,934.36,590.6,216.84,273.44,124.6,819.52,2045.8,1367.55,996.36,77.04,69.88,45.495,1830.32,311.05,779.22,93.0,170.265,370.755,147.4,154.16,135.875,40.44,62.9,120.075,25.275,15.165,771.12,1356.16,184.92,209.28,902.52,814.96,64.95,61.92,50.275,129.6,164.36,169.76,664.065,241.905,228.84,1026.12,93.2,346.48,189.76,1685.36,444.675,286.74,431.12,865.5,1094.28,706.52,340.76,417.36,272.52,979.44,1378.575,1547.46,1156.28,207.45,229.8,167.445,1990.24,411.0,959.13,252.92,215.235,489.48,263.32,306.08,235.825,154.24,135.35,180.045,131.4,66.945,901.53,1516.08,308.84,230.75,1082.43,974.88,124.92,217.84,166.4,309.51,312.28,329.68,843.975,301.875,388.76,1186.04,209.12,193.68,40.44,1468.56,256.575,128.34,214.32,1168.0,877.48,573.72,199.96,256.56,107.72,762.64,1988.92,1303.56,939.48,58.05,45.0,45.495,1773.44,300.5,715.23,56.12,163.935,306.765,130.52,137.28,160.52,40.44,52.35,109.245,25.275,15.165,752.13,1299.28,168.04,152.4,838.53,758.08,72.7,45.04,25.275,74.61,147.48,126.99,600.075,220.575,171.96,969.24,76.32,370.92,214.2,1709.8,478.28,314.235,455.56,880.775,1118.72,730.96,228.25,441.8,185.6,1003.88,1393.85,1399.96,737.95,208.84,254.24,173.28,2014.68,426.275,877.0,277.36,224.4,513.92,179.85,330.52,251.1,178.68,150.625,189.21,146.675,76.11,929.025,1540.52,333.28,246.025,986.6,999.32,134.085,242.28,181.675,337.005,210.45,354.12,871.47,311.04,258.25,1210.48,233.56,239.895,45.495,1624.635,283.47,183.755,189.88,1143.56,853.04,593.28,219.52,310.635,127.28,738.2,1964.48,1276.065,915.04,80.055,72.63,45.495,1967.625,500.36,687.735,85.14,285.45,306.27,150.08,156.84,136.08,40.44,103.32,194.3,38.125,15.165,774.135,1434.195,211.05,127.96,811.035,825.345,62.425,72.675,43.125,96.615,167.04,117.495,699.82,352.35,151.52,944.8,95.88,281.72,125.0,1620.6,355.63,213.885,366.36,1320.04,1029.52,641.76,276.0,352.6,207.76,914.68,2140.96,1474.605,1091.52,134.595,165.04,94.59,1925.48,370.525,886.275,188.16,190.95,477.81,198.56,241.32,195.35,89.48,94.875,155.76,90.925,42.66,828.675,1451.32,244.08,304.44,1009.575,910.12,100.635,153.08,125.925,236.655,247.52,264.92,771.075,277.575,323.96,1121.28,144.32,194.44,37.72,1533.32,241.12,115.695,279.08,1232.76,942.24,562.48,188.72,265.32,120.48,827.4,2053.68,1376.415,1004.24,45.405,77.76,0.0,1838.2,315.975,788.085,100.88,159.72,379.62,119.28,154.04,140.8,10.2,45.325,123.03,36.375,9.93,739.485,1364.04,156.8,217.16,911.385,822.84,67.905,65.8,71.375,138.465,160.24,177.64,672.885,244.845,236.68,1034.0,65.04,231.57,55.26,1737.81,251.295,157.08,290.48,1244.16,953.64,569.88,200.12,311.31,131.88,838.8,2065.08,1389.24,1015.64,53.73,100.305,0.0,2080.8,516.96,800.91,126.315,270.825,392.445,126.68,165.44,236.68,17.6,79.92,212.175,43.5,14.205,747.81,1547.37,189.225,228.56,924.21,938.52,120.3,86.85,78.5,151.29,171.64,212.67,838.09,415.2,248.08,1045.4,72.44,270.32,113.6,1609.2,339.955,201.06,354.96,817.9,1018.12,630.36,165.375,341.2,122.725,903.28,1330.975,1299.36,675.075,108.24,153.64,72.68,1914.08,363.4,776.4,176.76,186.675,413.32,116.975,229.92,188.225,78.08,87.75,151.485,83.8,38.385,815.85,1439.92,232.68,183.15,886.0,898.72,96.36,141.68,118.8,223.83,147.575,253.52,758.25,273.3,195.35,1109.88,132.92,366.92,142.2,1637.8,379.28,233.235,383.56,835.775,1046.72,658.96,183.25,369.8,140.6,931.88,1348.85,1493.955,1108.72,153.945,182.24,101.28,1942.68,381.275,905.625,205.36,197.4,441.92,215.76,258.52,206.1,106.68,105.625,162.21,101.675,49.11,848.025,1468.52,261.28,201.025,1028.925,927.32,107.085,170.28,136.675,256.005,264.72,282.12,790.425,284.025,341.16,1138.48,161.52,161.24,0.0,1448.12,211.97,91.845,193.88,1147.56,857.04,541.28,167.52,224.12,75.28,742.2,1968.48,1280.565,919.04,21.555,12.56,0.0,1753.0,280.225,692.235,23.68,151.77,283.77,98.08,104.84,140.08,0.0,32.075,97.08,5.625,0.0,715.635,1438.695,135.6,131.96,815.535,829.845,59.925,12.6,18.125,42.615,115.04,103.995,577.035,212.895,151.48,948.8,43.84,238.08,81.36,1576.96,295.625,164.79,322.72,1276.4,985.88,598.12,232.36,308.96,164.12,871.04,2097.32,1425.51,1047.88,85.5,121.4,45.495,1881.84,343.25,837.18,144.52,174.585,428.715,154.92,197.68,168.075,45.84,67.6,139.395,63.65,26.295,779.58,1407.68,200.44,260.8,960.48,866.48,84.27,109.44,98.65,187.56,203.88,221.28,721.98,261.21,280.32,1077.64,100.68,238.08,81.36,1576.96,295.625,164.79,322.72,1276.4,985.88,598.12,232.36,308.96,164.12,871.04,2097.32,1425.51,1047.88,85.5,121.4,45.495,1881.84,343.25,837.18,144.52,174.585,428.715,154.92,197.68,168.075,45.84,67.6,139.395,63.65,26.295,779.58,1407.68,200.44,260.8,960.48,866.48,84.27,109.44,98.65,187.56,203.88,221.28,721.98,261.21,280.32,1077.64,100.68],\"x0\":\" \",\"xaxis\":\"x\",\"y0\":\" \",\"yaxis\":\"y\",\"type\":\"box\"}],                        {\"template\":{\"data\":{\"histogram2dcontour\":[{\"type\":\"histogram2dcontour\",\"colorbar\":{\"outlinewidth\":0,\"ticks\":\"\"},\"colorscale\":[[0.0,\"#0d0887\"],[0.1111111111111111,\"#46039f\"],[0.2222222222222222,\"#7201a8\"],[0.3333333333333333,\"#9c179e\"],[0.4444444444444444,\"#bd3786\"],[0.5555555555555556,\"#d8576b\"],[0.6666666666666666,\"#ed7953\"],[0.7777777777777778,\"#fb9f3a\"],[0.8888888888888888,\"#fdca26\"],[1.0,\"#f0f921\"]]}],\"choropleth\":[{\"type\":\"choropleth\",\"colorbar\":{\"outlinewidth\":0,\"ticks\":\"\"}}],\"histogram2d\":[{\"type\":\"histogram2d\",\"colorbar\":{\"outlinewidth\":0,\"ticks\":\"\"},\"colorscale\":[[0.0,\"#0d0887\"],[0.1111111111111111,\"#46039f\"],[0.2222222222222222,\"#7201a8\"],[0.3333333333333333,\"#9c179e\"],[0.4444444444444444,\"#bd3786\"],[0.5555555555555556,\"#d8576b\"],[0.6666666666666666,\"#ed7953\"],[0.7777777777777778,\"#fb9f3a\"],[0.8888888888888888,\"#fdca26\"],[1.0,\"#f0f921\"]]}],\"heatmap\":[{\"type\":\"heatmap\",\"colorbar\":{\"outlinewidth\":0,\"ticks\":\"\"},\"colorscale\":[[0.0,\"#0d0887\"],[0.1111111111111111,\"#46039f\"],[0.2222222222222222,\"#7201a8\"],[0.3333333333333333,\"#9c179e\"],[0.4444444444444444,\"#bd3786\"],[0.5555555555555556,\"#d8576b\"],[0.6666666666666666,\"#ed7953\"],[0.7777777777777778,\"#fb9f3a\"],[0.8888888888888888,\"#fdca26\"],[1.0,\"#f0f921\"]]}],\"heatmapgl\":[{\"type\":\"heatmapgl\",\"colorbar\":{\"outlinewidth\":0,\"ticks\":\"\"},\"colorscale\":[[0.0,\"#0d0887\"],[0.1111111111111111,\"#46039f\"],[0.2222222222222222,\"#7201a8\"],[0.3333333333333333,\"#9c179e\"],[0.4444444444444444,\"#bd3786\"],[0.5555555555555556,\"#d8576b\"],[0.6666666666666666,\"#ed7953\"],[0.7777777777777778,\"#fb9f3a\"],[0.8888888888888888,\"#fdca26\"],[1.0,\"#f0f921\"]]}],\"contourcarpet\":[{\"type\":\"contourcarpet\",\"colorbar\":{\"outlinewidth\":0,\"ticks\":\"\"}}],\"contour\":[{\"type\":\"contour\",\"colorbar\":{\"outlinewidth\":0,\"ticks\":\"\"},\"colorscale\":[[0.0,\"#0d0887\"],[0.1111111111111111,\"#46039f\"],[0.2222222222222222,\"#7201a8\"],[0.3333333333333333,\"#9c179e\"],[0.4444444444444444,\"#bd3786\"],[0.5555555555555556,\"#d8576b\"],[0.6666666666666666,\"#ed7953\"],[0.7777777777777778,\"#fb9f3a\"],[0.8888888888888888,\"#fdca26\"],[1.0,\"#f0f921\"]]}],\"surface\":[{\"type\":\"surface\",\"colorbar\":{\"outlinewidth\":0,\"ticks\":\"\"},\"colorscale\":[[0.0,\"#0d0887\"],[0.1111111111111111,\"#46039f\"],[0.2222222222222222,\"#7201a8\"],[0.3333333333333333,\"#9c179e\"],[0.4444444444444444,\"#bd3786\"],[0.5555555555555556,\"#d8576b\"],[0.6666666666666666,\"#ed7953\"],[0.7777777777777778,\"#fb9f3a\"],[0.8888888888888888,\"#fdca26\"],[1.0,\"#f0f921\"]]}],\"mesh3d\":[{\"type\":\"mesh3d\",\"colorbar\":{\"outlinewidth\":0,\"ticks\":\"\"}}],\"scatter\":[{\"fillpattern\":{\"fillmode\":\"overlay\",\"size\":10,\"solidity\":0.2},\"type\":\"scatter\"}],\"parcoords\":[{\"type\":\"parcoords\",\"line\":{\"colorbar\":{\"outlinewidth\":0,\"ticks\":\"\"}}}],\"scatterpolargl\":[{\"type\":\"scatterpolargl\",\"marker\":{\"colorbar\":{\"outlinewidth\":0,\"ticks\":\"\"}}}],\"bar\":[{\"error_x\":{\"color\":\"#2a3f5f\"},\"error_y\":{\"color\":\"#2a3f5f\"},\"marker\":{\"line\":{\"color\":\"#E5ECF6\",\"width\":0.5},\"pattern\":{\"fillmode\":\"overlay\",\"size\":10,\"solidity\":0.2}},\"type\":\"bar\"}],\"scattergeo\":[{\"type\":\"scattergeo\",\"marker\":{\"colorbar\":{\"outlinewidth\":0,\"ticks\":\"\"}}}],\"scatterpolar\":[{\"type\":\"scatterpolar\",\"marker\":{\"colorbar\":{\"outlinewidth\":0,\"ticks\":\"\"}}}],\"histogram\":[{\"marker\":{\"pattern\":{\"fillmode\":\"overlay\",\"size\":10,\"solidity\":0.2}},\"type\":\"histogram\"}],\"scattergl\":[{\"type\":\"scattergl\",\"marker\":{\"colorbar\":{\"outlinewidth\":0,\"ticks\":\"\"}}}],\"scatter3d\":[{\"type\":\"scatter3d\",\"line\":{\"colorbar\":{\"outlinewidth\":0,\"ticks\":\"\"}},\"marker\":{\"colorbar\":{\"outlinewidth\":0,\"ticks\":\"\"}}}],\"scattermapbox\":[{\"type\":\"scattermapbox\",\"marker\":{\"colorbar\":{\"outlinewidth\":0,\"ticks\":\"\"}}}],\"scatterternary\":[{\"type\":\"scatterternary\",\"marker\":{\"colorbar\":{\"outlinewidth\":0,\"ticks\":\"\"}}}],\"scattercarpet\":[{\"type\":\"scattercarpet\",\"marker\":{\"colorbar\":{\"outlinewidth\":0,\"ticks\":\"\"}}}],\"carpet\":[{\"aaxis\":{\"endlinecolor\":\"#2a3f5f\",\"gridcolor\":\"white\",\"linecolor\":\"white\",\"minorgridcolor\":\"white\",\"startlinecolor\":\"#2a3f5f\"},\"baxis\":{\"endlinecolor\":\"#2a3f5f\",\"gridcolor\":\"white\",\"linecolor\":\"white\",\"minorgridcolor\":\"white\",\"startlinecolor\":\"#2a3f5f\"},\"type\":\"carpet\"}],\"table\":[{\"cells\":{\"fill\":{\"color\":\"#EBF0F8\"},\"line\":{\"color\":\"white\"}},\"header\":{\"fill\":{\"color\":\"#C8D4E3\"},\"line\":{\"color\":\"white\"}},\"type\":\"table\"}],\"barpolar\":[{\"marker\":{\"line\":{\"color\":\"#E5ECF6\",\"width\":0.5},\"pattern\":{\"fillmode\":\"overlay\",\"size\":10,\"solidity\":0.2}},\"type\":\"barpolar\"}],\"pie\":[{\"automargin\":true,\"type\":\"pie\"}]},\"layout\":{\"autotypenumbers\":\"strict\",\"colorway\":[\"#636efa\",\"#EF553B\",\"#00cc96\",\"#ab63fa\",\"#FFA15A\",\"#19d3f3\",\"#FF6692\",\"#B6E880\",\"#FF97FF\",\"#FECB52\"],\"font\":{\"color\":\"#2a3f5f\"},\"hovermode\":\"closest\",\"hoverlabel\":{\"align\":\"left\"},\"paper_bgcolor\":\"white\",\"plot_bgcolor\":\"#E5ECF6\",\"polar\":{\"bgcolor\":\"#E5ECF6\",\"angularaxis\":{\"gridcolor\":\"white\",\"linecolor\":\"white\",\"ticks\":\"\"},\"radialaxis\":{\"gridcolor\":\"white\",\"linecolor\":\"white\",\"ticks\":\"\"}},\"ternary\":{\"bgcolor\":\"#E5ECF6\",\"aaxis\":{\"gridcolor\":\"white\",\"linecolor\":\"white\",\"ticks\":\"\"},\"baxis\":{\"gridcolor\":\"white\",\"linecolor\":\"white\",\"ticks\":\"\"},\"caxis\":{\"gridcolor\":\"white\",\"linecolor\":\"white\",\"ticks\":\"\"}},\"coloraxis\":{\"colorbar\":{\"outlinewidth\":0,\"ticks\":\"\"}},\"colorscale\":{\"sequential\":[[0.0,\"#0d0887\"],[0.1111111111111111,\"#46039f\"],[0.2222222222222222,\"#7201a8\"],[0.3333333333333333,\"#9c179e\"],[0.4444444444444444,\"#bd3786\"],[0.5555555555555556,\"#d8576b\"],[0.6666666666666666,\"#ed7953\"],[0.7777777777777778,\"#fb9f3a\"],[0.8888888888888888,\"#fdca26\"],[1.0,\"#f0f921\"]],\"sequentialminus\":[[0.0,\"#0d0887\"],[0.1111111111111111,\"#46039f\"],[0.2222222222222222,\"#7201a8\"],[0.3333333333333333,\"#9c179e\"],[0.4444444444444444,\"#bd3786\"],[0.5555555555555556,\"#d8576b\"],[0.6666666666666666,\"#ed7953\"],[0.7777777777777778,\"#fb9f3a\"],[0.8888888888888888,\"#fdca26\"],[1.0,\"#f0f921\"]],\"diverging\":[[0,\"#8e0152\"],[0.1,\"#c51b7d\"],[0.2,\"#de77ae\"],[0.3,\"#f1b6da\"],[0.4,\"#fde0ef\"],[0.5,\"#f7f7f7\"],[0.6,\"#e6f5d0\"],[0.7,\"#b8e186\"],[0.8,\"#7fbc41\"],[0.9,\"#4d9221\"],[1,\"#276419\"]]},\"xaxis\":{\"gridcolor\":\"white\",\"linecolor\":\"white\",\"ticks\":\"\",\"title\":{\"standoff\":15},\"zerolinecolor\":\"white\",\"automargin\":true,\"zerolinewidth\":2},\"yaxis\":{\"gridcolor\":\"white\",\"linecolor\":\"white\",\"ticks\":\"\",\"title\":{\"standoff\":15},\"zerolinecolor\":\"white\",\"automargin\":true,\"zerolinewidth\":2},\"scene\":{\"xaxis\":{\"backgroundcolor\":\"#E5ECF6\",\"gridcolor\":\"white\",\"linecolor\":\"white\",\"showbackground\":true,\"ticks\":\"\",\"zerolinecolor\":\"white\",\"gridwidth\":2},\"yaxis\":{\"backgroundcolor\":\"#E5ECF6\",\"gridcolor\":\"white\",\"linecolor\":\"white\",\"showbackground\":true,\"ticks\":\"\",\"zerolinecolor\":\"white\",\"gridwidth\":2},\"zaxis\":{\"backgroundcolor\":\"#E5ECF6\",\"gridcolor\":\"white\",\"linecolor\":\"white\",\"showbackground\":true,\"ticks\":\"\",\"zerolinecolor\":\"white\",\"gridwidth\":2}},\"shapedefaults\":{\"line\":{\"color\":\"#2a3f5f\"}},\"annotationdefaults\":{\"arrowcolor\":\"#2a3f5f\",\"arrowhead\":0,\"arrowwidth\":1},\"geo\":{\"bgcolor\":\"white\",\"landcolor\":\"#E5ECF6\",\"subunitcolor\":\"white\",\"showland\":true,\"showlakes\":true,\"lakecolor\":\"white\"},\"title\":{\"x\":0.05},\"mapbox\":{\"style\":\"light\"}}},\"xaxis\":{\"anchor\":\"y\",\"domain\":[0.0,1.0],\"title\":{\"text\":\"Customer Value\"}},\"yaxis\":{\"anchor\":\"x\",\"domain\":[0.0,1.0]},\"legend\":{\"tracegroupgap\":0},\"margin\":{\"t\":60},\"boxmode\":\"group\"},                        {\"responsive\": true}                    ).then(function(){\n",
              "                            \n",
              "var gd = document.getElementById('c57cf4f1-8acc-4ba3-8aed-b6f1f023c610');\n",
              "var x = new MutationObserver(function (mutations, observer) {{\n",
              "        var display = window.getComputedStyle(gd).display;\n",
              "        if (!display || display === 'none') {{\n",
              "            console.log([gd, 'removed!']);\n",
              "            Plotly.purge(gd);\n",
              "            observer.disconnect();\n",
              "        }}\n",
              "}});\n",
              "\n",
              "// Listen for the removal of the full notebook cells\n",
              "var notebookContainer = gd.closest('#notebook-container');\n",
              "if (notebookContainer) {{\n",
              "    x.observe(notebookContainer, {childList: true});\n",
              "}}\n",
              "\n",
              "// Listen for the clearing of the current output cell\n",
              "var outputEl = gd.closest('.output');\n",
              "if (outputEl) {{\n",
              "    x.observe(outputEl, {childList: true});\n",
              "}}\n",
              "\n",
              "                        })                };                            </script>        </div>\n",
              "</body>\n",
              "</html>"
            ]
          },
          "metadata": {}
        }
      ]
    },
    {
      "cell_type": "code",
      "source": [
        "plot = px.box(df , x = \"Seconds of Use\")\n",
        "plot.show()"
      ],
      "metadata": {
        "colab": {
          "base_uri": "https://localhost:8080/",
          "height": 542
        },
        "id": "_qUztuHSmGi2",
        "outputId": "bccf4011-d76d-419d-a8f0-2de67c251cce"
      },
      "execution_count": null,
      "outputs": [
        {
          "output_type": "display_data",
          "data": {
            "text/html": [
              "<html>\n",
              "<head><meta charset=\"utf-8\" /></head>\n",
              "<body>\n",
              "    <div>            <script src=\"https://cdnjs.cloudflare.com/ajax/libs/mathjax/2.7.5/MathJax.js?config=TeX-AMS-MML_SVG\"></script><script type=\"text/javascript\">if (window.MathJax && window.MathJax.Hub && window.MathJax.Hub.Config) {window.MathJax.Hub.Config({SVG: {font: \"STIX-Web\"}});}</script>                <script type=\"text/javascript\">window.PlotlyConfig = {MathJaxConfig: 'local'};</script>\n",
              "        <script charset=\"utf-8\" src=\"https://cdn.plot.ly/plotly-2.24.1.min.js\"></script>                <div id=\"0f735b9f-a1d6-47b6-b40b-c3dbd20cc35b\" class=\"plotly-graph-div\" style=\"height:525px; width:100%;\"></div>            <script type=\"text/javascript\">                                    window.PLOTLYENV=window.PLOTLYENV || {};                                    if (document.getElementById(\"0f735b9f-a1d6-47b6-b40b-c3dbd20cc35b\")) {                    Plotly.newPlot(                        \"0f735b9f-a1d6-47b6-b40b-c3dbd20cc35b\",                        [{\"alignmentgroup\":\"True\",\"hovertemplate\":\"Seconds of Use=%{x}\\u003cextra\\u003e\\u003c\\u002fextra\\u003e\",\"legendgroup\":\"\",\"marker\":{\"color\":\"#636efa\"},\"name\":\"\",\"notched\":false,\"offsetgroup\":\"\",\"orientation\":\"h\",\"showlegend\":false,\"x\":[4370,318,2453,4198,2393,3775,2360,9115,13773,4515,5918,2238,15140,3095,15485,6500,875,710,0,7508,11465,6718,955,10435,5818,2840,2990,2268,133,1668,6785,628,338,16075,6965,3718,1665,2780,1315,1568,700,825,1225,3225,1695,6393,8933,2853,4390,1488,4430,378,2513,4258,2453,3835,2420,9175,13833,4575,5978,2298,15200,3155,15545,6560,935,770,60,7568,11525,6778,1015,10495,5878,2900,3050,2328,193,1728,6845,688,398,16135,7025,3778,1725,2840,1375,1628,760,885,1285,3285,1755,6453,8993,2913,4450,1548,4310,258,2393,4138,2333,3715,2300,9055,13713,4455,5858,2178,15080,3035,15425,6440,815,650,0,7448,11405,6658,895,10375,5758,2780,2930,2208,0,1608,6725,568,0,16015,6905,3658,1605,2720,1255,1508,640,765,1165,3165,1635,6333,8873,2793,4330,1428,4450,398,2533,4278,2473,3855,2440,9195,13853,4595,5998,2318,15220,3175,15565,6580,955,790,80,7588,11545,6798,1035,10515,5898,2920,3070,2348,213,1748,6865,708,418,16155,7045,3798,1745,2860,1395,1648,780,905,1305,3305,1775,6473,9013,2933,4470,1568,4290,0,2373,4118,2313,3695,2280,9035,13693,4435,5838,2158,15060,3015,15405,6420,795,630,0,7428,11385,6638,875,10355,5738,2760,2910,2188,0,1588,6705,0,0,15995,6885,3638,1585,2700,1235,1488,620,0,1145,3145,1615,6313,8853,2773,4310,1408,4630,578,2713,4458,2653,4035,2620,9375,14033,4775,6178,2498,15400,3355,15745,6760,1135,970,260,7768,11725,6978,1215,10695,6078,3100,3250,2528,393,1928,7045,888,598,16335,7225,3978,1925,3040,1575,1828,960,1085,1485,3485,1955,6653,9193,3113,4650,1748,4110,0,2193,3938,2133,3515,2100,8855,13513,4255,5658,1978,14880,2835,15225,6240,615,450,0,7248,11205,6458,695,10175,5558,2580,2730,2008,0,0,6525,0,0,15815,6705,3458,1405,2520,1055,1308,440,0,965,2965,1435,6133,8673,2593,4130,1228,4550,498,2633,4378,2573,3955,2540,9295,13953,4695,6098,2418,15320,3275,15665,6680,1055,890,180,7688,11645,6898,1135,10615,5998,3020,3170,2448,313,1848,6965,808,518,16255,7145,3898,1845,2960,1495,1748,880,1005,1405,3405,1875,6573,9113,3033,4570,1668,4190,0,2273,4018,2213,3595,2180,8935,13593,4335,5738,2058,14960,2915,15305,6320,695,530,0,7328,11285,6538,775,10255,5638,2660,2810,2088,0,1488,6605,0,0,15895,6785,3538,1485,2600,1135,1388,520,0,1045,3045,1515,6213,8753,2673,4210,1308,4970,918,3053,4798,2993,4375,2960,9715,14373,5115,6518,2838,15740,3695,16085,7100,1475,1310,600,8108,12065,7318,1555,11035,6418,3440,3590,2868,733,2268,7385,1228,938,16675,7565,4318,2265,3380,1915,2168,1300,1425,1825,3825,2295,6993,9533,3453,4990,2088,3770,0,1853,3598,1793,3175,1760,8515,13173,3915,5318,1638,14540,2495,14885,5900,275,110,0,6908,10865,6118,355,9835,5218,2240,2390,1668,0,1068,6185,0,0,15475,6365,3118,1065,2180,715,968,100,0,625,2625,1095,5793,8333,2253,3790,888,4485,433,2568,4313,2508,3890,2475,9230,13888,4630,6033,2353,15255,3210,15600,6615,990,825,115,7623,11580,6833,1070,10550,5933,2955,3105,2383,248,1783,6900,743,453,16190,7080,3833,1780,2895,1430,1683,815,940,1340,3340,1810,6508,9048,2968,4505,1603,4255,0,2338,4083,2278,3660,2245,9000,13658,4400,5803,2123,15025,2980,15370,6385,760,595,0,7393,11350,6603,840,10320,5703,2725,2875,2153,0,1553,6670,513,0,15960,6850,3603,1550,2665,1200,1453,585,710,1110,3110,1580,6278,8818,2738,4275,1373,4560,508,2643,4388,2583,3965,2550,9305,13963,4705,6108,2428,15330,3285,15675,6690,1065,900,190,7698,11655,6908,1145,10625,6008,3030,3180,2458,323,1858,6975,818,528,16265,7155,3908,1855,2970,1505,1758,890,1015,1415,3415,1885,6582,9122,3042,4580,1677,4180,128,2263,4008,2203,3585,2170,8925,13583,4325,5728,2048,14950,2905,15295,6310,685,520,0,7318,11275,6528,765,10245,5628,2650,2800,2078,0,1478,6595,438,0,15885,6775,3528,1475,2590,1125,1378,510,635,1035,3035,1505,6202,8742,2662,4200,1297,4370,318,2453,4198,2393,3775,2360,9115,13773,4515,5918,2238,15140,3095,15485,6500,875,710,0,7508,11465,6718,955,10435,5818,2840,2990,2268,0,1668,6785,628,338,16075,6965,3718,1665,2780,1315,1568,700,825,1225,3225,1695,6392,8932,2852,4390,1487,4370,318,2453,4198,2393,3775,2360,9115,13773,4515,5918,2238,15140,3095,15485,6500,875,710,0,7508,11465,6718,955,10435,5818,2840,2990,2268,133,1668,6785,628,338,16075,6965,3718,1665,2780,1315,1568,700,825,1225,3225,1695,6392,8932,2852,4390,1487,5080,1028,3163,4908,3103,4485,3070,9825,14483,5225,6628,2948,15850,3805,16195,7210,1585,1420,710,8218,12175,7428,1665,11145,6528,3550,3700,2978,843,2378,7495,1338,1048,16785,7675,4428,2375,3490,2025,2278,1410,1535,1935,3935,2405,7102,9642,3562,5100,2197,3660,0,1743,3488,1683,3065,1650,8405,13063,3805,5208,1528,14430,2385,14775,5790,165,0,0,6798,10755,6008,245,9725,5108,2130,2280,1558,0,958,6075,0,0,15365,6255,3008,955,2070,605,858,0,0,515,2515,985,5682,8222,2142,3680,777,4370,318,2453,4198,2393,3775,2360,9115,13773,4515,5918,2238,15140,3095,15485,6500,875,710,0,7508,11465,6718,955,10435,5818,2840,2990,2268,133,1668,6785,628,338,16075,6965,3718,1665,2780,1315,1568,700,825,1225,3225,1695,6392,8932,2852,4390,1487,4370,318,2453,4198,2393,3775,2360,9115,13773,4515,5918,2238,15140,3095,15485,6500,875,710,0,7508,11465,6718,955,10435,5818,2840,2990,2268,133,1668,6785,628,338,16075,6965,3718,1665,2780,1315,1568,700,825,1225,3225,1695,6392,8932,2852,4390,1487,4065,0,2148,3893,2088,3470,2055,8810,13468,4210,5613,1933,14835,2790,15180,6195,570,405,0,7203,11160,6413,650,10130,5513,2535,2685,1963,0,1363,6480,323,0,15770,6660,3413,1360,2475,1010,1263,395,520,920,2920,1390,6088,8628,2548,4085,1183,4125,73,2208,3953,2148,3530,2115,8870,13528,4270,5673,1993,14895,2850,15240,6255,630,465,0,7263,11220,6473,710,10190,5573,2595,2745,2023,0,1423,6540,383,93,15830,6720,3473,1420,2535,1070,1323,455,580,980,2980,1450,6148,8688,2608,4145,1243,4005,0,2088,3833,2028,3410,1995,8750,13408,4150,5553,1873,14775,2730,15120,6135,510,345,0,7143,11100,6353,590,10070,5453,2475,2625,1903,0,1303,6420,263,0,15710,6600,3353,1300,2415,950,1203,335,0,860,2860,1330,6028,8568,2488,4025,1123,4145,93,2228,3973,2168,3550,2135,8890,13548,4290,5693,2013,14915,2870,15260,6275,650,485,0,7283,11240,6493,730,10210,5593,2615,2765,2043,0,1443,6560,403,0,15850,6740,3493,1440,2555,1090,1343,475,600,1000,3000,1470,6168,8708,2628,4165,1263,3985,0,2068,3813,2008,3390,1975,8730,13388,4130,5533,1853,14755,2710,15100,6115,490,325,0,7123,11080,6333,570,10050,5433,2455,2605,1883,0,1283,6400,0,0,15690,6580,3333,1280,2395,930,1183,315,0,840,2840,1310,6008,8548,2468,4005,1103,4325,273,2408,4153,2348,3730,2315,9070,13728,4470,5873,2193,15095,3050,15440,6455,830,665,0,7463,11420,6673,910,10390,5773,2795,2945,2223,88,1623,6740,583,293,16030,6920,3673,1620,2735,1270,1523,655,780,1180,3180,1650,6348,8888,2808,4345,1443,3805,0,1888,3633,1828,3210,1795,8550,13208,3950,5353,1673,14575,2530,14920,5935,0,0,0,6943,10900,6153,390,9870,5253,2275,2425,1703,0,0,6220,0,0,15510,6400,3153,1100,2215,750,1003,0,0,660,2660,1130,5828,8368,2288,3825,0,4245,193,2328,4073,2268,3650,2235,8990,13648,4390,5793,2113,15015,2970,15360,6375,750,585,0,7383,11340,6593,830,10310,5693,2715,2865,2143,8,1543,6660,503,213,15950,6840,3593,1540,2655,1190,1443,575,700,1100,3100,1570,6268,8808,2728,4265,1363,3885,0,1968,3713,1908,3290,1875,8630,13288,4030,5433,1753,14655,2610,15000,6015,0,0,0,7023,10980,6233,470,9950,5333,2355,2505,1783,0,0,6300,0,0,15590,6480,3233,1180,2295,830,1083,215,0,740,2740,1210,5908,8448,2368,3905,1003,4665,613,2748,4493,2688,4070,2655,9410,14068,4810,6213,2533,15435,3390,15780,6795,1170,1005,295,7803,11760,7013,1250,10730,6113,3135,3285,2563,428,1963,7080,923,633,16370,7260,4013,1960,3075,1610,1863,995,1120,1520,3520,1990,6688,9228,3148,4685,1783,3465,0,1548,3293,1488,2870,1455,8210,12868,3610,5013,1333,14235,2190,14580,5595,0,0,0,6603,10560,5813,50,9530,4913,1935,2085,1363,0,0,5880,0,0,15170,6060,2813,760,1875,1903,663,0,0,0,2320,0,5488,8028,1948,3485,0,4180,128,2263,4008,2203,3585,2170,8925,13583,4325,5728,2048,14950,2905,15295,6310,685,520,0,7318,11275,6528,765,10245,5628,2650,2800,2078,0,1478,6595,438,148,15885,6775,3528,1475,2590,1125,1378,510,635,1035,3035,1505,6203,8743,2663,4200,1298,3950,0,2033,3778,1973,3355,1940,8695,13353,4095,5498,1818,14720,2675,15065,6080,455,290,0,7088,11045,6298,535,10015,5398,2420,2570,1848,0,1248,6365,0,0,15655,6545,3298,1245,2360,895,1148,280,0,805,2805,1275,5973,8513,2433,3970,1068,4255,0,2338,4083,2278,3660,2245,9000,13658,4400,5803,2123,15025,2980,15370,6385,760,595,0,7393,11350,6603,840,10320,5703,2725,2875,2153,0,1553,6670,513,0,15960,6850,3603,1550,2665,1200,1453,585,710,1110,3110,1580,6277,8817,2737,4275,1372,3875,0,1958,3703,1898,3280,1865,8620,13278,4020,5423,1743,14645,2600,14990,6005,380,215,0,7013,10970,6223,460,9940,5323,2345,2495,1773,0,1173,6290,0,0,15580,6470,3223,1170,2285,820,1073,205,0,730,2730,1200,5897,8437,2357,3895,992,4065,0,2148,3893,2088,3470,2055,8810,13468,4210,5613,1933,14835,2790,15180,6195,570,405,0,7203,11160,6413,650,10130,5513,2535,2685,1963,0,1363,6480,0,0,15770,6660,3413,1360,2475,1010,1263,395,520,920,2920,1390,6087,8627,2547,4085,1182,4065,13,2148,3893,2088,3470,2055,8810,13468,4210,5613,1933,14835,2790,15180,6195,570,405,0,7203,11160,6413,650,10130,5513,2535,2685,1963,0,1363,6480,323,33,15770,6660,3413,1360,2475,1010,1263,395,520,920,2920,1390,6087,8627,2547,4085,1182,4775,723,2858,4603,2798,4180,2765,9520,14178,4920,6323,2643,15545,3500,15890,6905,1280,1115,0,7913,11870,7123,1360,10840,6223,3245,3395,2673,538,2073,7190,1033,743,16480,7370,4123,2070,3185,1720,1973,1105,1230,1630,3630,2100,6797,9337,3257,4795,1892,3355,0,1438,3183,1378,2760,1345,8100,12758,3500,4903,1223,14125,2080,14470,5485,0,0,0,6493,10450,5703,0,9420,4803,1825,1975,1253,0,653,5770,0,0,15060,5950,2703,650,1765,300,553,0,0,210,2210,680,5377,7917,1837,3375,472,4065,0,2148,3893,2088,3470,2055,8810,13468,4210,5613,1933,14835,2790,15180,6195,570,405,0,7203,11160,6413,650,10130,5513,2535,2685,1963,0,1363,6480,323,0,15770,6660,3413,1360,2475,1010,1263,395,520,920,2920,1390,6087,8627,2547,4085,1182,4065,0,2148,3893,2088,3470,2055,8810,13468,4210,5613,1933,14835,2790,15180,6195,570,405,0,7203,11160,6413,650,10130,5513,2535,2685,1963,0,1363,6480,323,0,15770,6660,3413,1360,2475,1010,1263,395,520,920,2920,1390,6087,8627,2547,4085,1182,4675,623,2758,4503,2698,4080,2665,9420,14078,4820,6223,2543,15445,3400,15790,6805,1180,1015,305,7813,11770,7023,1260,10740,6123,3145,3295,2573,438,1973,7090,933,643,16380,7270,4023,1970,3085,1620,1873,1005,1130,1530,3530,2000,6698,9238,3158,4695,1793,4735,683,2818,4563,2758,4140,2725,9480,14138,4880,6283,2603,15505,3460,15850,6865,1240,1075,365,7873,11830,7083,1320,10800,6183,3205,3355,2633,498,2033,7150,993,703,16440,7330,4083,2030,3145,1680,1933,1065,1190,1590,3590,2060,6758,9298,3218,4755,1853,4615,563,2698,4443,2638,4020,2605,9360,14018,4760,6163,2483,15385,3340,15730,6745,1120,955,305,7753,11710,6963,1200,10680,6063,3085,3235,2513,305,1913,7030,873,305,16320,7210,3963,1910,3025,1560,1813,945,1070,1470,3470,1940,6638,9178,3098,4635,1733,4755,703,2838,4583,2778,4160,2745,9500,14158,4900,6303,2623,15525,3480,15870,6885,1260,1095,385,7893,11850,7103,1340,10820,6203,3225,3375,2653,518,2053,7170,1013,723,16460,7350,4103,2050,3165,1700,1953,1085,1210,1610,3610,2080,6778,9318,3238,4775,1873,4595,305,2678,4423,2618,4000,2585,9340,13998,4740,6143,2463,15365,3320,15710,6725,1100,935,305,7733,11690,6943,1180,10660,6043,3065,3215,2493,305,1893,7010,305,305,16300,7190,3943,1890,3005,1540,1793,925,305,1450,3450,1920,6618,9158,3078,4615,1713,4935,883,3018,4763,2958,4340,2925,9680,14338,5080,6483,2803,15705,3660,16050,7065,1440,1275,565,8073,12030,7283,1520,11000,6383,3405,3555,2833,698,2233,7350,1193,903,16640,7530,4283,2230,3345,1880,2133,1265,1390,1790,3790,2260,6958,9498,3418,4955,2053,4415,305,2498,4243,2438,3820,2405,9160,13818,4560,5963,2283,15185,3140,15530,6545,920,755,305,7553,11510,6763,1000,10480,5863,2885,3035,2313,305,305,6830,305,305,16120,7010,3763,1710,2825,1360,1613,745,305,1270,3270,1740,6438,8978,2898,4435,1533,4855,803,2938,4683,2878,4260,2845,9600,14258,5000,6403,2723,15625,3580,15970,6985,1360,1195,485,7993,11950,7203,1440,10920,6303,3325,3475,2753,618,2153,7270,1113,823,16560,7450,4203,2150,3265,1800,2053,1185,1310,1710,3710,2180,6878,9418,3338,4875,1973,4495,305,2578,4323,2518,3900,2485,9240,13898,4640,6043,2363,15265,3220,15610,6625,1000,835,305,7633,11590,6843,1080,10560,5943,2965,3115,2393,305,1793,6910,305,305,16200,7090,3843,1790,2905,1440,1693,825,305,1350,3350,1820,6518,9058,2978,4515,1613,5275,1223,3358,5103,3298,4680,3265,10020,14678,5420,6823,3143,16045,4000,16390,7405,1780,1615,905,8413,12370,7623,1860,11340,6723,3745,3895,3173,1038,2573,7690,1533,1243,16980,7870,4623,2570,3685,2220,2473,1605,1730,2130,4130,2600,7298,9838,3758,5295,2393,4075,305,2158,3903,2098,3480,2065,8820,13478,4220,5623,1943,14845,2800,15190,6205,580,415,305,7213,11170,6423,660,10140,5523,2545,2695,1973,305,1373,6490,305,305,15780,6670,3423,1370,2485,1020,1273,405,305,930,2930,1400,6098,8638,2558,4095,1193,4790,738,2873,4618,2813,4195,2780,9535,14193,4935,6338,2658,15560,3515,15905,6920,1295,1130,420,7928,11885,7138,1375,10855,6238,3260,3410,2688,553,2088,7205,1048,758,16495,7385,4138,2085,3200,1735,1988,1120,1245,1645,3645,2115,6813,9353,3273,4810,1908,4560,305,2643,4388,2583,3965,2550,9305,13963,4705,6108,2428,15330,3285,15675,6690,1065,900,305,7698,11655,6908,1145,10625,6008,3030,3180,2458,305,1858,6975,818,305,16265,7155,3908,1855,2970,1505,1758,890,1015,1415,3415,1885,6583,9123,3043,4580,1678,4865,813,2948,4693,2888,4270,2855,9610,14268,5010,6413,2733,15635,3590,15980,6995,1370,1205,495,8003,11960,7213,1450,10930,6313,3335,3485,2763,628,2163,7280,1123,833,16570,7460,4213,2160,3275,1810,2063,1195,1320,1720,3720,2190,6887,9427,3347,4885,1982,4485,433,2568,4313,2508,3890,2475,9230,13888,4630,6033,2353,15255,3210,15600,6615,990,825,0,7623,11580,6833,1070,10550,5933,2955,3105,2383,248,1783,6900,743,453,16190,7080,3833,1780,2895,1430,1683,815,940,1340,3340,1810,6507,9047,2967,4505,1602,4675,623,2758,4503,2698,4080,2665,9420,14078,4820,6223,2543,15445,3400,15790,6805,1180,1015,0,7813,11770,7023,1260,10740,6123,3145,3295,2573,438,1973,7090,933,643,16380,7270,4023,1970,3085,1620,1873,1005,1130,1530,3530,2000,6697,9237,3157,4695,1792,4675,623,2758,4503,2698,4080,2665,9420,14078,4820,6223,2543,15445,3400,15790,6805,1180,1015,305,7813,11770,7023,1260,10740,6123,3145,3295,2573,438,1973,7090,933,643,16380,7270,4023,1970,3085,1620,1873,1005,1130,1530,3530,2000,6697,9237,3157,4695,1792,5385,1333,3468,5213,3408,4790,3375,10130,14788,5530,6933,3253,16155,4110,16500,7515,1890,1725,1015,8523,12480,7733,1970,11450,6833,3855,4005,3283,1148,2683,7800,1643,1353,17090,7980,4733,2680,3795,2330,2583,1715,1840,2240,4240,2710,7407,9947,3867,5405,2502,3965,0,2048,3793,1988,3370,1955,8710,13368,4110,5513,1833,14735,2690,15080,6095,470,305,0,7103,11060,6313,550,10030,5413,2435,2585,1863,0,1263,6380,223,0,15670,6560,3313,1260,2375,910,1163,295,420,820,2820,1290,5987,8527,2447,3985,1082,4675,623,2758,4503,2698,4080,2665,9420,14078,4820,6223,2543,15445,3400,15790,6805,1180,1015,305,7813,11770,7023,1260,10740,6123,3145,3295,2573,438,1973,7090,933,643,16380,7270,4023,1970,3085,1620,1873,1005,1130,1530,3530,2000,6697,9237,3157,4695,1792,4675,623,2758,4503,2698,4080,2665,9420,14078,4820,6223,2543,15445,3400,15790,6805,1180,1015,305,7813,11770,7023,1260,10740,6123,3145,3295,2573,438,1973,7090,933,643,16380,7270,4023,1970,3085,1620,1873,1005,1130,1530,3530,2000,6697,9237,3157,4695,1792],\"x0\":\" \",\"xaxis\":\"x\",\"y0\":\" \",\"yaxis\":\"y\",\"type\":\"box\"}],                        {\"template\":{\"data\":{\"histogram2dcontour\":[{\"type\":\"histogram2dcontour\",\"colorbar\":{\"outlinewidth\":0,\"ticks\":\"\"},\"colorscale\":[[0.0,\"#0d0887\"],[0.1111111111111111,\"#46039f\"],[0.2222222222222222,\"#7201a8\"],[0.3333333333333333,\"#9c179e\"],[0.4444444444444444,\"#bd3786\"],[0.5555555555555556,\"#d8576b\"],[0.6666666666666666,\"#ed7953\"],[0.7777777777777778,\"#fb9f3a\"],[0.8888888888888888,\"#fdca26\"],[1.0,\"#f0f921\"]]}],\"choropleth\":[{\"type\":\"choropleth\",\"colorbar\":{\"outlinewidth\":0,\"ticks\":\"\"}}],\"histogram2d\":[{\"type\":\"histogram2d\",\"colorbar\":{\"outlinewidth\":0,\"ticks\":\"\"},\"colorscale\":[[0.0,\"#0d0887\"],[0.1111111111111111,\"#46039f\"],[0.2222222222222222,\"#7201a8\"],[0.3333333333333333,\"#9c179e\"],[0.4444444444444444,\"#bd3786\"],[0.5555555555555556,\"#d8576b\"],[0.6666666666666666,\"#ed7953\"],[0.7777777777777778,\"#fb9f3a\"],[0.8888888888888888,\"#fdca26\"],[1.0,\"#f0f921\"]]}],\"heatmap\":[{\"type\":\"heatmap\",\"colorbar\":{\"outlinewidth\":0,\"ticks\":\"\"},\"colorscale\":[[0.0,\"#0d0887\"],[0.1111111111111111,\"#46039f\"],[0.2222222222222222,\"#7201a8\"],[0.3333333333333333,\"#9c179e\"],[0.4444444444444444,\"#bd3786\"],[0.5555555555555556,\"#d8576b\"],[0.6666666666666666,\"#ed7953\"],[0.7777777777777778,\"#fb9f3a\"],[0.8888888888888888,\"#fdca26\"],[1.0,\"#f0f921\"]]}],\"heatmapgl\":[{\"type\":\"heatmapgl\",\"colorbar\":{\"outlinewidth\":0,\"ticks\":\"\"},\"colorscale\":[[0.0,\"#0d0887\"],[0.1111111111111111,\"#46039f\"],[0.2222222222222222,\"#7201a8\"],[0.3333333333333333,\"#9c179e\"],[0.4444444444444444,\"#bd3786\"],[0.5555555555555556,\"#d8576b\"],[0.6666666666666666,\"#ed7953\"],[0.7777777777777778,\"#fb9f3a\"],[0.8888888888888888,\"#fdca26\"],[1.0,\"#f0f921\"]]}],\"contourcarpet\":[{\"type\":\"contourcarpet\",\"colorbar\":{\"outlinewidth\":0,\"ticks\":\"\"}}],\"contour\":[{\"type\":\"contour\",\"colorbar\":{\"outlinewidth\":0,\"ticks\":\"\"},\"colorscale\":[[0.0,\"#0d0887\"],[0.1111111111111111,\"#46039f\"],[0.2222222222222222,\"#7201a8\"],[0.3333333333333333,\"#9c179e\"],[0.4444444444444444,\"#bd3786\"],[0.5555555555555556,\"#d8576b\"],[0.6666666666666666,\"#ed7953\"],[0.7777777777777778,\"#fb9f3a\"],[0.8888888888888888,\"#fdca26\"],[1.0,\"#f0f921\"]]}],\"surface\":[{\"type\":\"surface\",\"colorbar\":{\"outlinewidth\":0,\"ticks\":\"\"},\"colorscale\":[[0.0,\"#0d0887\"],[0.1111111111111111,\"#46039f\"],[0.2222222222222222,\"#7201a8\"],[0.3333333333333333,\"#9c179e\"],[0.4444444444444444,\"#bd3786\"],[0.5555555555555556,\"#d8576b\"],[0.6666666666666666,\"#ed7953\"],[0.7777777777777778,\"#fb9f3a\"],[0.8888888888888888,\"#fdca26\"],[1.0,\"#f0f921\"]]}],\"mesh3d\":[{\"type\":\"mesh3d\",\"colorbar\":{\"outlinewidth\":0,\"ticks\":\"\"}}],\"scatter\":[{\"fillpattern\":{\"fillmode\":\"overlay\",\"size\":10,\"solidity\":0.2},\"type\":\"scatter\"}],\"parcoords\":[{\"type\":\"parcoords\",\"line\":{\"colorbar\":{\"outlinewidth\":0,\"ticks\":\"\"}}}],\"scatterpolargl\":[{\"type\":\"scatterpolargl\",\"marker\":{\"colorbar\":{\"outlinewidth\":0,\"ticks\":\"\"}}}],\"bar\":[{\"error_x\":{\"color\":\"#2a3f5f\"},\"error_y\":{\"color\":\"#2a3f5f\"},\"marker\":{\"line\":{\"color\":\"#E5ECF6\",\"width\":0.5},\"pattern\":{\"fillmode\":\"overlay\",\"size\":10,\"solidity\":0.2}},\"type\":\"bar\"}],\"scattergeo\":[{\"type\":\"scattergeo\",\"marker\":{\"colorbar\":{\"outlinewidth\":0,\"ticks\":\"\"}}}],\"scatterpolar\":[{\"type\":\"scatterpolar\",\"marker\":{\"colorbar\":{\"outlinewidth\":0,\"ticks\":\"\"}}}],\"histogram\":[{\"marker\":{\"pattern\":{\"fillmode\":\"overlay\",\"size\":10,\"solidity\":0.2}},\"type\":\"histogram\"}],\"scattergl\":[{\"type\":\"scattergl\",\"marker\":{\"colorbar\":{\"outlinewidth\":0,\"ticks\":\"\"}}}],\"scatter3d\":[{\"type\":\"scatter3d\",\"line\":{\"colorbar\":{\"outlinewidth\":0,\"ticks\":\"\"}},\"marker\":{\"colorbar\":{\"outlinewidth\":0,\"ticks\":\"\"}}}],\"scattermapbox\":[{\"type\":\"scattermapbox\",\"marker\":{\"colorbar\":{\"outlinewidth\":0,\"ticks\":\"\"}}}],\"scatterternary\":[{\"type\":\"scatterternary\",\"marker\":{\"colorbar\":{\"outlinewidth\":0,\"ticks\":\"\"}}}],\"scattercarpet\":[{\"type\":\"scattercarpet\",\"marker\":{\"colorbar\":{\"outlinewidth\":0,\"ticks\":\"\"}}}],\"carpet\":[{\"aaxis\":{\"endlinecolor\":\"#2a3f5f\",\"gridcolor\":\"white\",\"linecolor\":\"white\",\"minorgridcolor\":\"white\",\"startlinecolor\":\"#2a3f5f\"},\"baxis\":{\"endlinecolor\":\"#2a3f5f\",\"gridcolor\":\"white\",\"linecolor\":\"white\",\"minorgridcolor\":\"white\",\"startlinecolor\":\"#2a3f5f\"},\"type\":\"carpet\"}],\"table\":[{\"cells\":{\"fill\":{\"color\":\"#EBF0F8\"},\"line\":{\"color\":\"white\"}},\"header\":{\"fill\":{\"color\":\"#C8D4E3\"},\"line\":{\"color\":\"white\"}},\"type\":\"table\"}],\"barpolar\":[{\"marker\":{\"line\":{\"color\":\"#E5ECF6\",\"width\":0.5},\"pattern\":{\"fillmode\":\"overlay\",\"size\":10,\"solidity\":0.2}},\"type\":\"barpolar\"}],\"pie\":[{\"automargin\":true,\"type\":\"pie\"}]},\"layout\":{\"autotypenumbers\":\"strict\",\"colorway\":[\"#636efa\",\"#EF553B\",\"#00cc96\",\"#ab63fa\",\"#FFA15A\",\"#19d3f3\",\"#FF6692\",\"#B6E880\",\"#FF97FF\",\"#FECB52\"],\"font\":{\"color\":\"#2a3f5f\"},\"hovermode\":\"closest\",\"hoverlabel\":{\"align\":\"left\"},\"paper_bgcolor\":\"white\",\"plot_bgcolor\":\"#E5ECF6\",\"polar\":{\"bgcolor\":\"#E5ECF6\",\"angularaxis\":{\"gridcolor\":\"white\",\"linecolor\":\"white\",\"ticks\":\"\"},\"radialaxis\":{\"gridcolor\":\"white\",\"linecolor\":\"white\",\"ticks\":\"\"}},\"ternary\":{\"bgcolor\":\"#E5ECF6\",\"aaxis\":{\"gridcolor\":\"white\",\"linecolor\":\"white\",\"ticks\":\"\"},\"baxis\":{\"gridcolor\":\"white\",\"linecolor\":\"white\",\"ticks\":\"\"},\"caxis\":{\"gridcolor\":\"white\",\"linecolor\":\"white\",\"ticks\":\"\"}},\"coloraxis\":{\"colorbar\":{\"outlinewidth\":0,\"ticks\":\"\"}},\"colorscale\":{\"sequential\":[[0.0,\"#0d0887\"],[0.1111111111111111,\"#46039f\"],[0.2222222222222222,\"#7201a8\"],[0.3333333333333333,\"#9c179e\"],[0.4444444444444444,\"#bd3786\"],[0.5555555555555556,\"#d8576b\"],[0.6666666666666666,\"#ed7953\"],[0.7777777777777778,\"#fb9f3a\"],[0.8888888888888888,\"#fdca26\"],[1.0,\"#f0f921\"]],\"sequentialminus\":[[0.0,\"#0d0887\"],[0.1111111111111111,\"#46039f\"],[0.2222222222222222,\"#7201a8\"],[0.3333333333333333,\"#9c179e\"],[0.4444444444444444,\"#bd3786\"],[0.5555555555555556,\"#d8576b\"],[0.6666666666666666,\"#ed7953\"],[0.7777777777777778,\"#fb9f3a\"],[0.8888888888888888,\"#fdca26\"],[1.0,\"#f0f921\"]],\"diverging\":[[0,\"#8e0152\"],[0.1,\"#c51b7d\"],[0.2,\"#de77ae\"],[0.3,\"#f1b6da\"],[0.4,\"#fde0ef\"],[0.5,\"#f7f7f7\"],[0.6,\"#e6f5d0\"],[0.7,\"#b8e186\"],[0.8,\"#7fbc41\"],[0.9,\"#4d9221\"],[1,\"#276419\"]]},\"xaxis\":{\"gridcolor\":\"white\",\"linecolor\":\"white\",\"ticks\":\"\",\"title\":{\"standoff\":15},\"zerolinecolor\":\"white\",\"automargin\":true,\"zerolinewidth\":2},\"yaxis\":{\"gridcolor\":\"white\",\"linecolor\":\"white\",\"ticks\":\"\",\"title\":{\"standoff\":15},\"zerolinecolor\":\"white\",\"automargin\":true,\"zerolinewidth\":2},\"scene\":{\"xaxis\":{\"backgroundcolor\":\"#E5ECF6\",\"gridcolor\":\"white\",\"linecolor\":\"white\",\"showbackground\":true,\"ticks\":\"\",\"zerolinecolor\":\"white\",\"gridwidth\":2},\"yaxis\":{\"backgroundcolor\":\"#E5ECF6\",\"gridcolor\":\"white\",\"linecolor\":\"white\",\"showbackground\":true,\"ticks\":\"\",\"zerolinecolor\":\"white\",\"gridwidth\":2},\"zaxis\":{\"backgroundcolor\":\"#E5ECF6\",\"gridcolor\":\"white\",\"linecolor\":\"white\",\"showbackground\":true,\"ticks\":\"\",\"zerolinecolor\":\"white\",\"gridwidth\":2}},\"shapedefaults\":{\"line\":{\"color\":\"#2a3f5f\"}},\"annotationdefaults\":{\"arrowcolor\":\"#2a3f5f\",\"arrowhead\":0,\"arrowwidth\":1},\"geo\":{\"bgcolor\":\"white\",\"landcolor\":\"#E5ECF6\",\"subunitcolor\":\"white\",\"showland\":true,\"showlakes\":true,\"lakecolor\":\"white\"},\"title\":{\"x\":0.05},\"mapbox\":{\"style\":\"light\"}}},\"xaxis\":{\"anchor\":\"y\",\"domain\":[0.0,1.0],\"title\":{\"text\":\"Seconds of Use\"}},\"yaxis\":{\"anchor\":\"x\",\"domain\":[0.0,1.0]},\"legend\":{\"tracegroupgap\":0},\"margin\":{\"t\":60},\"boxmode\":\"group\"},                        {\"responsive\": true}                    ).then(function(){\n",
              "                            \n",
              "var gd = document.getElementById('0f735b9f-a1d6-47b6-b40b-c3dbd20cc35b');\n",
              "var x = new MutationObserver(function (mutations, observer) {{\n",
              "        var display = window.getComputedStyle(gd).display;\n",
              "        if (!display || display === 'none') {{\n",
              "            console.log([gd, 'removed!']);\n",
              "            Plotly.purge(gd);\n",
              "            observer.disconnect();\n",
              "        }}\n",
              "}});\n",
              "\n",
              "// Listen for the removal of the full notebook cells\n",
              "var notebookContainer = gd.closest('#notebook-container');\n",
              "if (notebookContainer) {{\n",
              "    x.observe(notebookContainer, {childList: true});\n",
              "}}\n",
              "\n",
              "// Listen for the clearing of the current output cell\n",
              "var outputEl = gd.closest('.output');\n",
              "if (outputEl) {{\n",
              "    x.observe(outputEl, {childList: true});\n",
              "}}\n",
              "\n",
              "                        })                };                            </script>        </div>\n",
              "</body>\n",
              "</html>"
            ]
          },
          "metadata": {}
        }
      ]
    },
    {
      "cell_type": "code",
      "source": [
        "df_1 = df[(df[\"Customer Value\"] < 1610)  & (df[\"Seconds of Use\"] < 15000)]"
      ],
      "metadata": {
        "id": "_5Y6Qy58Tt1E"
      },
      "execution_count": null,
      "outputs": []
    },
    {
      "cell_type": "code",
      "source": [
        "df_1.shape"
      ],
      "metadata": {
        "colab": {
          "base_uri": "https://localhost:8080/"
        },
        "id": "7yScrPaqWRMy",
        "outputId": "e4870c9e-6976-44b0-fe8f-931f02bd8de5"
      },
      "execution_count": null,
      "outputs": [
        {
          "output_type": "execute_result",
          "data": {
            "text/plain": [
              "(2840, 14)"
            ]
          },
          "metadata": {},
          "execution_count": 32
        }
      ]
    },
    {
      "cell_type": "code",
      "source": [
        "plot = px.box(df_1 , x = \"Customer Value\")    # We can see that our outlier has been dealt with\n",
        "plot.show()"
      ],
      "metadata": {
        "colab": {
          "base_uri": "https://localhost:8080/",
          "height": 542
        },
        "id": "E8KkJRSTWYP-",
        "outputId": "f2aa4404-68e4-4362-e5bb-ee74b80aea2a"
      },
      "execution_count": null,
      "outputs": [
        {
          "output_type": "display_data",
          "data": {
            "text/html": [
              "<html>\n",
              "<head><meta charset=\"utf-8\" /></head>\n",
              "<body>\n",
              "    <div>            <script src=\"https://cdnjs.cloudflare.com/ajax/libs/mathjax/2.7.5/MathJax.js?config=TeX-AMS-MML_SVG\"></script><script type=\"text/javascript\">if (window.MathJax && window.MathJax.Hub && window.MathJax.Hub.Config) {window.MathJax.Hub.Config({SVG: {font: \"STIX-Web\"}});}</script>                <script type=\"text/javascript\">window.PlotlyConfig = {MathJaxConfig: 'local'};</script>\n",
              "        <script charset=\"utf-8\" src=\"https://cdn.plot.ly/plotly-2.24.1.min.js\"></script>                <div id=\"400c4f10-1974-4d69-aa07-ed3b8c8a92ef\" class=\"plotly-graph-div\" style=\"height:525px; width:100%;\"></div>            <script type=\"text/javascript\">                                    window.PLOTLYENV=window.PLOTLYENV || {};                                    if (document.getElementById(\"400c4f10-1974-4d69-aa07-ed3b8c8a92ef\")) {                    Plotly.newPlot(                        \"400c4f10-1974-4d69-aa07-ed3b8c8a92ef\",                        [{\"alignmentgroup\":\"True\",\"hovertemplate\":\"Customer Value=%{x}\\u003cextra\\u003e\\u003c\\u002fextra\\u003e\",\"legendgroup\":\"\",\"marker\":{\"color\":\"#636efa\"},\"name\":\"\",\"notched\":false,\"offsetgroup\":\"\",\"orientation\":\"h\",\"showlegend\":false,\"x\":[197.64,46.035,1536.52,240.02,145.805,282.28,1235.96,945.44,557.68,191.92,268.52,123.68,1007.44,40.005,80.96,0.0,317.975,791.685,117.09,159.42,383.22,114.48,157.24,228.48,5.4,67.72,124.23,38.375,11.13,1538.145,180.0,220.36,914.985,929.295,115.175,77.625,73.375,142.065,163.44,203.445,676.53,410.1,239.92,1037.2,60.28,220.16,63.44,1559.04,270.985,144.63,304.8,1258.48,967.96,580.2,214.44,291.04,146.2,1029.96,65.34,103.48,25.335,332.05,817.02,126.6,167.865,408.555,137.0,179.76,251.0,27.92,56.4,132.675,52.45,19.575,1389.76,182.52,242.88,940.32,848.56,129.25,91.52,87.45,167.4,185.96,228.78,701.865,254.505,262.44,1059.72,82.8,197.01,20.7,231.055,131.34,259.76,1213.44,922.92,555.16,181.4,276.75,101.16,984.92,37.17,65.745,0.0,486.24,766.35,91.755,261.625,357.885,111.96,151.56,205.96,0.0,65.2,192.975,24.3,0.0,1512.81,168.165,197.84,889.65,903.96,101.1,52.29,59.3,116.73,140.92,178.11,795.905,396.025,217.4,1014.68,57.76,240.92,84.2,1579.8,299.53,167.985,325.56,1279.24,988.72,600.96,235.2,311.8,166.96,1050.72,88.695,124.24,48.69,345.025,840.375,147.36,175.65,431.91,157.76,200.52,271.76,48.68,69.375,140.46,65.425,27.36,1586.835,203.28,263.64,963.675,977.985,142.225,112.28,100.425,190.755,206.72,252.135,725.22,262.29,283.2,1080.48,103.56,196.155,0.0,230.01,130.295,239.0,1192.68,902.16,554.4,180.64,266.895,88.4,964.16,36.315,42.39,0.0,465.48,742.995,68.4,261.15,334.53,111.2,117.96,185.2,0.0,64.44,180.0,0.0,0.0,1489.455,167.31,177.08,866.295,880.605,88.125,28.935,27.5,93.375,128.16,154.755,767.36,383.05,196.64,993.92,57.0,268.44,111.72,1607.32,337.37,198.945,353.08,1306.76,1016.24,628.48,262.72,339.32,194.48,1078.24,119.655,151.76,79.65,362.225,871.335,174.88,185.97,462.87,185.28,228.04,187.05,76.2,86.575,150.78,82.625,37.68,1438.04,230.8,291.16,994.635,896.84,95.655,139.8,117.625,221.715,234.24,251.64,756.18,272.61,310.72,1108.0,131.08,187.695,0.0,219.67,119.955,237.915,1165.16,874.64,546.88,173.12,258.435,80.88,759.8,936.64,27.855,20.43,0.0,453.96,712.035,37.44,256.45,303.57,103.68,124.245,157.68,0.0,0.0,165.3,0.0,0.0,1458.495,158.85,149.56,835.335,849.645,70.925,20.475,15.0,62.415,120.64,123.795,729.52,365.85,169.12,966.4,55.665,249.16,103.995,1588.04,310.86,216.645,333.8,1287.48,996.96,609.2,243.44,320.04,175.2,1058.96,97.965,132.48,57.96,350.175,849.645,175.05,178.74,441.18,166.0,208.76,280.0,56.92,119.24,143.55,70.575,30.45,1596.105,237.96,271.88,972.945,987.255,147.375,135.585,105.575,200.025,214.96,261.405,734.49,442.3,291.44,1088.72,111.8,170.12,0.0,1485.0,224.18,124.465,230.76,1184.44,893.92,550.16,176.4,233.0,84.16,779.08,955.92,31.545,29.44,0.0,285.775,733.725,59.13,155.1,325.26,106.96,113.72,176.96,0.0,60.2,104.91,0.0,0.0,1480.185,162.54,168.84,857.025,871.335,82.975,24.165,25.0,84.105,123.92,145.485,618.57,377.9,188.4,985.68,52.76,306.04,149.32,389.07,241.245,390.68,1344.36,1053.84,666.08,300.32,376.92,232.08,1115.84,161.955,189.36,121.95,385.725,913.635,212.48,200.07,505.17,222.88,265.64,336.88,113.8,110.075,164.88,106.125,51.78,268.4,328.76,1036.935,1051.245,182.925,177.4,141.125,264.015,271.84,325.395,798.48,286.71,348.32,1145.6,168.68,172.395,0.0,1606.635,200.97,101.255,173.88,1127.56,837.04,533.28,159.52,243.135,67.28,722.2,1258.065,899.04,12.555,5.13,0.0,440.36,669.735,17.64,247.95,261.27,90.08,96.84,120.08,0.0,43.32,156.8,0.0,0.0,1416.195,143.55,111.96,793.035,807.345,47.425,5.175,0.0,29.115,107.04,81.495,677.82,342.35,131.52,928.8,35.88,330.48,173.76,422.675,268.74,415.12,855.5,1078.28,690.52,324.76,401.36,256.52,1368.575,1140.28,189.45,213.8,149.445,401.0,941.13,236.92,209.235,473.48,247.32,290.08,225.825,138.24,125.35,174.045,121.4,60.945,1500.08,292.84,220.75,1064.43,958.88,118.92,201.84,156.4,291.51,296.28,313.68,825.975,295.875,372.76,1170.04,193.12,194.4,0.0,1579.14,227.865,128.15,168.12,1103.12,812.6,552.84,179.08,265.14,86.84,874.6,34.56,27.135,0.0,459.92,642.24,39.645,260.175,260.775,109.64,130.95,95.64,0.0,62.88,169.025,12.85,0.0,1388.7,165.555,87.52,765.54,779.85,37.15,27.18,17.85,51.12,126.6,72.0,644.215,327.075,111.08,904.36,62.37,241.28,95.13,1580.16,300.025,205.81,325.92,1279.6,989.08,601.32,235.56,312.16,167.32,1051.08,89.1,124.6,49.095,345.25,840.78,166.185,175.785,432.315,158.12,200.88,272.12,49.04,111.36,140.595,65.65,27.495,1587.24,229.095,264.0,964.08,978.39,142.45,126.72,100.65,191.16,207.08,252.54,725.58,437.35,283.52,1080.84,103.88,170.0,5.94,1492.88,224.015,124.3,238.64,1192.32,901.8,550.04,176.28,232.88,84.04,786.96,963.8,31.41,37.32,0.0,290.7,742.59,67.995,155.055,334.125,106.84,113.6,184.84,0.0,60.08,107.865,11.1,0.0,1489.05,162.405,176.72,865.89,880.2,87.9,28.53,46.1,92.97,123.8,154.35,627.39,382.8,196.24,993.56,52.6,199.575,14.49,234.19,134.475,281.295,1203.72,913.2,557.44,183.68,270.315,91.44,975.2,39.735,54.81,0.0,476.52,755.415,80.82,263.05,346.95,114.24,140.625,196.24,0.0,67.48,186.9,18.225,8.575,1501.875,170.73,188.12,878.715,893.025,95.025,41.355,53.225,105.795,131.2,167.175,782.485,389.925,207.64,1004.96,67.5,229.88,73.16,1568.76,284.35,155.565,314.52,792.625,977.68,589.92,224.16,300.76,155.92,1305.7,1039.68,76.275,113.2,36.0,338.125,827.955,136.32,171.51,372.88,146.72,189.48,162.95,37.64,62.475,136.32,58.525,23.22,1399.48,192.24,157.875,951.255,858.28,81.195,101.24,93.525,178.335,195.68,213.08,712.755,258.135,272.12,1069.44,92.48,326.48,101.76,1597.36,323.675,187.74,343.12,1296.8,1006.28,618.52,252.76,329.36,184.52,1068.28,108.45,141.8,68.445,356.0,860.13,164.92,182.235,451.665,175.32,218.08,289.32,66.24,80.35,147.045,76.4,33.945,1428.08,220.84,281.2,983.43,886.88,153.2,129.84,111.4,210.51,224.28,271.89,744.93,268.86,300.72,1098.04,121.08,167.4,0.0,1583.64,194.865,95.15,153.44,1107.12,816.6,528.84,155.08,238.14,62.84,701.76,1235.07,878.6,7.56,0.0,0.0,435.92,646.74,12.645,245.175,238.275,85.64,103.95,99.64,0.0,38.88,154.025,0.0,0.0,1393.2,138.555,91.52,770.04,784.35,34.65,0.0,0.0,24.12,102.6,58.5,649.66,329.55,111.04,908.36,31.4,197.64,46.035,1536.52,240.02,145.805,282.28,1235.96,945.44,557.68,191.92,268.52,123.68,1007.44,40.005,80.96,0.0,317.975,791.685,117.09,159.42,383.22,114.48,157.24,228.48,5.4,67.72,124.23,38.375,11.13,1538.145,180.0,220.36,914.985,929.295,115.175,77.625,73.375,142.065,163.44,203.445,676.485,410.075,239.88,1037.2,60.24,197.64,46.035,1536.52,240.02,145.805,282.28,1235.96,945.44,557.68,191.92,268.52,123.68,1007.44,40.005,80.96,0.0,317.975,791.685,117.09,159.42,383.22,114.48,157.24,228.48,5.4,67.72,124.23,38.375,11.13,1538.145,180.0,220.36,914.985,929.295,115.175,77.625,73.375,142.065,163.44,203.445,676.485,410.075,239.88,1037.2,60.24,185.85,0.0,217.415,117.7,272.07,1195.52,905.0,545.24,171.48,256.59,83.24,790.16,967.0,26.01,45.585,0.0,468.32,746.19,71.595,255.425,337.725,102.04,131.4,188.04,0.0,55.28,181.775,13.1,0.0,1492.65,157.005,179.92,869.49,883.8,89.9,32.13,48.1,96.57,123.0,157.95,771.265,384.825,199.48,996.76,53.82,202.185,25.875,220.88,121.165,264.36,1218.04,927.52,547.76,174.0,281.925,105.76,812.68,989.52,28.845,70.92,0.0,490.84,771.525,96.93,257.0,363.06,104.56,139.32,210.56,0.0,57.8,195.85,27.175,4.41,1517.985,159.84,202.44,894.825,909.135,103.975,57.465,62.175,121.905,145.52,183.285,802.23,398.9,222.0,1019.28,50.36,183.015,0.0,175.05,114.235,246.735,1173.0,882.48,542.72,168.96,253.755,76.72,863.595,944.48,23.175,20.25,0.0,449.8,720.855,46.26,253.85,312.39,99.52,119.565,165.52,0.0,52.76,167.7,10.56,0.0,1467.315,154.17,157.4,844.155,858.465,75.825,15.795,22.5,71.235,116.48,132.615,740.3,370.75,176.96,974.24,50.985,225.54,49.23,199.575,149.71,285.12,1238.8,948.28,560.52,194.76,305.28,126.52,833.44,1010.28,43.2,94.275,13.5,511.6,794.88,120.285,267.475,386.415,117.32,180.09,231.32,12.0,70.56,208.825,40.15,10.5,1541.34,183.195,223.2,918.18,932.49,116.95,80.82,75.15,145.26,166.28,206.64,830.775,411.875,242.76,1040.04,63.12,182.16,0.0,212.905,113.19,223.38,1152.24,861.72,541.96,168.2,252.9,75.96,746.88,923.72,22.32,14.895,0.0,449.04,697.5,27.405,253.375,289.035,98.76,118.71,144.76,0.0,52.0,162.225,0.0,0.0,1443.96,153.315,136.64,820.8,835.11,62.85,14.94,10.0,47.88,115.72,109.26,711.755,357.775,156.2,953.48,50.13,228.0,80.19,1566.88,281.765,187.55,312.64,1266.32,975.8,588.04,222.28,298.88,154.04,1037.8,74.16,111.32,36.0,336.95,825.84,151.245,170.805,417.375,144.84,187.6,258.84,35.76,98.08,135.615,57.35,22.515,1572.3,214.155,250.72,949.14,963.45,134.15,111.78,92.35,176.22,193.8,237.6,710.685,429.075,270.28,1067.56,90.64,173.7,0.0,1603.44,202.565,102.85,192.42,1124.72,834.2,534.44,160.68,244.44,68.44,809.28,1254.87,896.2,0.0,0.0,0.0,441.52,666.54,18.945,248.675,258.075,91.24,110.25,117.24,0.0,0.0,157.525,0.0,0.0,1413.0,144.855,109.12,789.84,804.15,45.65,0.0,0.0,30.42,108.2,78.3,673.915,340.575,128.68,1041.705,0.0,234.81,58.5,255.255,161.04,330.03,1247.04,956.52,568.76,203.0,314.55,134.76,1018.52,52.47,103.545,18.0,519.84,804.15,129.555,272.625,395.685,125.56,189.36,239.56,16.48,78.8,213.975,45.3,15.285,1550.61,192.465,231.44,927.45,941.76,122.1,90.09,80.3,154.53,174.52,215.91,842.105,417.025,251.0,1048.28,80.28,177.39,0.0,207.075,107.36,214.11,1144.0,853.48,537.72,163.96,248.13,71.72,738.64,915.48,0.0,0.0,0.0,444.8,688.23,22.635,250.725,279.765,94.52,113.94,136.52,0.0,0.0,159.575,0.0,0.0,1434.69,148.545,128.4,811.53,825.84,57.7,10.17,7.5,38.61,111.48,99.99,700.425,352.625,147.96,945.24,45.36,298.8,122.49,333.465,239.25,350.24,1303.92,1013.4,625.64,259.88,378.54,191.64,1075.4,116.46,167.535,76.455,576.72,868.14,193.545,308.175,459.675,182.44,253.35,296.44,73.36,135.68,249.525,80.85,36.615,256.455,288.32,991.44,1005.75,157.65,154.08,115.85,218.52,231.4,279.9,920.315,452.575,307.88,1105.16,128.24,158.4,0.0,1561.14,183.865,84.15,150.12,1087.12,796.6,520.84,147.08,229.14,54.84,681.76,1212.57,858.6,0.0,0.0,0.0,427.92,624.24,2.34,240.175,224.775,77.64,94.95,79.64,0.0,0.0,149.025,0.0,0.0,1370.7,129.555,71.52,747.54,829.035,22.15,0.0,0.0,0.0,94.6,0.0,622.215,317.075,91.08,888.36,0.0,290.04,133.32,367.07,223.245,374.68,1328.36,1037.84,650.08,284.32,360.92,216.08,923.0,1099.84,143.955,173.36,112.5,375.725,895.635,196.48,194.07,487.17,206.88,249.64,320.88,100.0,100.075,158.88,96.125,45.78,252.4,312.76,1018.935,1033.245,172.925,161.4,131.125,246.015,255.84,307.395,780.48,280.71,332.32,1129.6,152.68,180.405,0.0,1533.645,210.76,111.045,154.125,1062.68,772.16,540.4,166.64,251.145,74.4,739.485,834.16,20.565,13.14,0.0,447.48,596.745,25.65,252.4,246.78,97.2,116.955,75.2,0.0,50.44,161.25,0.0,0.0,1343.205,151.56,51.08,720.045,734.355,29.375,13.185,0.0,45.375,114.16,58.005,588.61,301.8,98.64,971.91,48.375,225.945,40.5,244.42,150.205,321.165,1239.16,948.64,560.88,195.12,305.685,126.88,1010.64,43.605,94.68,9.0,511.96,795.285,120.69,267.7,386.82,117.68,180.495,231.68,8.0,70.92,209.05,40.375,9.0,1541.745,183.6,223.56,918.585,932.895,117.175,81.225,75.375,145.665,166.64,207.045,831.215,412.075,243.08,1040.4,71.37,177.255,0.0,169.29,107.195,222.975,1151.88,861.36,537.6,163.84,247.995,71.6,746.52,1285.425,923.36,17.415,9.99,0.0,444.68,697.095,22.5,250.65,288.63,94.4,113.805,144.4,0.0,47.64,159.5,0.0,0.0,1443.555,148.41,136.28,820.395,834.705,62.625,10.035,12.5,47.475,111.36,108.855,711.205,357.525,155.8,953.12,45.18,185.58,0.0,217.085,117.37,235.8,1163.28,872.76,545.0,171.24,256.32,79.0,852.66,934.76,25.74,18.315,0.0,452.08,709.92,35.325,255.275,301.455,101.8,122.13,155.8,0.0,55.04,164.125,0.0,0.0,1456.38,156.735,147.68,833.22,847.53,69.75,18.36,28.1,73.7,118.76,121.68,726.88,364.65,167.2,1085.085,53.505,189.44,32.72,1528.32,228.745,110.07,274.08,1227.76,937.24,549.48,183.72,260.32,115.48,822.4,999.24,30.78,72.76,4.5,312.85,782.46,95.88,156.345,373.995,106.28,149.04,220.28,4.0,37.2,121.155,33.25,8.055,1528.92,151.8,212.16,905.76,920.07,110.05,60.8,68.25,132.84,155.24,194.22,667.26,242.97,231.68,1029.0,52.04,321.795,68.985,268.07,173.855,302.68,1256.36,965.84,578.08,212.32,325.035,144.08,1027.84,62.955,114.03,4.5,529.16,814.635,140.04,278.45,406.17,134.88,177.64,248.88,25.8,88.12,219.8,51.125,18.78,1561.095,202.95,240.76,937.935,952.245,127.925,100.575,86.125,165.015,183.84,226.395,854.865,422.825,260.28,1057.6,80.64,153.405,0.0,1538.145,177.76,78.045,127.125,1066.68,776.16,516.4,142.64,224.145,50.4,743.985,1189.575,838.16,0.0,0.0,0.0,423.48,601.245,0.0,237.4,219.78,73.2,89.955,59.2,0.0,26.44,146.25,0.0,0.0,1347.705,124.56,51.08,724.545,738.855,14.375,0.0,0.0,10.125,90.16,31.005,594.055,304.275,74.6,867.92,21.33,185.85,0.0,217.415,117.7,272.07,1195.52,905.0,545.24,171.48,256.59,83.24,790.16,967.0,26.01,45.585,0.0,468.32,746.19,71.595,255.425,337.725,102.04,131.4,188.04,0.0,55.28,181.775,13.1,0.0,1492.65,157.005,179.92,869.49,883.8,89.9,32.13,48.1,96.57,123.0,157.95,771.21,384.8,199.44,996.76,53.775,185.85,0.0,217.415,117.7,272.07,1195.52,905.0,545.24,171.48,256.59,83.24,790.16,967.0,26.01,45.585,0.0,468.32,746.19,71.595,255.425,337.725,102.04,131.4,188.04,0.0,55.28,181.775,13.1,0.0,1492.65,157.005,179.92,869.49,883.8,89.9,32.13,48.1,96.57,123.0,157.95,771.21,384.8,199.44,996.76,53.775,238.08,81.36,1576.96,295.625,164.79,322.72,1276.4,985.88,598.12,232.36,308.96,164.12,1047.88,85.5,121.4,45.495,343.25,837.18,144.52,174.585,428.715,154.92,197.68,168.075,45.84,67.6,139.395,63.65,26.295,1407.68,200.44,260.8,960.48,866.48,84.27,109.44,98.65,187.56,203.88,221.28,722.025,261.225,280.36,1077.64,100.72,260.6,103.88,1599.48,326.59,190.125,345.24,811.825,1008.4,620.64,159.3,331.48,116.65,1324.9,1070.4,110.835,143.92,62.96,357.325,862.515,167.04,183.03,403.6,177.44,220.2,182.15,68.36,81.675,147.84,77.725,34.74,1430.2,222.96,177.075,985.815,889.0,92.715,131.96,112.725,212.895,226.4,243.8,747.36,269.67,302.88,1100.16,123.24,215.56,58.84,1554.44,286.66,152.955,300.2,1253.88,963.36,595.6,221.84,286.44,141.6,1025.36,82.665,98.88,45.495,329.175,811.845,122.0,172.14,403.38,152.4,175.16,246.4,40.44,66.025,130.95,49.575,15.165,1558.305,189.92,238.28,935.145,949.455,126.375,86.92,84.575,162.225,181.36,223.605,696.69,252.78,257.84,1055.12,98.2,281.36,124.64,355.135,213.48,366.0,824.8,1029.16,641.4,275.64,352.24,207.4,1337.875,1091.16,134.19,164.68,94.185,370.3,885.87,187.8,190.815,424.36,198.2,240.96,195.125,89.12,94.65,155.625,90.7,42.525,1450.96,243.72,190.05,1009.17,909.76,100.5,152.72,125.7,236.25,247.16,264.56,770.715,277.455,323.64,1120.92,144.0,214.8,40.44,1533.68,233.685,152.1,279.44,1233.12,942.6,594.84,221.08,277.68,128.84,1004.6,81.81,78.12,45.495,316.2,788.49,101.24,171.855,380.025,151.64,158.4,225.64,40.44,65.55,123.165,25.275,15.165,1364.4,189.16,217.52,911.79,823.2,113.4,66.16,52.775,138.87,168.6,200.25,673.335,244.995,237.08,1034.36,97.44,308.88,152.16,392.975,244.44,393.52,842.0,1056.68,668.92,189.475,379.76,146.825,1355.075,699.175,146.8,192.2,111.24,387.5,916.83,215.32,201.135,451.88,141.075,268.48,212.325,116.64,111.85,165.945,107.9,52.845,1478.48,271.24,207.25,1040.13,937.28,110.82,180.24,142.9,267.21,171.675,292.08,801.675,287.775,219.475,1148.44,171.52,207.28,45.495,1506.16,225.225,175.56,251.92,1205.6,915.08,587.32,213.56,270.16,121.32,977.08,73.35,58.6,45.495,309.0,757.53,82.935,169.035,349.065,144.12,150.88,198.12,40.44,40.44,114.345,25.275,15.165,1503.99,204.345,190.0,880.83,895.14,96.2,65.97,40.275,107.91,161.08,169.29,642.375,391.125,209.56,1006.84,89.92,289.6,132.88,366.465,222.75,374.24,1327.92,1037.4,649.64,283.88,360.48,215.64,1099.4,143.46,172.92,103.455,375.45,895.14,196.04,193.905,486.675,206.44,249.2,200.275,97.36,99.8,158.715,95.85,45.615,1459.2,251.96,312.32,1018.44,918.0,103.59,160.96,130.85,245.52,255.4,272.8,779.985,280.545,331.88,1129.16,152.24,210.56,40.44,1525.44,279.785,147.33,271.2,1224.88,934.36,590.6,216.84,273.44,124.6,996.36,77.04,69.88,45.495,311.05,779.22,93.0,170.265,370.755,147.4,154.16,135.875,40.44,62.9,120.075,25.275,15.165,1356.16,184.92,209.28,902.52,814.96,64.95,61.92,50.275,129.6,164.36,169.76,664.065,241.905,228.84,1026.12,93.2,346.48,189.76,444.675,286.74,431.12,865.5,1094.28,706.52,340.76,417.36,272.52,1378.575,1156.28,207.45,229.8,167.445,411.0,959.13,252.92,215.235,489.48,263.32,306.08,235.825,154.24,135.35,180.045,131.4,66.945,1516.08,308.84,230.75,1082.43,974.88,124.92,217.84,166.4,309.51,312.28,329.68,843.975,301.875,388.76,1186.04,209.12,193.68,40.44,1468.56,256.575,128.34,214.32,1168.0,877.48,573.72,199.96,256.56,107.72,762.64,939.48,58.05,45.0,45.495,300.5,715.23,56.12,163.935,306.765,130.52,137.28,160.52,40.44,52.35,109.245,25.275,15.165,1299.28,168.04,152.4,838.53,758.08,72.7,45.04,25.275,74.61,147.48,126.99,600.075,220.575,171.96,969.24,76.32,370.92,214.2,478.28,314.235,455.56,880.775,1118.72,730.96,228.25,441.8,185.6,1393.85,737.95,208.84,254.24,173.28,426.275,877.0,277.36,224.4,513.92,179.85,330.52,251.1,178.68,150.625,189.21,146.675,76.11,1540.52,333.28,246.025,986.6,999.32,134.085,242.28,181.675,337.005,210.45,354.12,871.47,311.04,258.25,1210.48,233.56,239.895,45.495,283.47,183.755,189.88,1143.56,853.04,593.28,219.52,310.635,127.28,915.04,80.055,72.63,45.495,500.36,687.735,85.14,285.45,306.27,150.08,156.84,136.08,40.44,103.32,194.3,38.125,15.165,1434.195,211.05,127.96,811.035,825.345,62.425,72.675,43.125,96.615,167.04,117.495,699.82,352.35,151.52,944.8,95.88,281.72,125.0,355.63,213.885,366.36,1320.04,1029.52,641.76,276.0,352.6,207.76,1091.52,134.595,165.04,94.59,370.525,886.275,188.16,190.95,477.81,198.56,241.32,195.35,89.48,94.875,155.76,90.925,42.66,1451.32,244.08,304.44,1009.575,910.12,100.635,153.08,125.925,236.655,247.52,264.92,771.075,277.575,323.96,1121.28,144.32,194.44,37.72,1533.32,241.12,115.695,279.08,1232.76,942.24,562.48,188.72,265.32,120.48,1004.24,45.405,77.76,0.0,315.975,788.085,100.88,159.72,379.62,119.28,154.04,140.8,10.2,45.325,123.03,36.375,9.93,1364.04,156.8,217.16,911.385,822.84,67.905,65.8,71.375,138.465,160.24,177.64,672.885,244.845,236.68,1034.0,65.04,231.57,55.26,251.295,157.08,290.48,1244.16,953.64,569.88,200.12,311.31,131.88,1015.64,53.73,100.305,0.0,516.96,800.91,126.315,270.825,392.445,126.68,165.44,236.68,17.6,79.92,212.175,43.5,14.205,1547.37,189.225,228.56,924.21,938.52,120.3,86.85,78.5,151.29,171.64,212.67,838.09,415.2,248.08,1045.4,72.44,270.32,113.6,1609.2,339.955,201.06,354.96,817.9,1018.12,630.36,165.375,341.2,122.725,1330.975,675.075,108.24,153.64,72.68,363.4,776.4,176.76,186.675,413.32,116.975,229.92,188.225,78.08,87.75,151.485,83.8,38.385,1439.92,232.68,183.15,886.0,898.72,96.36,141.68,118.8,223.83,147.575,253.52,758.25,273.3,195.35,1109.88,132.92,366.92,142.2,379.28,233.235,383.56,835.775,1046.72,658.96,183.25,369.8,140.6,1348.85,1108.72,153.945,182.24,101.28,381.275,905.625,205.36,197.4,441.92,215.76,258.52,206.1,106.68,105.625,162.21,101.675,49.11,1468.52,261.28,201.025,1028.925,927.32,107.085,170.28,136.675,256.005,264.72,282.12,790.425,284.025,341.16,1138.48,161.52,161.24,0.0,1448.12,211.97,91.845,193.88,1147.56,857.04,541.28,167.52,224.12,75.28,742.2,919.04,21.555,12.56,0.0,280.225,692.235,23.68,151.77,283.77,98.08,104.84,140.08,0.0,32.075,97.08,5.625,0.0,1438.695,135.6,131.96,815.535,829.845,59.925,12.6,18.125,42.615,115.04,103.995,577.035,212.895,151.48,948.8,43.84,238.08,81.36,1576.96,295.625,164.79,322.72,1276.4,985.88,598.12,232.36,308.96,164.12,1047.88,85.5,121.4,45.495,343.25,837.18,144.52,174.585,428.715,154.92,197.68,168.075,45.84,67.6,139.395,63.65,26.295,1407.68,200.44,260.8,960.48,866.48,84.27,109.44,98.65,187.56,203.88,221.28,721.98,261.21,280.32,1077.64,100.68,238.08,81.36,1576.96,295.625,164.79,322.72,1276.4,985.88,598.12,232.36,308.96,164.12,1047.88,85.5,121.4,45.495,343.25,837.18,144.52,174.585,428.715,154.92,197.68,168.075,45.84,67.6,139.395,63.65,26.295,1407.68,200.44,260.8,960.48,866.48,84.27,109.44,98.65,187.56,203.88,221.28,721.98,261.21,280.32,1077.64,100.68],\"x0\":\" \",\"xaxis\":\"x\",\"y0\":\" \",\"yaxis\":\"y\",\"type\":\"box\"}],                        {\"template\":{\"data\":{\"histogram2dcontour\":[{\"type\":\"histogram2dcontour\",\"colorbar\":{\"outlinewidth\":0,\"ticks\":\"\"},\"colorscale\":[[0.0,\"#0d0887\"],[0.1111111111111111,\"#46039f\"],[0.2222222222222222,\"#7201a8\"],[0.3333333333333333,\"#9c179e\"],[0.4444444444444444,\"#bd3786\"],[0.5555555555555556,\"#d8576b\"],[0.6666666666666666,\"#ed7953\"],[0.7777777777777778,\"#fb9f3a\"],[0.8888888888888888,\"#fdca26\"],[1.0,\"#f0f921\"]]}],\"choropleth\":[{\"type\":\"choropleth\",\"colorbar\":{\"outlinewidth\":0,\"ticks\":\"\"}}],\"histogram2d\":[{\"type\":\"histogram2d\",\"colorbar\":{\"outlinewidth\":0,\"ticks\":\"\"},\"colorscale\":[[0.0,\"#0d0887\"],[0.1111111111111111,\"#46039f\"],[0.2222222222222222,\"#7201a8\"],[0.3333333333333333,\"#9c179e\"],[0.4444444444444444,\"#bd3786\"],[0.5555555555555556,\"#d8576b\"],[0.6666666666666666,\"#ed7953\"],[0.7777777777777778,\"#fb9f3a\"],[0.8888888888888888,\"#fdca26\"],[1.0,\"#f0f921\"]]}],\"heatmap\":[{\"type\":\"heatmap\",\"colorbar\":{\"outlinewidth\":0,\"ticks\":\"\"},\"colorscale\":[[0.0,\"#0d0887\"],[0.1111111111111111,\"#46039f\"],[0.2222222222222222,\"#7201a8\"],[0.3333333333333333,\"#9c179e\"],[0.4444444444444444,\"#bd3786\"],[0.5555555555555556,\"#d8576b\"],[0.6666666666666666,\"#ed7953\"],[0.7777777777777778,\"#fb9f3a\"],[0.8888888888888888,\"#fdca26\"],[1.0,\"#f0f921\"]]}],\"heatmapgl\":[{\"type\":\"heatmapgl\",\"colorbar\":{\"outlinewidth\":0,\"ticks\":\"\"},\"colorscale\":[[0.0,\"#0d0887\"],[0.1111111111111111,\"#46039f\"],[0.2222222222222222,\"#7201a8\"],[0.3333333333333333,\"#9c179e\"],[0.4444444444444444,\"#bd3786\"],[0.5555555555555556,\"#d8576b\"],[0.6666666666666666,\"#ed7953\"],[0.7777777777777778,\"#fb9f3a\"],[0.8888888888888888,\"#fdca26\"],[1.0,\"#f0f921\"]]}],\"contourcarpet\":[{\"type\":\"contourcarpet\",\"colorbar\":{\"outlinewidth\":0,\"ticks\":\"\"}}],\"contour\":[{\"type\":\"contour\",\"colorbar\":{\"outlinewidth\":0,\"ticks\":\"\"},\"colorscale\":[[0.0,\"#0d0887\"],[0.1111111111111111,\"#46039f\"],[0.2222222222222222,\"#7201a8\"],[0.3333333333333333,\"#9c179e\"],[0.4444444444444444,\"#bd3786\"],[0.5555555555555556,\"#d8576b\"],[0.6666666666666666,\"#ed7953\"],[0.7777777777777778,\"#fb9f3a\"],[0.8888888888888888,\"#fdca26\"],[1.0,\"#f0f921\"]]}],\"surface\":[{\"type\":\"surface\",\"colorbar\":{\"outlinewidth\":0,\"ticks\":\"\"},\"colorscale\":[[0.0,\"#0d0887\"],[0.1111111111111111,\"#46039f\"],[0.2222222222222222,\"#7201a8\"],[0.3333333333333333,\"#9c179e\"],[0.4444444444444444,\"#bd3786\"],[0.5555555555555556,\"#d8576b\"],[0.6666666666666666,\"#ed7953\"],[0.7777777777777778,\"#fb9f3a\"],[0.8888888888888888,\"#fdca26\"],[1.0,\"#f0f921\"]]}],\"mesh3d\":[{\"type\":\"mesh3d\",\"colorbar\":{\"outlinewidth\":0,\"ticks\":\"\"}}],\"scatter\":[{\"fillpattern\":{\"fillmode\":\"overlay\",\"size\":10,\"solidity\":0.2},\"type\":\"scatter\"}],\"parcoords\":[{\"type\":\"parcoords\",\"line\":{\"colorbar\":{\"outlinewidth\":0,\"ticks\":\"\"}}}],\"scatterpolargl\":[{\"type\":\"scatterpolargl\",\"marker\":{\"colorbar\":{\"outlinewidth\":0,\"ticks\":\"\"}}}],\"bar\":[{\"error_x\":{\"color\":\"#2a3f5f\"},\"error_y\":{\"color\":\"#2a3f5f\"},\"marker\":{\"line\":{\"color\":\"#E5ECF6\",\"width\":0.5},\"pattern\":{\"fillmode\":\"overlay\",\"size\":10,\"solidity\":0.2}},\"type\":\"bar\"}],\"scattergeo\":[{\"type\":\"scattergeo\",\"marker\":{\"colorbar\":{\"outlinewidth\":0,\"ticks\":\"\"}}}],\"scatterpolar\":[{\"type\":\"scatterpolar\",\"marker\":{\"colorbar\":{\"outlinewidth\":0,\"ticks\":\"\"}}}],\"histogram\":[{\"marker\":{\"pattern\":{\"fillmode\":\"overlay\",\"size\":10,\"solidity\":0.2}},\"type\":\"histogram\"}],\"scattergl\":[{\"type\":\"scattergl\",\"marker\":{\"colorbar\":{\"outlinewidth\":0,\"ticks\":\"\"}}}],\"scatter3d\":[{\"type\":\"scatter3d\",\"line\":{\"colorbar\":{\"outlinewidth\":0,\"ticks\":\"\"}},\"marker\":{\"colorbar\":{\"outlinewidth\":0,\"ticks\":\"\"}}}],\"scattermapbox\":[{\"type\":\"scattermapbox\",\"marker\":{\"colorbar\":{\"outlinewidth\":0,\"ticks\":\"\"}}}],\"scatterternary\":[{\"type\":\"scatterternary\",\"marker\":{\"colorbar\":{\"outlinewidth\":0,\"ticks\":\"\"}}}],\"scattercarpet\":[{\"type\":\"scattercarpet\",\"marker\":{\"colorbar\":{\"outlinewidth\":0,\"ticks\":\"\"}}}],\"carpet\":[{\"aaxis\":{\"endlinecolor\":\"#2a3f5f\",\"gridcolor\":\"white\",\"linecolor\":\"white\",\"minorgridcolor\":\"white\",\"startlinecolor\":\"#2a3f5f\"},\"baxis\":{\"endlinecolor\":\"#2a3f5f\",\"gridcolor\":\"white\",\"linecolor\":\"white\",\"minorgridcolor\":\"white\",\"startlinecolor\":\"#2a3f5f\"},\"type\":\"carpet\"}],\"table\":[{\"cells\":{\"fill\":{\"color\":\"#EBF0F8\"},\"line\":{\"color\":\"white\"}},\"header\":{\"fill\":{\"color\":\"#C8D4E3\"},\"line\":{\"color\":\"white\"}},\"type\":\"table\"}],\"barpolar\":[{\"marker\":{\"line\":{\"color\":\"#E5ECF6\",\"width\":0.5},\"pattern\":{\"fillmode\":\"overlay\",\"size\":10,\"solidity\":0.2}},\"type\":\"barpolar\"}],\"pie\":[{\"automargin\":true,\"type\":\"pie\"}]},\"layout\":{\"autotypenumbers\":\"strict\",\"colorway\":[\"#636efa\",\"#EF553B\",\"#00cc96\",\"#ab63fa\",\"#FFA15A\",\"#19d3f3\",\"#FF6692\",\"#B6E880\",\"#FF97FF\",\"#FECB52\"],\"font\":{\"color\":\"#2a3f5f\"},\"hovermode\":\"closest\",\"hoverlabel\":{\"align\":\"left\"},\"paper_bgcolor\":\"white\",\"plot_bgcolor\":\"#E5ECF6\",\"polar\":{\"bgcolor\":\"#E5ECF6\",\"angularaxis\":{\"gridcolor\":\"white\",\"linecolor\":\"white\",\"ticks\":\"\"},\"radialaxis\":{\"gridcolor\":\"white\",\"linecolor\":\"white\",\"ticks\":\"\"}},\"ternary\":{\"bgcolor\":\"#E5ECF6\",\"aaxis\":{\"gridcolor\":\"white\",\"linecolor\":\"white\",\"ticks\":\"\"},\"baxis\":{\"gridcolor\":\"white\",\"linecolor\":\"white\",\"ticks\":\"\"},\"caxis\":{\"gridcolor\":\"white\",\"linecolor\":\"white\",\"ticks\":\"\"}},\"coloraxis\":{\"colorbar\":{\"outlinewidth\":0,\"ticks\":\"\"}},\"colorscale\":{\"sequential\":[[0.0,\"#0d0887\"],[0.1111111111111111,\"#46039f\"],[0.2222222222222222,\"#7201a8\"],[0.3333333333333333,\"#9c179e\"],[0.4444444444444444,\"#bd3786\"],[0.5555555555555556,\"#d8576b\"],[0.6666666666666666,\"#ed7953\"],[0.7777777777777778,\"#fb9f3a\"],[0.8888888888888888,\"#fdca26\"],[1.0,\"#f0f921\"]],\"sequentialminus\":[[0.0,\"#0d0887\"],[0.1111111111111111,\"#46039f\"],[0.2222222222222222,\"#7201a8\"],[0.3333333333333333,\"#9c179e\"],[0.4444444444444444,\"#bd3786\"],[0.5555555555555556,\"#d8576b\"],[0.6666666666666666,\"#ed7953\"],[0.7777777777777778,\"#fb9f3a\"],[0.8888888888888888,\"#fdca26\"],[1.0,\"#f0f921\"]],\"diverging\":[[0,\"#8e0152\"],[0.1,\"#c51b7d\"],[0.2,\"#de77ae\"],[0.3,\"#f1b6da\"],[0.4,\"#fde0ef\"],[0.5,\"#f7f7f7\"],[0.6,\"#e6f5d0\"],[0.7,\"#b8e186\"],[0.8,\"#7fbc41\"],[0.9,\"#4d9221\"],[1,\"#276419\"]]},\"xaxis\":{\"gridcolor\":\"white\",\"linecolor\":\"white\",\"ticks\":\"\",\"title\":{\"standoff\":15},\"zerolinecolor\":\"white\",\"automargin\":true,\"zerolinewidth\":2},\"yaxis\":{\"gridcolor\":\"white\",\"linecolor\":\"white\",\"ticks\":\"\",\"title\":{\"standoff\":15},\"zerolinecolor\":\"white\",\"automargin\":true,\"zerolinewidth\":2},\"scene\":{\"xaxis\":{\"backgroundcolor\":\"#E5ECF6\",\"gridcolor\":\"white\",\"linecolor\":\"white\",\"showbackground\":true,\"ticks\":\"\",\"zerolinecolor\":\"white\",\"gridwidth\":2},\"yaxis\":{\"backgroundcolor\":\"#E5ECF6\",\"gridcolor\":\"white\",\"linecolor\":\"white\",\"showbackground\":true,\"ticks\":\"\",\"zerolinecolor\":\"white\",\"gridwidth\":2},\"zaxis\":{\"backgroundcolor\":\"#E5ECF6\",\"gridcolor\":\"white\",\"linecolor\":\"white\",\"showbackground\":true,\"ticks\":\"\",\"zerolinecolor\":\"white\",\"gridwidth\":2}},\"shapedefaults\":{\"line\":{\"color\":\"#2a3f5f\"}},\"annotationdefaults\":{\"arrowcolor\":\"#2a3f5f\",\"arrowhead\":0,\"arrowwidth\":1},\"geo\":{\"bgcolor\":\"white\",\"landcolor\":\"#E5ECF6\",\"subunitcolor\":\"white\",\"showland\":true,\"showlakes\":true,\"lakecolor\":\"white\"},\"title\":{\"x\":0.05},\"mapbox\":{\"style\":\"light\"}}},\"xaxis\":{\"anchor\":\"y\",\"domain\":[0.0,1.0],\"title\":{\"text\":\"Customer Value\"}},\"yaxis\":{\"anchor\":\"x\",\"domain\":[0.0,1.0]},\"legend\":{\"tracegroupgap\":0},\"margin\":{\"t\":60},\"boxmode\":\"group\"},                        {\"responsive\": true}                    ).then(function(){\n",
              "                            \n",
              "var gd = document.getElementById('400c4f10-1974-4d69-aa07-ed3b8c8a92ef');\n",
              "var x = new MutationObserver(function (mutations, observer) {{\n",
              "        var display = window.getComputedStyle(gd).display;\n",
              "        if (!display || display === 'none') {{\n",
              "            console.log([gd, 'removed!']);\n",
              "            Plotly.purge(gd);\n",
              "            observer.disconnect();\n",
              "        }}\n",
              "}});\n",
              "\n",
              "// Listen for the removal of the full notebook cells\n",
              "var notebookContainer = gd.closest('#notebook-container');\n",
              "if (notebookContainer) {{\n",
              "    x.observe(notebookContainer, {childList: true});\n",
              "}}\n",
              "\n",
              "// Listen for the clearing of the current output cell\n",
              "var outputEl = gd.closest('.output');\n",
              "if (outputEl) {{\n",
              "    x.observe(outputEl, {childList: true});\n",
              "}}\n",
              "\n",
              "                        })                };                            </script>        </div>\n",
              "</body>\n",
              "</html>"
            ]
          },
          "metadata": {}
        }
      ]
    },
    {
      "cell_type": "code",
      "source": [
        "plot = px.box(df_1 , x = \"Seconds of Use\")    # we can see that have dealt a little bit with the outlier in the Second of use\n",
        "plot.show()                                   # i did not remove further due to less data set"
      ],
      "metadata": {
        "colab": {
          "base_uri": "https://localhost:8080/",
          "height": 542
        },
        "id": "43tGR-ZooKpY",
        "outputId": "5a152793-bd47-43b9-8f6b-0918c0cd9f5b"
      },
      "execution_count": null,
      "outputs": [
        {
          "output_type": "display_data",
          "data": {
            "text/html": [
              "<html>\n",
              "<head><meta charset=\"utf-8\" /></head>\n",
              "<body>\n",
              "    <div>            <script src=\"https://cdnjs.cloudflare.com/ajax/libs/mathjax/2.7.5/MathJax.js?config=TeX-AMS-MML_SVG\"></script><script type=\"text/javascript\">if (window.MathJax && window.MathJax.Hub && window.MathJax.Hub.Config) {window.MathJax.Hub.Config({SVG: {font: \"STIX-Web\"}});}</script>                <script type=\"text/javascript\">window.PlotlyConfig = {MathJaxConfig: 'local'};</script>\n",
              "        <script charset=\"utf-8\" src=\"https://cdn.plot.ly/plotly-2.24.1.min.js\"></script>                <div id=\"d3b23ea3-40c1-43e3-aab0-1549d35c41f0\" class=\"plotly-graph-div\" style=\"height:525px; width:100%;\"></div>            <script type=\"text/javascript\">                                    window.PLOTLYENV=window.PLOTLYENV || {};                                    if (document.getElementById(\"d3b23ea3-40c1-43e3-aab0-1549d35c41f0\")) {                    Plotly.newPlot(                        \"d3b23ea3-40c1-43e3-aab0-1549d35c41f0\",                        [{\"alignmentgroup\":\"True\",\"hovertemplate\":\"Seconds of Use=%{x}\\u003cextra\\u003e\\u003c\\u002fextra\\u003e\",\"legendgroup\":\"\",\"marker\":{\"color\":\"#636efa\"},\"name\":\"\",\"notched\":false,\"offsetgroup\":\"\",\"orientation\":\"h\",\"showlegend\":false,\"x\":[4370,318,2453,4198,2393,3775,2360,9115,13773,4515,5918,2238,6500,875,710,0,11465,6718,955,10435,5818,2840,2990,2268,133,1668,6785,628,338,6965,3718,1665,2780,1315,1568,700,825,1225,3225,1695,6393,8933,2853,4390,1488,4430,378,2513,4258,2453,3835,2420,9175,13833,4575,5978,2298,6560,935,770,60,11525,6778,1015,10495,5878,2900,3050,2328,193,1728,6845,688,398,7025,3778,1725,2840,1375,1628,760,885,1285,3285,1755,6453,8993,2913,4450,1548,4310,258,4138,2333,3715,2300,9055,13713,4455,5858,2178,6440,815,650,0,11405,6658,895,10375,5758,2780,2930,2208,0,1608,6725,568,0,6905,3658,1605,2720,1255,1508,640,765,1165,3165,1635,6333,8873,2793,4330,1428,4450,398,2533,4278,2473,3855,2440,9195,13853,4595,5998,2318,6580,955,790,80,11545,6798,1035,10515,5898,2920,3070,2348,213,1748,6865,708,418,7045,3798,1745,2860,1395,1648,780,905,1305,3305,1775,6473,9013,2933,4470,1568,4290,0,4118,2313,3695,2280,9035,13693,4435,5838,2158,6420,795,630,0,11385,6638,875,10355,5738,2760,2910,2188,0,1588,6705,0,0,6885,3638,1585,2700,1235,1488,620,0,1145,3145,1615,6313,8853,2773,4310,1408,4630,578,2713,4458,2653,4035,2620,9375,14033,4775,6178,2498,6760,1135,970,260,11725,6978,1215,10695,6078,3100,3250,2528,393,1928,7045,888,598,7225,3978,1925,3040,1575,1828,960,1085,1485,3485,1955,6653,9193,3113,4650,1748,4110,0,3938,2133,3515,2100,8855,13513,4255,5658,1978,14880,6240,615,450,0,11205,6458,695,10175,5558,2580,2730,2008,0,0,6525,0,0,6705,3458,1405,2520,1055,1308,440,0,965,2965,1435,6133,8673,2593,4130,1228,4550,498,2633,4378,2573,3955,2540,9295,13953,4695,6098,2418,6680,1055,890,180,11645,6898,1135,10615,5998,3020,3170,2448,313,1848,6965,808,518,7145,3898,1845,2960,1495,1748,880,1005,1405,3405,1875,6573,9113,3033,4570,1668,4190,0,2273,4018,2213,3595,2180,8935,13593,4335,5738,2058,14960,6320,695,530,0,11285,6538,775,10255,5638,2660,2810,2088,0,1488,6605,0,0,6785,3538,1485,2600,1135,1388,520,0,1045,3045,1515,6213,8753,2673,4210,1308,4970,918,4798,2993,4375,2960,9715,14373,5115,6518,2838,7100,1475,1310,600,12065,7318,1555,11035,6418,3440,3590,2868,733,2268,7385,1228,938,4318,2265,3380,1915,2168,1300,1425,1825,3825,2295,6993,9533,3453,4990,2088,3770,0,1853,3598,1793,3175,1760,8515,13173,3915,5318,1638,14540,14885,5900,275,110,0,10865,6118,355,9835,5218,2240,2390,1668,0,1068,6185,0,0,6365,3118,1065,2180,715,968,100,0,625,2625,1095,5793,8333,2253,3790,888,4485,433,4313,2508,3890,2475,9230,13888,4630,6033,2353,3210,6615,990,825,115,11580,6833,1070,10550,5933,2955,3105,2383,248,1783,6900,743,453,7080,3833,1780,2895,1430,1683,815,940,1340,3340,1810,6508,9048,2968,4505,1603,4255,0,2338,4083,2278,3660,2245,9000,13658,4400,5803,2123,6385,760,595,0,11350,6603,840,10320,5703,2725,2875,2153,0,1553,6670,513,0,6850,3603,1550,2665,1200,1453,585,710,1110,3110,1580,6278,8818,2738,4275,1373,4560,508,2643,4388,2583,3965,2550,9305,13963,4705,6108,2428,6690,1065,900,190,11655,6908,1145,10625,6008,3030,3180,2458,323,1858,6975,818,528,7155,3908,1855,2970,1505,1758,890,1015,1415,3415,1885,6582,9122,3042,4580,1677,4180,128,2263,4008,2203,3585,2170,8925,13583,4325,5728,2048,14950,6310,685,520,0,11275,6528,765,10245,5628,2650,2800,2078,0,1478,6595,438,0,6775,3528,1475,2590,1125,1378,510,635,1035,3035,1505,6202,8742,2662,4200,1297,4370,318,4198,2393,3775,2360,9115,13773,4515,5918,2238,6500,875,710,0,11465,6718,955,10435,5818,2840,2990,2268,0,1668,6785,628,338,6965,3718,1665,2780,1315,1568,700,825,1225,3225,1695,6392,8932,2852,4390,1487,4370,318,2453,4198,2393,3775,2360,9115,13773,4515,5918,2238,3095,6500,875,710,0,11465,6718,955,10435,5818,2840,2990,2268,133,1668,6785,628,338,6965,3718,1665,2780,1315,1568,700,825,1225,3225,1695,6392,8932,2852,4390,1487,5080,1028,3163,4908,3103,4485,3070,9825,14483,5225,6628,2948,7210,1585,1420,710,12175,7428,1665,11145,6528,3550,3700,2978,843,2378,7495,1338,1048,7675,4428,2375,3490,2025,2278,1410,1535,1935,3935,2405,7102,9642,3562,5100,2197,3660,0,1743,3488,1683,3065,1650,8405,13063,3805,5208,1528,14430,14775,5790,165,0,0,10755,6008,245,9725,5108,2130,2280,1558,0,958,6075,0,0,6255,3008,955,2070,605,858,0,0,515,2515,985,5682,8222,2142,3680,777,4370,318,2453,4198,2393,3775,2360,9115,13773,4515,5918,2238,6500,875,710,0,11465,6718,955,10435,5818,2840,2990,2268,133,1668,6785,628,338,6965,3718,1665,2780,1315,1568,700,825,1225,3225,1695,6392,8932,2852,4390,1487,4370,318,2453,4198,2393,3775,2360,9115,13773,4515,5918,2238,6500,875,710,0,11465,6718,955,10435,5818,2840,2990,2268,133,1668,6785,628,338,6965,3718,1665,2780,1315,1568,700,825,1225,3225,1695,6392,8932,2852,4390,1487,4065,0,3893,2088,3470,2055,8810,13468,4210,5613,1933,14835,6195,570,405,0,11160,6413,650,10130,5513,2535,2685,1963,0,1363,6480,323,0,6660,3413,1360,2475,1010,1263,395,520,920,2920,1390,6088,8628,2548,4085,1183,4125,73,3953,2148,3530,2115,8870,13528,4270,5673,1993,14895,6255,630,465,0,11220,6473,710,10190,5573,2595,2745,2023,0,1423,6540,383,93,6720,3473,1420,2535,1070,1323,455,580,980,2980,1450,6148,8688,2608,4145,1243,4005,0,3833,2028,3410,1995,8750,13408,4150,5553,1873,14775,6135,510,345,0,11100,6353,590,10070,5453,2475,2625,1903,0,1303,6420,263,0,6600,3353,1300,2415,950,1203,335,0,860,2860,1330,6028,8568,2488,4025,1123,4145,93,3973,2168,3550,2135,8890,13548,4290,5693,2013,14915,6275,650,485,0,11240,6493,730,10210,5593,2615,2765,2043,0,1443,6560,403,0,6740,3493,1440,2555,1090,1343,475,600,1000,3000,1470,6168,8708,2628,4165,1263,3985,0,3813,2008,3390,1975,8730,13388,4130,5533,1853,14755,6115,490,325,0,11080,6333,570,10050,5433,2455,2605,1883,0,1283,6400,0,0,6580,3333,1280,2395,930,1183,315,0,840,2840,1310,6008,8548,2468,4005,1103,4325,273,2408,4153,2348,3730,2315,9070,13728,4470,5873,2193,6455,830,665,0,11420,6673,910,10390,5773,2795,2945,2223,88,1623,6740,583,293,6920,3673,1620,2735,1270,1523,655,780,1180,3180,1650,6348,8888,2808,4345,1443,3805,0,1888,3633,1828,3210,1795,8550,13208,3950,5353,1673,14575,14920,5935,0,0,0,10900,6153,390,9870,5253,2275,2425,1703,0,0,6220,0,0,6400,3153,1100,2215,750,1003,0,0,660,2660,1130,5828,8368,2288,3825,0,4245,193,4073,2268,3650,2235,8990,13648,4390,5793,2113,6375,750,585,0,11340,6593,830,10310,5693,2715,2865,2143,8,1543,6660,503,213,6840,3593,1540,2655,1190,1443,575,700,1100,3100,1570,6268,8808,2728,4265,1363,3885,0,3713,1908,3290,1875,8630,13288,4030,5433,1753,14655,6015,0,0,0,10980,6233,470,9950,5333,2355,2505,1783,0,0,6300,0,0,6480,3233,1180,2295,830,1083,215,0,740,2740,1210,5908,8448,2368,3905,1003,4665,613,4493,2688,4070,2655,9410,14068,4810,6213,2533,6795,1170,1005,295,11760,7013,1250,10730,6113,3135,3285,2563,428,1963,7080,923,633,4013,1960,3075,1610,1863,995,1120,1520,3520,1990,6688,9228,3148,4685,1783,3465,0,1548,3293,1488,2870,1455,8210,12868,3610,5013,1333,14235,14580,5595,0,0,0,10560,5813,50,9530,4913,1935,2085,1363,0,0,5880,0,0,6060,2813,760,1875,1903,663,0,0,0,2320,0,5488,8028,1948,3485,0,4180,128,4008,2203,3585,2170,8925,13583,4325,5728,2048,14950,6310,685,520,0,11275,6528,765,10245,5628,2650,2800,2078,0,1478,6595,438,148,3528,1475,2590,1125,1378,510,635,1035,3035,1505,6203,8743,2663,4200,1298,3950,0,2033,3778,1973,3355,1940,8695,13353,4095,5498,1818,14720,6080,455,290,0,11045,6298,535,10015,5398,2420,2570,1848,0,1248,6365,0,0,6545,3298,1245,2360,895,1148,280,0,805,2805,1275,5973,8513,2433,3970,1068,4255,0,4083,2278,3660,2245,9000,13658,4400,5803,2123,6385,760,595,0,11350,6603,840,10320,5703,2725,2875,2153,0,1553,6670,513,0,6850,3603,1550,2665,1200,1453,585,710,1110,3110,1580,6277,8817,2737,4275,1372,3875,0,3703,1898,3280,1865,8620,13278,4020,5423,1743,14645,14990,6005,380,215,0,10970,6223,460,9940,5323,2345,2495,1773,0,1173,6290,0,0,6470,3223,1170,2285,820,1073,205,0,730,2730,1200,5897,8437,2357,3895,992,4065,0,3893,2088,3470,2055,8810,13468,4210,5613,1933,14835,6195,570,405,0,11160,6413,650,10130,5513,2535,2685,1963,0,1363,6480,0,0,6660,3413,1360,2475,1010,1263,395,520,920,2920,1390,6087,8627,2547,4085,1182,4065,13,2148,3893,2088,3470,2055,8810,13468,4210,5613,1933,14835,6195,570,405,0,11160,6413,650,10130,5513,2535,2685,1963,0,1363,6480,323,33,6660,3413,1360,2475,1010,1263,395,520,920,2920,1390,6087,8627,2547,4085,1182,4775,723,4603,2798,4180,2765,9520,14178,4920,6323,2643,6905,1280,1115,0,11870,7123,1360,10840,6223,3245,3395,2673,538,2073,7190,1033,743,7370,4123,2070,3185,1720,1973,1105,1230,1630,3630,2100,6797,9337,3257,4795,1892,3355,0,1438,3183,1378,2760,1345,8100,12758,3500,4903,1223,14125,14470,5485,0,0,0,10450,5703,0,9420,4803,1825,1975,1253,0,653,5770,0,0,5950,2703,650,1765,300,553,0,0,210,2210,680,5377,7917,1837,3375,472,4065,0,3893,2088,3470,2055,8810,13468,4210,5613,1933,14835,6195,570,405,0,11160,6413,650,10130,5513,2535,2685,1963,0,1363,6480,323,0,6660,3413,1360,2475,1010,1263,395,520,920,2920,1390,6087,8627,2547,4085,1182,4065,0,3893,2088,3470,2055,8810,13468,4210,5613,1933,14835,6195,570,405,0,11160,6413,650,10130,5513,2535,2685,1963,0,1363,6480,323,0,6660,3413,1360,2475,1010,1263,395,520,920,2920,1390,6087,8627,2547,4085,1182,4675,623,2758,4503,2698,4080,2665,9420,14078,4820,6223,2543,6805,1180,1015,305,11770,7023,1260,10740,6123,3145,3295,2573,438,1973,7090,933,643,7270,4023,1970,3085,1620,1873,1005,1130,1530,3530,2000,6698,9238,3158,4695,1793,4735,683,2818,4563,2758,4140,2725,9480,14138,4880,6283,2603,3460,6865,1240,1075,365,11830,7083,1320,10800,6183,3205,3355,2633,498,2033,7150,993,703,7330,4083,2030,3145,1680,1933,1065,1190,1590,3590,2060,6758,9298,3218,4755,1853,4615,563,2698,4443,2638,4020,2605,9360,14018,4760,6163,2483,6745,1120,955,305,11710,6963,1200,10680,6063,3085,3235,2513,305,1913,7030,873,305,7210,3963,1910,3025,1560,1813,945,1070,1470,3470,1940,6638,9178,3098,4635,1733,4755,703,4583,2778,4160,2745,9500,14158,4900,6303,2623,3480,6885,1260,1095,385,11850,7103,1340,10820,6203,3225,3375,2653,518,2053,7170,1013,723,7350,4103,2050,3165,1700,1953,1085,1210,1610,3610,2080,6778,9318,3238,4775,1873,4595,305,2678,4423,2618,4000,2585,9340,13998,4740,6143,2463,6725,1100,935,305,11690,6943,1180,10660,6043,3065,3215,2493,305,1893,7010,305,305,7190,3943,1890,3005,1540,1793,925,305,1450,3450,1920,6618,9158,3078,4615,1713,4935,883,4763,2958,4340,2925,9680,14338,5080,6483,2803,3660,7065,1440,1275,565,12030,7283,1520,11000,6383,3405,3555,2833,698,2233,7350,1193,903,7530,4283,2230,3345,1880,2133,1265,1390,1790,3790,2260,6958,9498,3418,4955,2053,4415,305,2498,4243,2438,3820,2405,9160,13818,4560,5963,2283,6545,920,755,305,11510,6763,1000,10480,5863,2885,3035,2313,305,305,6830,305,305,7010,3763,1710,2825,1360,1613,745,305,1270,3270,1740,6438,8978,2898,4435,1533,4855,803,4683,2878,4260,2845,9600,14258,5000,6403,2723,6985,1360,1195,485,11950,7203,1440,10920,6303,3325,3475,2753,618,2153,7270,1113,823,7450,4203,2150,3265,1800,2053,1185,1310,1710,3710,2180,6878,9418,3338,4875,1973,4495,305,2578,4323,2518,3900,2485,9240,13898,4640,6043,2363,6625,1000,835,305,11590,6843,1080,10560,5943,2965,3115,2393,305,1793,6910,305,305,7090,3843,1790,2905,1440,1693,825,305,1350,3350,1820,6518,9058,2978,4515,1613,5275,1223,5103,3298,4680,3265,10020,14678,5420,6823,3143,4000,7405,1780,1615,905,12370,7623,1860,11340,6723,3745,3895,3173,1038,2573,7690,1533,1243,7870,4623,2570,3685,2220,2473,1605,1730,2130,4130,2600,7298,9838,3758,5295,2393,4075,305,2158,3903,2098,3480,2065,8820,13478,4220,5623,1943,14845,6205,580,415,305,11170,6423,660,10140,5523,2545,2695,1973,305,1373,6490,305,305,6670,3423,1370,2485,1020,1273,405,305,930,2930,1400,6098,8638,2558,4095,1193,4790,738,4618,2813,4195,2780,9535,14193,4935,6338,2658,3515,6920,1295,1130,420,11885,7138,1375,10855,6238,3260,3410,2688,553,2088,7205,1048,758,7385,4138,2085,3200,1735,1988,1120,1245,1645,3645,2115,6813,9353,3273,4810,1908,4560,305,4388,2583,3965,2550,9305,13963,4705,6108,2428,6690,1065,900,305,11655,6908,1145,10625,6008,3030,3180,2458,305,1858,6975,818,305,7155,3908,1855,2970,1505,1758,890,1015,1415,3415,1885,6583,9123,3043,4580,1678,4865,813,4693,2888,4270,2855,9610,14268,5010,6413,2733,6995,1370,1205,495,11960,7213,1450,10930,6313,3335,3485,2763,628,2163,7280,1123,833,7460,4213,2160,3275,1810,2063,1195,1320,1720,3720,2190,6887,9427,3347,4885,1982,4485,433,2568,4313,2508,3890,2475,9230,13888,4630,6033,2353,6615,990,825,0,11580,6833,1070,10550,5933,2955,3105,2383,248,1783,6900,743,453,7080,3833,1780,2895,1430,1683,815,940,1340,3340,1810,6507,9047,2967,4505,1602,4675,623,4503,2698,4080,2665,9420,14078,4820,6223,2543,6805,1180,1015,0,11770,7023,1260,10740,6123,3145,3295,2573,438,1973,7090,933,643,7270,4023,1970,3085,1620,1873,1005,1130,1530,3530,2000,6697,9237,3157,4695,1792,4675,623,2758,4503,2698,4080,2665,9420,14078,4820,6223,2543,3400,6805,1180,1015,305,11770,7023,1260,10740,6123,3145,3295,2573,438,1973,7090,933,643,7270,4023,1970,3085,1620,1873,1005,1130,1530,3530,2000,6697,9237,3157,4695,1792,5385,1333,5213,3408,4790,3375,10130,14788,5530,6933,3253,4110,7515,1890,1725,1015,12480,7733,1970,11450,6833,3855,4005,3283,1148,2683,7800,1643,1353,7980,4733,2680,3795,2330,2583,1715,1840,2240,4240,2710,7407,9947,3867,5405,2502,3965,0,2048,3793,1988,3370,1955,8710,13368,4110,5513,1833,14735,6095,470,305,0,11060,6313,550,10030,5413,2435,2585,1863,0,1263,6380,223,0,6560,3313,1260,2375,910,1163,295,420,820,2820,1290,5987,8527,2447,3985,1082,4675,623,2758,4503,2698,4080,2665,9420,14078,4820,6223,2543,6805,1180,1015,305,11770,7023,1260,10740,6123,3145,3295,2573,438,1973,7090,933,643,7270,4023,1970,3085,1620,1873,1005,1130,1530,3530,2000,6697,9237,3157,4695,1792,4675,623,2758,4503,2698,4080,2665,9420,14078,4820,6223,2543,6805,1180,1015,305,11770,7023,1260,10740,6123,3145,3295,2573,438,1973,7090,933,643,7270,4023,1970,3085,1620,1873,1005,1130,1530,3530,2000,6697,9237,3157,4695,1792],\"x0\":\" \",\"xaxis\":\"x\",\"y0\":\" \",\"yaxis\":\"y\",\"type\":\"box\"}],                        {\"template\":{\"data\":{\"histogram2dcontour\":[{\"type\":\"histogram2dcontour\",\"colorbar\":{\"outlinewidth\":0,\"ticks\":\"\"},\"colorscale\":[[0.0,\"#0d0887\"],[0.1111111111111111,\"#46039f\"],[0.2222222222222222,\"#7201a8\"],[0.3333333333333333,\"#9c179e\"],[0.4444444444444444,\"#bd3786\"],[0.5555555555555556,\"#d8576b\"],[0.6666666666666666,\"#ed7953\"],[0.7777777777777778,\"#fb9f3a\"],[0.8888888888888888,\"#fdca26\"],[1.0,\"#f0f921\"]]}],\"choropleth\":[{\"type\":\"choropleth\",\"colorbar\":{\"outlinewidth\":0,\"ticks\":\"\"}}],\"histogram2d\":[{\"type\":\"histogram2d\",\"colorbar\":{\"outlinewidth\":0,\"ticks\":\"\"},\"colorscale\":[[0.0,\"#0d0887\"],[0.1111111111111111,\"#46039f\"],[0.2222222222222222,\"#7201a8\"],[0.3333333333333333,\"#9c179e\"],[0.4444444444444444,\"#bd3786\"],[0.5555555555555556,\"#d8576b\"],[0.6666666666666666,\"#ed7953\"],[0.7777777777777778,\"#fb9f3a\"],[0.8888888888888888,\"#fdca26\"],[1.0,\"#f0f921\"]]}],\"heatmap\":[{\"type\":\"heatmap\",\"colorbar\":{\"outlinewidth\":0,\"ticks\":\"\"},\"colorscale\":[[0.0,\"#0d0887\"],[0.1111111111111111,\"#46039f\"],[0.2222222222222222,\"#7201a8\"],[0.3333333333333333,\"#9c179e\"],[0.4444444444444444,\"#bd3786\"],[0.5555555555555556,\"#d8576b\"],[0.6666666666666666,\"#ed7953\"],[0.7777777777777778,\"#fb9f3a\"],[0.8888888888888888,\"#fdca26\"],[1.0,\"#f0f921\"]]}],\"heatmapgl\":[{\"type\":\"heatmapgl\",\"colorbar\":{\"outlinewidth\":0,\"ticks\":\"\"},\"colorscale\":[[0.0,\"#0d0887\"],[0.1111111111111111,\"#46039f\"],[0.2222222222222222,\"#7201a8\"],[0.3333333333333333,\"#9c179e\"],[0.4444444444444444,\"#bd3786\"],[0.5555555555555556,\"#d8576b\"],[0.6666666666666666,\"#ed7953\"],[0.7777777777777778,\"#fb9f3a\"],[0.8888888888888888,\"#fdca26\"],[1.0,\"#f0f921\"]]}],\"contourcarpet\":[{\"type\":\"contourcarpet\",\"colorbar\":{\"outlinewidth\":0,\"ticks\":\"\"}}],\"contour\":[{\"type\":\"contour\",\"colorbar\":{\"outlinewidth\":0,\"ticks\":\"\"},\"colorscale\":[[0.0,\"#0d0887\"],[0.1111111111111111,\"#46039f\"],[0.2222222222222222,\"#7201a8\"],[0.3333333333333333,\"#9c179e\"],[0.4444444444444444,\"#bd3786\"],[0.5555555555555556,\"#d8576b\"],[0.6666666666666666,\"#ed7953\"],[0.7777777777777778,\"#fb9f3a\"],[0.8888888888888888,\"#fdca26\"],[1.0,\"#f0f921\"]]}],\"surface\":[{\"type\":\"surface\",\"colorbar\":{\"outlinewidth\":0,\"ticks\":\"\"},\"colorscale\":[[0.0,\"#0d0887\"],[0.1111111111111111,\"#46039f\"],[0.2222222222222222,\"#7201a8\"],[0.3333333333333333,\"#9c179e\"],[0.4444444444444444,\"#bd3786\"],[0.5555555555555556,\"#d8576b\"],[0.6666666666666666,\"#ed7953\"],[0.7777777777777778,\"#fb9f3a\"],[0.8888888888888888,\"#fdca26\"],[1.0,\"#f0f921\"]]}],\"mesh3d\":[{\"type\":\"mesh3d\",\"colorbar\":{\"outlinewidth\":0,\"ticks\":\"\"}}],\"scatter\":[{\"fillpattern\":{\"fillmode\":\"overlay\",\"size\":10,\"solidity\":0.2},\"type\":\"scatter\"}],\"parcoords\":[{\"type\":\"parcoords\",\"line\":{\"colorbar\":{\"outlinewidth\":0,\"ticks\":\"\"}}}],\"scatterpolargl\":[{\"type\":\"scatterpolargl\",\"marker\":{\"colorbar\":{\"outlinewidth\":0,\"ticks\":\"\"}}}],\"bar\":[{\"error_x\":{\"color\":\"#2a3f5f\"},\"error_y\":{\"color\":\"#2a3f5f\"},\"marker\":{\"line\":{\"color\":\"#E5ECF6\",\"width\":0.5},\"pattern\":{\"fillmode\":\"overlay\",\"size\":10,\"solidity\":0.2}},\"type\":\"bar\"}],\"scattergeo\":[{\"type\":\"scattergeo\",\"marker\":{\"colorbar\":{\"outlinewidth\":0,\"ticks\":\"\"}}}],\"scatterpolar\":[{\"type\":\"scatterpolar\",\"marker\":{\"colorbar\":{\"outlinewidth\":0,\"ticks\":\"\"}}}],\"histogram\":[{\"marker\":{\"pattern\":{\"fillmode\":\"overlay\",\"size\":10,\"solidity\":0.2}},\"type\":\"histogram\"}],\"scattergl\":[{\"type\":\"scattergl\",\"marker\":{\"colorbar\":{\"outlinewidth\":0,\"ticks\":\"\"}}}],\"scatter3d\":[{\"type\":\"scatter3d\",\"line\":{\"colorbar\":{\"outlinewidth\":0,\"ticks\":\"\"}},\"marker\":{\"colorbar\":{\"outlinewidth\":0,\"ticks\":\"\"}}}],\"scattermapbox\":[{\"type\":\"scattermapbox\",\"marker\":{\"colorbar\":{\"outlinewidth\":0,\"ticks\":\"\"}}}],\"scatterternary\":[{\"type\":\"scatterternary\",\"marker\":{\"colorbar\":{\"outlinewidth\":0,\"ticks\":\"\"}}}],\"scattercarpet\":[{\"type\":\"scattercarpet\",\"marker\":{\"colorbar\":{\"outlinewidth\":0,\"ticks\":\"\"}}}],\"carpet\":[{\"aaxis\":{\"endlinecolor\":\"#2a3f5f\",\"gridcolor\":\"white\",\"linecolor\":\"white\",\"minorgridcolor\":\"white\",\"startlinecolor\":\"#2a3f5f\"},\"baxis\":{\"endlinecolor\":\"#2a3f5f\",\"gridcolor\":\"white\",\"linecolor\":\"white\",\"minorgridcolor\":\"white\",\"startlinecolor\":\"#2a3f5f\"},\"type\":\"carpet\"}],\"table\":[{\"cells\":{\"fill\":{\"color\":\"#EBF0F8\"},\"line\":{\"color\":\"white\"}},\"header\":{\"fill\":{\"color\":\"#C8D4E3\"},\"line\":{\"color\":\"white\"}},\"type\":\"table\"}],\"barpolar\":[{\"marker\":{\"line\":{\"color\":\"#E5ECF6\",\"width\":0.5},\"pattern\":{\"fillmode\":\"overlay\",\"size\":10,\"solidity\":0.2}},\"type\":\"barpolar\"}],\"pie\":[{\"automargin\":true,\"type\":\"pie\"}]},\"layout\":{\"autotypenumbers\":\"strict\",\"colorway\":[\"#636efa\",\"#EF553B\",\"#00cc96\",\"#ab63fa\",\"#FFA15A\",\"#19d3f3\",\"#FF6692\",\"#B6E880\",\"#FF97FF\",\"#FECB52\"],\"font\":{\"color\":\"#2a3f5f\"},\"hovermode\":\"closest\",\"hoverlabel\":{\"align\":\"left\"},\"paper_bgcolor\":\"white\",\"plot_bgcolor\":\"#E5ECF6\",\"polar\":{\"bgcolor\":\"#E5ECF6\",\"angularaxis\":{\"gridcolor\":\"white\",\"linecolor\":\"white\",\"ticks\":\"\"},\"radialaxis\":{\"gridcolor\":\"white\",\"linecolor\":\"white\",\"ticks\":\"\"}},\"ternary\":{\"bgcolor\":\"#E5ECF6\",\"aaxis\":{\"gridcolor\":\"white\",\"linecolor\":\"white\",\"ticks\":\"\"},\"baxis\":{\"gridcolor\":\"white\",\"linecolor\":\"white\",\"ticks\":\"\"},\"caxis\":{\"gridcolor\":\"white\",\"linecolor\":\"white\",\"ticks\":\"\"}},\"coloraxis\":{\"colorbar\":{\"outlinewidth\":0,\"ticks\":\"\"}},\"colorscale\":{\"sequential\":[[0.0,\"#0d0887\"],[0.1111111111111111,\"#46039f\"],[0.2222222222222222,\"#7201a8\"],[0.3333333333333333,\"#9c179e\"],[0.4444444444444444,\"#bd3786\"],[0.5555555555555556,\"#d8576b\"],[0.6666666666666666,\"#ed7953\"],[0.7777777777777778,\"#fb9f3a\"],[0.8888888888888888,\"#fdca26\"],[1.0,\"#f0f921\"]],\"sequentialminus\":[[0.0,\"#0d0887\"],[0.1111111111111111,\"#46039f\"],[0.2222222222222222,\"#7201a8\"],[0.3333333333333333,\"#9c179e\"],[0.4444444444444444,\"#bd3786\"],[0.5555555555555556,\"#d8576b\"],[0.6666666666666666,\"#ed7953\"],[0.7777777777777778,\"#fb9f3a\"],[0.8888888888888888,\"#fdca26\"],[1.0,\"#f0f921\"]],\"diverging\":[[0,\"#8e0152\"],[0.1,\"#c51b7d\"],[0.2,\"#de77ae\"],[0.3,\"#f1b6da\"],[0.4,\"#fde0ef\"],[0.5,\"#f7f7f7\"],[0.6,\"#e6f5d0\"],[0.7,\"#b8e186\"],[0.8,\"#7fbc41\"],[0.9,\"#4d9221\"],[1,\"#276419\"]]},\"xaxis\":{\"gridcolor\":\"white\",\"linecolor\":\"white\",\"ticks\":\"\",\"title\":{\"standoff\":15},\"zerolinecolor\":\"white\",\"automargin\":true,\"zerolinewidth\":2},\"yaxis\":{\"gridcolor\":\"white\",\"linecolor\":\"white\",\"ticks\":\"\",\"title\":{\"standoff\":15},\"zerolinecolor\":\"white\",\"automargin\":true,\"zerolinewidth\":2},\"scene\":{\"xaxis\":{\"backgroundcolor\":\"#E5ECF6\",\"gridcolor\":\"white\",\"linecolor\":\"white\",\"showbackground\":true,\"ticks\":\"\",\"zerolinecolor\":\"white\",\"gridwidth\":2},\"yaxis\":{\"backgroundcolor\":\"#E5ECF6\",\"gridcolor\":\"white\",\"linecolor\":\"white\",\"showbackground\":true,\"ticks\":\"\",\"zerolinecolor\":\"white\",\"gridwidth\":2},\"zaxis\":{\"backgroundcolor\":\"#E5ECF6\",\"gridcolor\":\"white\",\"linecolor\":\"white\",\"showbackground\":true,\"ticks\":\"\",\"zerolinecolor\":\"white\",\"gridwidth\":2}},\"shapedefaults\":{\"line\":{\"color\":\"#2a3f5f\"}},\"annotationdefaults\":{\"arrowcolor\":\"#2a3f5f\",\"arrowhead\":0,\"arrowwidth\":1},\"geo\":{\"bgcolor\":\"white\",\"landcolor\":\"#E5ECF6\",\"subunitcolor\":\"white\",\"showland\":true,\"showlakes\":true,\"lakecolor\":\"white\"},\"title\":{\"x\":0.05},\"mapbox\":{\"style\":\"light\"}}},\"xaxis\":{\"anchor\":\"y\",\"domain\":[0.0,1.0],\"title\":{\"text\":\"Seconds of Use\"}},\"yaxis\":{\"anchor\":\"x\",\"domain\":[0.0,1.0]},\"legend\":{\"tracegroupgap\":0},\"margin\":{\"t\":60},\"boxmode\":\"group\"},                        {\"responsive\": true}                    ).then(function(){\n",
              "                            \n",
              "var gd = document.getElementById('d3b23ea3-40c1-43e3-aab0-1549d35c41f0');\n",
              "var x = new MutationObserver(function (mutations, observer) {{\n",
              "        var display = window.getComputedStyle(gd).display;\n",
              "        if (!display || display === 'none') {{\n",
              "            console.log([gd, 'removed!']);\n",
              "            Plotly.purge(gd);\n",
              "            observer.disconnect();\n",
              "        }}\n",
              "}});\n",
              "\n",
              "// Listen for the removal of the full notebook cells\n",
              "var notebookContainer = gd.closest('#notebook-container');\n",
              "if (notebookContainer) {{\n",
              "    x.observe(notebookContainer, {childList: true});\n",
              "}}\n",
              "\n",
              "// Listen for the clearing of the current output cell\n",
              "var outputEl = gd.closest('.output');\n",
              "if (outputEl) {{\n",
              "    x.observe(outputEl, {childList: true});\n",
              "}}\n",
              "\n",
              "                        })                };                            </script>        </div>\n",
              "</body>\n",
              "</html>"
            ]
          },
          "metadata": {}
        }
      ]
    },
    {
      "cell_type": "code",
      "source": [
        "\n",
        "percent_outlier = ((df.shape[0]- df_1.shape[0])/df.shape[0]) * 100\n",
        "print(round(percent_outlier , 2),\"%\")\n",
        "\n",
        "\n",
        "\n",
        "#From this we can see that this is only 10 percent of the whole data so we can drop it     -\n",
        "\n",
        "# df_1 will be our new data frame"
      ],
      "metadata": {
        "colab": {
          "base_uri": "https://localhost:8080/"
        },
        "id": "vGT879ImWjXe",
        "outputId": "e6413f5e-32f6-45f6-d340-f11d2f133ad7"
      },
      "execution_count": null,
      "outputs": [
        {
          "output_type": "stream",
          "name": "stdout",
          "text": [
            "9.84 %\n"
          ]
        }
      ]
    },
    {
      "cell_type": "code",
      "source": [],
      "metadata": {
        "id": "GrsCoIivXYrO"
      },
      "execution_count": null,
      "outputs": []
    },
    {
      "cell_type": "markdown",
      "source": [
        "**Traing the Dataset**"
      ],
      "metadata": {
        "id": "RlfDL0Gqo5Gu"
      }
    },
    {
      "cell_type": "code",
      "source": [
        "df_1.columns"
      ],
      "metadata": {
        "colab": {
          "base_uri": "https://localhost:8080/"
        },
        "id": "v8pWhPQyu1C5",
        "outputId": "7435b184-4eec-41e7-987c-9f780878cd5c"
      },
      "execution_count": null,
      "outputs": [
        {
          "output_type": "execute_result",
          "data": {
            "text/plain": [
              "Index(['Call  Failure', 'Complains', 'Subscription  Length', 'Charge  Amount',\n",
              "       'Seconds of Use', 'Frequency of use', 'Frequency of SMS',\n",
              "       'Distinct Called Numbers', 'Age Group', 'Tariff Plan', 'Status', 'Age',\n",
              "       'Customer Value', 'Churn'],\n",
              "      dtype='object')"
            ]
          },
          "metadata": {},
          "execution_count": 36
        }
      ]
    },
    {
      "cell_type": "code",
      "source": [
        "from sklearn.linear_model import LogisticRegression\n",
        "from sklearn.model_selection import train_test_split\n",
        "from sklearn.tree import DecisionTreeClassifier\n",
        "from sklearn.ensemble import RandomForestClassifier\n",
        "from sklearn.decomposition import PCA\n",
        "from sklearn.preprocessing import StandardScaler\n",
        "from sklearn.neighbors import KNeighborsClassifier\n",
        "from sklearn.svm import SVC\n"
      ],
      "metadata": {
        "id": "1iZIjcMqo-eN"
      },
      "execution_count": null,
      "outputs": []
    },
    {
      "cell_type": "code",
      "source": [
        "X = df_1.drop([\"Churn\"] , axis = 1)\n",
        "y = df_1.Churn"
      ],
      "metadata": {
        "id": "6ShfayjR0QQL"
      },
      "execution_count": null,
      "outputs": []
    },
    {
      "cell_type": "code",
      "source": [
        "df_1\n"
      ],
      "metadata": {
        "colab": {
          "base_uri": "https://localhost:8080/",
          "height": 458
        },
        "id": "P5BrYzQCc4-s",
        "outputId": "3cc17f4c-d457-4b49-d75f-37a345a43a96"
      },
      "execution_count": null,
      "outputs": [
        {
          "output_type": "execute_result",
          "data": {
            "text/plain": [
              "      Call  Failure  Complains  Subscription  Length  Charge  Amount  \\\n",
              "0                 8          0                    38               0   \n",
              "1                 0          0                    39               0   \n",
              "2                10          0                    37               0   \n",
              "3                10          0                    38               0   \n",
              "4                 3          0                    38               0   \n",
              "...             ...        ...                   ...             ...   \n",
              "3145             21          0                    19               2   \n",
              "3146             17          0                    17               1   \n",
              "3147             13          0                    18               4   \n",
              "3148              7          0                    11               2   \n",
              "3149              8          1                    11               2   \n",
              "\n",
              "      Seconds of Use  Frequency of use  Frequency of SMS  \\\n",
              "0               4370                71                 5   \n",
              "1                318                 5                 7   \n",
              "2               2453                60               359   \n",
              "3               4198                66                 1   \n",
              "4               2393                58                 2   \n",
              "...              ...               ...               ...   \n",
              "3145            6697               147                92   \n",
              "3146            9237               177                80   \n",
              "3147            3157                51                38   \n",
              "3148            4695                46               222   \n",
              "3149            1792                25                 7   \n",
              "\n",
              "      Distinct Called Numbers  Age Group  Tariff Plan  Status  Age  \\\n",
              "0                          17          3            1       1   30   \n",
              "1                           4          2            1       0   25   \n",
              "2                          24          3            1       1   30   \n",
              "3                          35          1            1       1   15   \n",
              "4                          33          1            1       1   15   \n",
              "...                       ...        ...          ...     ...  ...   \n",
              "3145                       44          2            2       1   25   \n",
              "3146                       42          5            1       1   55   \n",
              "3147                       21          3            1       1   30   \n",
              "3148                       12          3            1       1   30   \n",
              "3149                        9          3            1       1   30   \n",
              "\n",
              "      Customer Value  Churn  \n",
              "0            197.640      0  \n",
              "1             46.035      0  \n",
              "2           1536.520      0  \n",
              "3            240.020      0  \n",
              "4            145.805      0  \n",
              "...              ...    ...  \n",
              "3145         721.980      0  \n",
              "3146         261.210      0  \n",
              "3147         280.320      0  \n",
              "3148        1077.640      0  \n",
              "3149         100.680      1  \n",
              "\n",
              "[2840 rows x 14 columns]"
            ],
            "text/html": [
              "\n",
              "  <div id=\"df-5d1979de-ec21-41ba-a589-9d7c4c38de35\" class=\"colab-df-container\">\n",
              "    <div>\n",
              "<style scoped>\n",
              "    .dataframe tbody tr th:only-of-type {\n",
              "        vertical-align: middle;\n",
              "    }\n",
              "\n",
              "    .dataframe tbody tr th {\n",
              "        vertical-align: top;\n",
              "    }\n",
              "\n",
              "    .dataframe thead th {\n",
              "        text-align: right;\n",
              "    }\n",
              "</style>\n",
              "<table border=\"1\" class=\"dataframe\">\n",
              "  <thead>\n",
              "    <tr style=\"text-align: right;\">\n",
              "      <th></th>\n",
              "      <th>Call  Failure</th>\n",
              "      <th>Complains</th>\n",
              "      <th>Subscription  Length</th>\n",
              "      <th>Charge  Amount</th>\n",
              "      <th>Seconds of Use</th>\n",
              "      <th>Frequency of use</th>\n",
              "      <th>Frequency of SMS</th>\n",
              "      <th>Distinct Called Numbers</th>\n",
              "      <th>Age Group</th>\n",
              "      <th>Tariff Plan</th>\n",
              "      <th>Status</th>\n",
              "      <th>Age</th>\n",
              "      <th>Customer Value</th>\n",
              "      <th>Churn</th>\n",
              "    </tr>\n",
              "  </thead>\n",
              "  <tbody>\n",
              "    <tr>\n",
              "      <th>0</th>\n",
              "      <td>8</td>\n",
              "      <td>0</td>\n",
              "      <td>38</td>\n",
              "      <td>0</td>\n",
              "      <td>4370</td>\n",
              "      <td>71</td>\n",
              "      <td>5</td>\n",
              "      <td>17</td>\n",
              "      <td>3</td>\n",
              "      <td>1</td>\n",
              "      <td>1</td>\n",
              "      <td>30</td>\n",
              "      <td>197.640</td>\n",
              "      <td>0</td>\n",
              "    </tr>\n",
              "    <tr>\n",
              "      <th>1</th>\n",
              "      <td>0</td>\n",
              "      <td>0</td>\n",
              "      <td>39</td>\n",
              "      <td>0</td>\n",
              "      <td>318</td>\n",
              "      <td>5</td>\n",
              "      <td>7</td>\n",
              "      <td>4</td>\n",
              "      <td>2</td>\n",
              "      <td>1</td>\n",
              "      <td>0</td>\n",
              "      <td>25</td>\n",
              "      <td>46.035</td>\n",
              "      <td>0</td>\n",
              "    </tr>\n",
              "    <tr>\n",
              "      <th>2</th>\n",
              "      <td>10</td>\n",
              "      <td>0</td>\n",
              "      <td>37</td>\n",
              "      <td>0</td>\n",
              "      <td>2453</td>\n",
              "      <td>60</td>\n",
              "      <td>359</td>\n",
              "      <td>24</td>\n",
              "      <td>3</td>\n",
              "      <td>1</td>\n",
              "      <td>1</td>\n",
              "      <td>30</td>\n",
              "      <td>1536.520</td>\n",
              "      <td>0</td>\n",
              "    </tr>\n",
              "    <tr>\n",
              "      <th>3</th>\n",
              "      <td>10</td>\n",
              "      <td>0</td>\n",
              "      <td>38</td>\n",
              "      <td>0</td>\n",
              "      <td>4198</td>\n",
              "      <td>66</td>\n",
              "      <td>1</td>\n",
              "      <td>35</td>\n",
              "      <td>1</td>\n",
              "      <td>1</td>\n",
              "      <td>1</td>\n",
              "      <td>15</td>\n",
              "      <td>240.020</td>\n",
              "      <td>0</td>\n",
              "    </tr>\n",
              "    <tr>\n",
              "      <th>4</th>\n",
              "      <td>3</td>\n",
              "      <td>0</td>\n",
              "      <td>38</td>\n",
              "      <td>0</td>\n",
              "      <td>2393</td>\n",
              "      <td>58</td>\n",
              "      <td>2</td>\n",
              "      <td>33</td>\n",
              "      <td>1</td>\n",
              "      <td>1</td>\n",
              "      <td>1</td>\n",
              "      <td>15</td>\n",
              "      <td>145.805</td>\n",
              "      <td>0</td>\n",
              "    </tr>\n",
              "    <tr>\n",
              "      <th>...</th>\n",
              "      <td>...</td>\n",
              "      <td>...</td>\n",
              "      <td>...</td>\n",
              "      <td>...</td>\n",
              "      <td>...</td>\n",
              "      <td>...</td>\n",
              "      <td>...</td>\n",
              "      <td>...</td>\n",
              "      <td>...</td>\n",
              "      <td>...</td>\n",
              "      <td>...</td>\n",
              "      <td>...</td>\n",
              "      <td>...</td>\n",
              "      <td>...</td>\n",
              "    </tr>\n",
              "    <tr>\n",
              "      <th>3145</th>\n",
              "      <td>21</td>\n",
              "      <td>0</td>\n",
              "      <td>19</td>\n",
              "      <td>2</td>\n",
              "      <td>6697</td>\n",
              "      <td>147</td>\n",
              "      <td>92</td>\n",
              "      <td>44</td>\n",
              "      <td>2</td>\n",
              "      <td>2</td>\n",
              "      <td>1</td>\n",
              "      <td>25</td>\n",
              "      <td>721.980</td>\n",
              "      <td>0</td>\n",
              "    </tr>\n",
              "    <tr>\n",
              "      <th>3146</th>\n",
              "      <td>17</td>\n",
              "      <td>0</td>\n",
              "      <td>17</td>\n",
              "      <td>1</td>\n",
              "      <td>9237</td>\n",
              "      <td>177</td>\n",
              "      <td>80</td>\n",
              "      <td>42</td>\n",
              "      <td>5</td>\n",
              "      <td>1</td>\n",
              "      <td>1</td>\n",
              "      <td>55</td>\n",
              "      <td>261.210</td>\n",
              "      <td>0</td>\n",
              "    </tr>\n",
              "    <tr>\n",
              "      <th>3147</th>\n",
              "      <td>13</td>\n",
              "      <td>0</td>\n",
              "      <td>18</td>\n",
              "      <td>4</td>\n",
              "      <td>3157</td>\n",
              "      <td>51</td>\n",
              "      <td>38</td>\n",
              "      <td>21</td>\n",
              "      <td>3</td>\n",
              "      <td>1</td>\n",
              "      <td>1</td>\n",
              "      <td>30</td>\n",
              "      <td>280.320</td>\n",
              "      <td>0</td>\n",
              "    </tr>\n",
              "    <tr>\n",
              "      <th>3148</th>\n",
              "      <td>7</td>\n",
              "      <td>0</td>\n",
              "      <td>11</td>\n",
              "      <td>2</td>\n",
              "      <td>4695</td>\n",
              "      <td>46</td>\n",
              "      <td>222</td>\n",
              "      <td>12</td>\n",
              "      <td>3</td>\n",
              "      <td>1</td>\n",
              "      <td>1</td>\n",
              "      <td>30</td>\n",
              "      <td>1077.640</td>\n",
              "      <td>0</td>\n",
              "    </tr>\n",
              "    <tr>\n",
              "      <th>3149</th>\n",
              "      <td>8</td>\n",
              "      <td>1</td>\n",
              "      <td>11</td>\n",
              "      <td>2</td>\n",
              "      <td>1792</td>\n",
              "      <td>25</td>\n",
              "      <td>7</td>\n",
              "      <td>9</td>\n",
              "      <td>3</td>\n",
              "      <td>1</td>\n",
              "      <td>1</td>\n",
              "      <td>30</td>\n",
              "      <td>100.680</td>\n",
              "      <td>1</td>\n",
              "    </tr>\n",
              "  </tbody>\n",
              "</table>\n",
              "<p>2840 rows × 14 columns</p>\n",
              "</div>\n",
              "    <div class=\"colab-df-buttons\">\n",
              "\n",
              "  <div class=\"colab-df-container\">\n",
              "    <button class=\"colab-df-convert\" onclick=\"convertToInteractive('df-5d1979de-ec21-41ba-a589-9d7c4c38de35')\"\n",
              "            title=\"Convert this dataframe to an interactive table.\"\n",
              "            style=\"display:none;\">\n",
              "\n",
              "  <svg xmlns=\"http://www.w3.org/2000/svg\" height=\"24px\" viewBox=\"0 -960 960 960\">\n",
              "    <path d=\"M120-120v-720h720v720H120Zm60-500h600v-160H180v160Zm220 220h160v-160H400v160Zm0 220h160v-160H400v160ZM180-400h160v-160H180v160Zm440 0h160v-160H620v160ZM180-180h160v-160H180v160Zm440 0h160v-160H620v160Z\"/>\n",
              "  </svg>\n",
              "    </button>\n",
              "\n",
              "  <style>\n",
              "    .colab-df-container {\n",
              "      display:flex;\n",
              "      gap: 12px;\n",
              "    }\n",
              "\n",
              "    .colab-df-convert {\n",
              "      background-color: #E8F0FE;\n",
              "      border: none;\n",
              "      border-radius: 50%;\n",
              "      cursor: pointer;\n",
              "      display: none;\n",
              "      fill: #1967D2;\n",
              "      height: 32px;\n",
              "      padding: 0 0 0 0;\n",
              "      width: 32px;\n",
              "    }\n",
              "\n",
              "    .colab-df-convert:hover {\n",
              "      background-color: #E2EBFA;\n",
              "      box-shadow: 0px 1px 2px rgba(60, 64, 67, 0.3), 0px 1px 3px 1px rgba(60, 64, 67, 0.15);\n",
              "      fill: #174EA6;\n",
              "    }\n",
              "\n",
              "    .colab-df-buttons div {\n",
              "      margin-bottom: 4px;\n",
              "    }\n",
              "\n",
              "    [theme=dark] .colab-df-convert {\n",
              "      background-color: #3B4455;\n",
              "      fill: #D2E3FC;\n",
              "    }\n",
              "\n",
              "    [theme=dark] .colab-df-convert:hover {\n",
              "      background-color: #434B5C;\n",
              "      box-shadow: 0px 1px 3px 1px rgba(0, 0, 0, 0.15);\n",
              "      filter: drop-shadow(0px 1px 2px rgba(0, 0, 0, 0.3));\n",
              "      fill: #FFFFFF;\n",
              "    }\n",
              "  </style>\n",
              "\n",
              "    <script>\n",
              "      const buttonEl =\n",
              "        document.querySelector('#df-5d1979de-ec21-41ba-a589-9d7c4c38de35 button.colab-df-convert');\n",
              "      buttonEl.style.display =\n",
              "        google.colab.kernel.accessAllowed ? 'block' : 'none';\n",
              "\n",
              "      async function convertToInteractive(key) {\n",
              "        const element = document.querySelector('#df-5d1979de-ec21-41ba-a589-9d7c4c38de35');\n",
              "        const dataTable =\n",
              "          await google.colab.kernel.invokeFunction('convertToInteractive',\n",
              "                                                    [key], {});\n",
              "        if (!dataTable) return;\n",
              "\n",
              "        const docLinkHtml = 'Like what you see? Visit the ' +\n",
              "          '<a target=\"_blank\" href=https://colab.research.google.com/notebooks/data_table.ipynb>data table notebook</a>'\n",
              "          + ' to learn more about interactive tables.';\n",
              "        element.innerHTML = '';\n",
              "        dataTable['output_type'] = 'display_data';\n",
              "        await google.colab.output.renderOutput(dataTable, element);\n",
              "        const docLink = document.createElement('div');\n",
              "        docLink.innerHTML = docLinkHtml;\n",
              "        element.appendChild(docLink);\n",
              "      }\n",
              "    </script>\n",
              "  </div>\n",
              "\n",
              "\n",
              "<div id=\"df-e9be0672-0507-4e15-be8f-30cba566aad2\">\n",
              "  <button class=\"colab-df-quickchart\" onclick=\"quickchart('df-e9be0672-0507-4e15-be8f-30cba566aad2')\"\n",
              "            title=\"Suggest charts.\"\n",
              "            style=\"display:none;\">\n",
              "\n",
              "<svg xmlns=\"http://www.w3.org/2000/svg\" height=\"24px\"viewBox=\"0 0 24 24\"\n",
              "     width=\"24px\">\n",
              "    <g>\n",
              "        <path d=\"M19 3H5c-1.1 0-2 .9-2 2v14c0 1.1.9 2 2 2h14c1.1 0 2-.9 2-2V5c0-1.1-.9-2-2-2zM9 17H7v-7h2v7zm4 0h-2V7h2v10zm4 0h-2v-4h2v4z\"/>\n",
              "    </g>\n",
              "</svg>\n",
              "  </button>\n",
              "\n",
              "<style>\n",
              "  .colab-df-quickchart {\n",
              "      --bg-color: #E8F0FE;\n",
              "      --fill-color: #1967D2;\n",
              "      --hover-bg-color: #E2EBFA;\n",
              "      --hover-fill-color: #174EA6;\n",
              "      --disabled-fill-color: #AAA;\n",
              "      --disabled-bg-color: #DDD;\n",
              "  }\n",
              "\n",
              "  [theme=dark] .colab-df-quickchart {\n",
              "      --bg-color: #3B4455;\n",
              "      --fill-color: #D2E3FC;\n",
              "      --hover-bg-color: #434B5C;\n",
              "      --hover-fill-color: #FFFFFF;\n",
              "      --disabled-bg-color: #3B4455;\n",
              "      --disabled-fill-color: #666;\n",
              "  }\n",
              "\n",
              "  .colab-df-quickchart {\n",
              "    background-color: var(--bg-color);\n",
              "    border: none;\n",
              "    border-radius: 50%;\n",
              "    cursor: pointer;\n",
              "    display: none;\n",
              "    fill: var(--fill-color);\n",
              "    height: 32px;\n",
              "    padding: 0;\n",
              "    width: 32px;\n",
              "  }\n",
              "\n",
              "  .colab-df-quickchart:hover {\n",
              "    background-color: var(--hover-bg-color);\n",
              "    box-shadow: 0 1px 2px rgba(60, 64, 67, 0.3), 0 1px 3px 1px rgba(60, 64, 67, 0.15);\n",
              "    fill: var(--button-hover-fill-color);\n",
              "  }\n",
              "\n",
              "  .colab-df-quickchart-complete:disabled,\n",
              "  .colab-df-quickchart-complete:disabled:hover {\n",
              "    background-color: var(--disabled-bg-color);\n",
              "    fill: var(--disabled-fill-color);\n",
              "    box-shadow: none;\n",
              "  }\n",
              "\n",
              "  .colab-df-spinner {\n",
              "    border: 2px solid var(--fill-color);\n",
              "    border-color: transparent;\n",
              "    border-bottom-color: var(--fill-color);\n",
              "    animation:\n",
              "      spin 1s steps(1) infinite;\n",
              "  }\n",
              "\n",
              "  @keyframes spin {\n",
              "    0% {\n",
              "      border-color: transparent;\n",
              "      border-bottom-color: var(--fill-color);\n",
              "      border-left-color: var(--fill-color);\n",
              "    }\n",
              "    20% {\n",
              "      border-color: transparent;\n",
              "      border-left-color: var(--fill-color);\n",
              "      border-top-color: var(--fill-color);\n",
              "    }\n",
              "    30% {\n",
              "      border-color: transparent;\n",
              "      border-left-color: var(--fill-color);\n",
              "      border-top-color: var(--fill-color);\n",
              "      border-right-color: var(--fill-color);\n",
              "    }\n",
              "    40% {\n",
              "      border-color: transparent;\n",
              "      border-right-color: var(--fill-color);\n",
              "      border-top-color: var(--fill-color);\n",
              "    }\n",
              "    60% {\n",
              "      border-color: transparent;\n",
              "      border-right-color: var(--fill-color);\n",
              "    }\n",
              "    80% {\n",
              "      border-color: transparent;\n",
              "      border-right-color: var(--fill-color);\n",
              "      border-bottom-color: var(--fill-color);\n",
              "    }\n",
              "    90% {\n",
              "      border-color: transparent;\n",
              "      border-bottom-color: var(--fill-color);\n",
              "    }\n",
              "  }\n",
              "</style>\n",
              "\n",
              "  <script>\n",
              "    async function quickchart(key) {\n",
              "      const quickchartButtonEl =\n",
              "        document.querySelector('#' + key + ' button');\n",
              "      quickchartButtonEl.disabled = true;  // To prevent multiple clicks.\n",
              "      quickchartButtonEl.classList.add('colab-df-spinner');\n",
              "      try {\n",
              "        const charts = await google.colab.kernel.invokeFunction(\n",
              "            'suggestCharts', [key], {});\n",
              "      } catch (error) {\n",
              "        console.error('Error during call to suggestCharts:', error);\n",
              "      }\n",
              "      quickchartButtonEl.classList.remove('colab-df-spinner');\n",
              "      quickchartButtonEl.classList.add('colab-df-quickchart-complete');\n",
              "    }\n",
              "    (() => {\n",
              "      let quickchartButtonEl =\n",
              "        document.querySelector('#df-e9be0672-0507-4e15-be8f-30cba566aad2 button');\n",
              "      quickchartButtonEl.style.display =\n",
              "        google.colab.kernel.accessAllowed ? 'block' : 'none';\n",
              "    })();\n",
              "  </script>\n",
              "</div>\n",
              "    </div>\n",
              "  </div>\n"
            ]
          },
          "metadata": {},
          "execution_count": 39
        }
      ]
    },
    {
      "cell_type": "code",
      "source": [
        "scaled = StandardScaler()\n",
        "X_scaled = scaled.fit_transform(X)\n",
        "X_scaled"
      ],
      "metadata": {
        "colab": {
          "base_uri": "https://localhost:8080/"
        },
        "id": "NnNymY-70QUg",
        "outputId": "17e9bba5-f619-49f9-a319-d3fb5a211bc9"
      },
      "execution_count": null,
      "outputs": [
        {
          "output_type": "execute_result",
          "data": {
            "text/plain": [
              "array([[ 0.14528168, -0.29755616,  0.66127702, ...,  0.61642564,\n",
              "        -0.15482019, -0.42794293],\n",
              "       [-1.07723674, -0.29755616,  0.77447253, ..., -1.6222557 ,\n",
              "        -0.70034048, -0.81872117],\n",
              "       [ 0.45091128, -0.29755616,  0.54808151, ...,  0.61642564,\n",
              "        -0.15482019,  3.02316464],\n",
              "       ...,\n",
              "       [ 0.90935569, -0.29755616, -1.60263322, ...,  0.61642564,\n",
              "        -0.15482019, -0.21482632],\n",
              "       [-0.00753312, -0.29755616, -2.3950018 , ...,  0.61642564,\n",
              "        -0.15482019,  1.84035196],\n",
              "       [ 0.14528168,  3.36071009, -2.3950018 , ...,  0.61642564,\n",
              "        -0.15482019, -0.67786779]])"
            ]
          },
          "metadata": {},
          "execution_count": 40
        }
      ]
    },
    {
      "cell_type": "markdown",
      "source": [
        "Removed it as it was not improving the result"
      ],
      "metadata": {
        "id": "vOtTbvwuOKGa"
      }
    },
    {
      "cell_type": "code",
      "source": [
        "# pca = PCA(n_components=2)\n",
        "# X_pca = pca.fit_transform(X_scaled)\n",
        "# X_pca.shape"
      ],
      "metadata": {
        "id": "nYwQMdKK0QMC"
      },
      "execution_count": null,
      "outputs": []
    },
    {
      "cell_type": "code",
      "source": [
        "# pca.explained_variance_ratio_"
      ],
      "metadata": {
        "id": "4FAPp-Ur0QFz"
      },
      "execution_count": null,
      "outputs": []
    },
    {
      "cell_type": "markdown",
      "source": [
        "# LOGISTIC REGRESSION"
      ],
      "metadata": {
        "id": "GKph7NbG8gA8"
      }
    },
    {
      "cell_type": "code",
      "source": [
        "X_train, X_test, y_train, y_test = train_test_split(X_scaled, y, test_size=0.20, stratify = y, random_state=30)"
      ],
      "metadata": {
        "id": "PwBRzXtZ0P8f"
      },
      "execution_count": null,
      "outputs": []
    },
    {
      "cell_type": "code",
      "source": [
        "len(X_test)"
      ],
      "metadata": {
        "colab": {
          "base_uri": "https://localhost:8080/"
        },
        "id": "4wh-vvt7z9Cn",
        "outputId": "4bf5559e-f564-4e72-ce07-457080a8c891"
      },
      "execution_count": null,
      "outputs": [
        {
          "output_type": "execute_result",
          "data": {
            "text/plain": [
              "568"
            ]
          },
          "metadata": {},
          "execution_count": 44
        }
      ]
    },
    {
      "cell_type": "code",
      "source": [
        "len(X_train)"
      ],
      "metadata": {
        "colab": {
          "base_uri": "https://localhost:8080/"
        },
        "id": "_wUERmH-wZR4",
        "outputId": "f970b4b6-824c-4b3e-c250-fc0cb3c485ac"
      },
      "execution_count": null,
      "outputs": [
        {
          "output_type": "execute_result",
          "data": {
            "text/plain": [
              "2272"
            ]
          },
          "metadata": {},
          "execution_count": 45
        }
      ]
    },
    {
      "cell_type": "code",
      "source": [
        "lgmodel = LogisticRegression()\n",
        "lgmodel.fit(X_train, y_train)\n",
        "prediction = lgmodel.predict(X_test)\n"
      ],
      "metadata": {
        "id": "Vhkxpoki0KiV"
      },
      "execution_count": null,
      "outputs": []
    },
    {
      "cell_type": "code",
      "source": [
        "from sklearn.metrics import classification_report , confusion_matrix"
      ],
      "metadata": {
        "id": "zbBlV-Uf0WCm"
      },
      "execution_count": null,
      "outputs": []
    },
    {
      "cell_type": "code",
      "source": [
        "print(classification_report(y_test , prediction))"
      ],
      "metadata": {
        "id": "H57Hm0gt0b3z",
        "colab": {
          "base_uri": "https://localhost:8080/"
        },
        "outputId": "b106db29-c7b9-4ca4-d071-d6a81a6be8b2"
      },
      "execution_count": null,
      "outputs": [
        {
          "output_type": "stream",
          "name": "stdout",
          "text": [
            "              precision    recall  f1-score   support\n",
            "\n",
            "           0       0.90      0.98      0.94       469\n",
            "           1       0.86      0.51      0.64        99\n",
            "\n",
            "    accuracy                           0.90       568\n",
            "   macro avg       0.88      0.74      0.79       568\n",
            "weighted avg       0.90      0.90      0.89       568\n",
            "\n"
          ]
        }
      ]
    },
    {
      "cell_type": "code",
      "source": [
        "lgmodel.score(X_test,y_test)"
      ],
      "metadata": {
        "colab": {
          "base_uri": "https://localhost:8080/"
        },
        "id": "2E6W3iLAe_B4",
        "outputId": "c035469a-4977-42ff-ee8b-bf0b8d6afbe5"
      },
      "execution_count": null,
      "outputs": [
        {
          "output_type": "execute_result",
          "data": {
            "text/plain": [
              "0.8996478873239436"
            ]
          },
          "metadata": {},
          "execution_count": 49
        }
      ]
    },
    {
      "cell_type": "code",
      "source": [
        "print(confusion_matrix(y_test , prediction))"
      ],
      "metadata": {
        "id": "MAFzC8nQ0gX8",
        "colab": {
          "base_uri": "https://localhost:8080/"
        },
        "outputId": "bea57f7b-db65-4bb1-f685-8d407a7c0ad8"
      },
      "execution_count": null,
      "outputs": [
        {
          "output_type": "stream",
          "name": "stdout",
          "text": [
            "[[461   8]\n",
            " [ 49  50]]\n"
          ]
        }
      ]
    },
    {
      "cell_type": "code",
      "source": [
        "X_train, X_test, y_train, y_test = train_test_split(X_scaled, y, test_size=0.35, stratify = y, random_state=30)"
      ],
      "metadata": {
        "id": "SuaxeT-F1GCo"
      },
      "execution_count": null,
      "outputs": []
    },
    {
      "cell_type": "code",
      "source": [
        "y_train.value_counts()"
      ],
      "metadata": {
        "colab": {
          "base_uri": "https://localhost:8080/"
        },
        "id": "eKqNY1F4mu8U",
        "outputId": "2b3a8dc4-9102-41b8-92b5-858bd70214d1"
      },
      "execution_count": null,
      "outputs": [
        {
          "output_type": "execute_result",
          "data": {
            "text/plain": [
              "0    1524\n",
              "1     322\n",
              "Name: Churn, dtype: int64"
            ]
          },
          "metadata": {},
          "execution_count": 52
        }
      ]
    },
    {
      "cell_type": "code",
      "source": [
        "lgmodel = LogisticRegression()\n",
        "lgmodel.fit(X_train , y_train)\n",
        "prediction = lgmodel.predict(X_test)"
      ],
      "metadata": {
        "id": "E9QAfKb65YWg"
      },
      "execution_count": null,
      "outputs": []
    },
    {
      "cell_type": "code",
      "source": [
        "from sklearn.metrics import classification_report , confusion_matrix"
      ],
      "metadata": {
        "id": "zEkPq2Xx5jMB"
      },
      "execution_count": null,
      "outputs": []
    },
    {
      "cell_type": "code",
      "source": [
        "print(classification_report(y_test , prediction))"
      ],
      "metadata": {
        "id": "lfmqGISh62vu",
        "colab": {
          "base_uri": "https://localhost:8080/"
        },
        "outputId": "42d00f25-9f25-4caf-b6ac-ad23b8074b87"
      },
      "execution_count": null,
      "outputs": [
        {
          "output_type": "stream",
          "name": "stdout",
          "text": [
            "              precision    recall  f1-score   support\n",
            "\n",
            "           0       0.90      0.98      0.94       821\n",
            "           1       0.83      0.47      0.60       173\n",
            "\n",
            "    accuracy                           0.89       994\n",
            "   macro avg       0.86      0.72      0.77       994\n",
            "weighted avg       0.89      0.89      0.88       994\n",
            "\n"
          ]
        }
      ]
    },
    {
      "cell_type": "code",
      "source": [
        "lgmodel.score(X_test,y_test)"
      ],
      "metadata": {
        "colab": {
          "base_uri": "https://localhost:8080/"
        },
        "id": "oevak3ZFuIbE",
        "outputId": "1d5b6876-268f-471c-fa60-19031af996df"
      },
      "execution_count": null,
      "outputs": [
        {
          "output_type": "execute_result",
          "data": {
            "text/plain": [
              "0.8903420523138833"
            ]
          },
          "metadata": {},
          "execution_count": 56
        }
      ]
    },
    {
      "cell_type": "code",
      "source": [
        "print(confusion_matrix(y_test , prediction))"
      ],
      "metadata": {
        "id": "lrX9hwRLFYJe",
        "colab": {
          "base_uri": "https://localhost:8080/"
        },
        "outputId": "c4edd5d0-81b9-4d55-d08b-11534ce784e4"
      },
      "execution_count": null,
      "outputs": [
        {
          "output_type": "stream",
          "name": "stdout",
          "text": [
            "[[804  17]\n",
            " [ 92  81]]\n"
          ]
        }
      ]
    },
    {
      "cell_type": "code",
      "source": [
        "X_train, X_test,y_train, y_test = train_test_split(X_scaled, y, test_size=0.30, stratify = y, random_state=30)"
      ],
      "metadata": {
        "id": "ytX1iHsX61x-"
      },
      "execution_count": null,
      "outputs": []
    },
    {
      "cell_type": "code",
      "source": [
        "lgmodel = LogisticRegression()\n",
        "lgmodel.fit(X_train, y_train)\n",
        "prediction = lgmodel.predict(X_test)"
      ],
      "metadata": {
        "id": "wNmlfYfx5i9v"
      },
      "execution_count": null,
      "outputs": []
    },
    {
      "cell_type": "code",
      "source": [
        "print(classification_report(y_test , prediction))"
      ],
      "metadata": {
        "id": "wc5GIjgv1IGT",
        "colab": {
          "base_uri": "https://localhost:8080/"
        },
        "outputId": "b652527b-8a8e-4283-ee11-7ba1ee5e1def"
      },
      "execution_count": null,
      "outputs": [
        {
          "output_type": "stream",
          "name": "stdout",
          "text": [
            "              precision    recall  f1-score   support\n",
            "\n",
            "           0       0.90      0.97      0.93       703\n",
            "           1       0.78      0.49      0.60       149\n",
            "\n",
            "    accuracy                           0.89       852\n",
            "   macro avg       0.84      0.73      0.77       852\n",
            "weighted avg       0.88      0.89      0.88       852\n",
            "\n"
          ]
        }
      ]
    },
    {
      "cell_type": "code",
      "source": [
        "lgmodel.score(X_test,y_test)"
      ],
      "metadata": {
        "colab": {
          "base_uri": "https://localhost:8080/"
        },
        "id": "YK0IK4y2uLNx",
        "outputId": "01430bda-1976-4f9b-d9f3-52af3cdb5572"
      },
      "execution_count": null,
      "outputs": [
        {
          "output_type": "execute_result",
          "data": {
            "text/plain": [
              "0.8873239436619719"
            ]
          },
          "metadata": {},
          "execution_count": 61
        }
      ]
    },
    {
      "cell_type": "code",
      "source": [
        "print(confusion_matrix(y_test , prediction))"
      ],
      "metadata": {
        "id": "CrUbb1JFF3rL",
        "colab": {
          "base_uri": "https://localhost:8080/"
        },
        "outputId": "8dc8e4bd-9e39-40c0-e313-13eb814f6a22"
      },
      "execution_count": null,
      "outputs": [
        {
          "output_type": "stream",
          "name": "stdout",
          "text": [
            "[[683  20]\n",
            " [ 76  73]]\n"
          ]
        }
      ]
    },
    {
      "cell_type": "code",
      "source": [
        "X_train, X_test, y_train, y_test = train_test_split(X_scaled, y, test_size=0.25, stratify = y, random_state=30)"
      ],
      "metadata": {
        "id": "ch0Q0jcCnygv"
      },
      "execution_count": null,
      "outputs": []
    },
    {
      "cell_type": "code",
      "source": [
        "lgmodel = LogisticRegression()\n",
        "lgmodel.fit(X_train , y_train)\n",
        "prediction = lgmodel.predict(X_test)"
      ],
      "metadata": {
        "id": "1djapX6Ln8R5"
      },
      "execution_count": null,
      "outputs": []
    },
    {
      "cell_type": "code",
      "source": [
        "print(classification_report(y_test , prediction))"
      ],
      "metadata": {
        "id": "oLOs0O0uoALu",
        "colab": {
          "base_uri": "https://localhost:8080/"
        },
        "outputId": "45618d59-e73f-4db1-9353-42759c6945bb"
      },
      "execution_count": null,
      "outputs": [
        {
          "output_type": "stream",
          "name": "stdout",
          "text": [
            "              precision    recall  f1-score   support\n",
            "\n",
            "           0       0.90      0.98      0.94       586\n",
            "           1       0.85      0.48      0.62       124\n",
            "\n",
            "    accuracy                           0.89       710\n",
            "   macro avg       0.87      0.73      0.78       710\n",
            "weighted avg       0.89      0.89      0.88       710\n",
            "\n"
          ]
        }
      ]
    },
    {
      "cell_type": "code",
      "source": [
        "lgmodel.score(X_test,y_test)"
      ],
      "metadata": {
        "colab": {
          "base_uri": "https://localhost:8080/"
        },
        "id": "HvgluCGguOXl",
        "outputId": "b3fb4f14-2c12-4f7a-8188-201f8e23e6ac"
      },
      "execution_count": null,
      "outputs": [
        {
          "output_type": "execute_result",
          "data": {
            "text/plain": [
              "0.8943661971830986"
            ]
          },
          "metadata": {},
          "execution_count": 66
        }
      ]
    },
    {
      "cell_type": "code",
      "source": [
        "print(confusion_matrix(y_test , prediction))"
      ],
      "metadata": {
        "id": "XyFhY82ooUV7",
        "colab": {
          "base_uri": "https://localhost:8080/"
        },
        "outputId": "85a65c7d-e034-42e1-85ed-f768e7ae81c5"
      },
      "execution_count": null,
      "outputs": [
        {
          "output_type": "stream",
          "name": "stdout",
          "text": [
            "[[575  11]\n",
            " [ 64  60]]\n"
          ]
        }
      ]
    },
    {
      "cell_type": "markdown",
      "source": [
        "# DECISION TREE"
      ],
      "metadata": {
        "id": "wfytrtMOdN1F"
      }
    },
    {
      "cell_type": "code",
      "source": [
        "X_train, X_test, y_train, y_test = train_test_split(X_scaled, y, test_size=0.20, stratify = y, random_state=30)"
      ],
      "metadata": {
        "id": "HGPc7JSCoUYj"
      },
      "execution_count": null,
      "outputs": []
    },
    {
      "cell_type": "code",
      "source": [
        "dmodel = DecisionTreeClassifier(max_depth = 10)\n",
        "dmodel.fit(X_train , y_train)\n",
        "prediction = dmodel.predict(X_test)"
      ],
      "metadata": {
        "id": "lr07kuTCoUbM"
      },
      "execution_count": null,
      "outputs": []
    },
    {
      "cell_type": "code",
      "source": [
        "print(classification_report(y_test , prediction))"
      ],
      "metadata": {
        "id": "Cm-KnLYfzfZL",
        "colab": {
          "base_uri": "https://localhost:8080/"
        },
        "outputId": "59fd00fd-2095-4a42-b5ab-a7410a4495e0"
      },
      "execution_count": null,
      "outputs": [
        {
          "output_type": "stream",
          "name": "stdout",
          "text": [
            "              precision    recall  f1-score   support\n",
            "\n",
            "           0       0.94      0.95      0.95       469\n",
            "           1       0.75      0.74      0.74        99\n",
            "\n",
            "    accuracy                           0.91       568\n",
            "   macro avg       0.85      0.84      0.85       568\n",
            "weighted avg       0.91      0.91      0.91       568\n",
            "\n"
          ]
        }
      ]
    },
    {
      "cell_type": "code",
      "source": [
        "dmodel.score(X_test,y_test)"
      ],
      "metadata": {
        "colab": {
          "base_uri": "https://localhost:8080/"
        },
        "id": "N9PKggc_uUWG",
        "outputId": "c1273351-8468-4ac3-9ba8-b79dc5d4ef5f"
      },
      "execution_count": null,
      "outputs": [
        {
          "output_type": "execute_result",
          "data": {
            "text/plain": [
              "0.9119718309859155"
            ]
          },
          "metadata": {},
          "execution_count": 71
        }
      ]
    },
    {
      "cell_type": "code",
      "source": [
        "print(confusion_matrix(y_test , prediction))"
      ],
      "metadata": {
        "id": "9BKoK2xoGQ-d",
        "colab": {
          "base_uri": "https://localhost:8080/"
        },
        "outputId": "26dec6ec-8e3e-47f8-ac2c-ec38ef175ce4"
      },
      "execution_count": null,
      "outputs": [
        {
          "output_type": "stream",
          "name": "stdout",
          "text": [
            "[[445  24]\n",
            " [ 26  73]]\n"
          ]
        }
      ]
    },
    {
      "cell_type": "code",
      "source": [
        "X_train, X_test, y_train, y_test = train_test_split(X_scaled, y, test_size=0.30, stratify = y, random_state=30)"
      ],
      "metadata": {
        "id": "XftkVBBzzfWj"
      },
      "execution_count": null,
      "outputs": []
    },
    {
      "cell_type": "code",
      "source": [
        "dmodel = DecisionTreeClassifier(max_depth = 5)\n",
        "dmodel.fit(X_train , y_train)\n",
        "prediction = dmodel.predict(X_test)"
      ],
      "metadata": {
        "id": "HSpKDvrVzfUB"
      },
      "execution_count": null,
      "outputs": []
    },
    {
      "cell_type": "code",
      "source": [
        "print(classification_report(y_test , prediction))"
      ],
      "metadata": {
        "id": "0tni34PLzfQ5",
        "colab": {
          "base_uri": "https://localhost:8080/"
        },
        "outputId": "3298c64a-5442-46d1-c771-b0a586bda219"
      },
      "execution_count": null,
      "outputs": [
        {
          "output_type": "stream",
          "name": "stdout",
          "text": [
            "              precision    recall  f1-score   support\n",
            "\n",
            "           0       0.94      0.93      0.94       703\n",
            "           1       0.69      0.71      0.70       149\n",
            "\n",
            "    accuracy                           0.89       852\n",
            "   macro avg       0.82      0.82      0.82       852\n",
            "weighted avg       0.90      0.89      0.89       852\n",
            "\n"
          ]
        }
      ]
    },
    {
      "cell_type": "code",
      "source": [
        "dmodel.score(X_test,y_test)"
      ],
      "metadata": {
        "colab": {
          "base_uri": "https://localhost:8080/"
        },
        "id": "_nQKFvZTucXU",
        "outputId": "9382e3e5-4adc-439c-fbc7-b6515b9a876e"
      },
      "execution_count": null,
      "outputs": [
        {
          "output_type": "execute_result",
          "data": {
            "text/plain": [
              "0.8943661971830986"
            ]
          },
          "metadata": {},
          "execution_count": 76
        }
      ]
    },
    {
      "cell_type": "code",
      "source": [
        "print(confusion_matrix(y_test , prediction))"
      ],
      "metadata": {
        "colab": {
          "base_uri": "https://localhost:8080/"
        },
        "id": "0lop6qfnLSE2",
        "outputId": "a23a25e0-569d-40ff-a7c8-69f3d1601f7c"
      },
      "execution_count": null,
      "outputs": [
        {
          "output_type": "stream",
          "name": "stdout",
          "text": [
            "[[656  47]\n",
            " [ 43 106]]\n"
          ]
        }
      ]
    },
    {
      "cell_type": "code",
      "source": [
        "X_train, X_test, y_train, y_test = train_test_split(X_scaled, y, test_size=0.25, stratify = y, random_state=30)"
      ],
      "metadata": {
        "id": "DEIw7hiFzfOD"
      },
      "execution_count": null,
      "outputs": []
    },
    {
      "cell_type": "code",
      "source": [
        "dmodel = DecisionTreeClassifier(max_depth = 15)\n",
        "dmodel.fit(X_train, y_train)\n",
        "prediction = dmodel.predict(X_test)"
      ],
      "metadata": {
        "id": "eQTsv0kFzfL4"
      },
      "execution_count": null,
      "outputs": []
    },
    {
      "cell_type": "code",
      "source": [
        "\n",
        "print(classification_report(y_test , prediction))"
      ],
      "metadata": {
        "id": "vFjjUOE2zfHP",
        "colab": {
          "base_uri": "https://localhost:8080/"
        },
        "outputId": "21bf2870-2706-4dd6-a789-c78abe21ba44"
      },
      "execution_count": null,
      "outputs": [
        {
          "output_type": "stream",
          "name": "stdout",
          "text": [
            "              precision    recall  f1-score   support\n",
            "\n",
            "           0       0.96      0.95      0.96       586\n",
            "           1       0.79      0.81      0.80       124\n",
            "\n",
            "    accuracy                           0.93       710\n",
            "   macro avg       0.87      0.88      0.88       710\n",
            "weighted avg       0.93      0.93      0.93       710\n",
            "\n"
          ]
        }
      ]
    },
    {
      "cell_type": "code",
      "source": [
        "dmodel.score(X_test,y_test)"
      ],
      "metadata": {
        "colab": {
          "base_uri": "https://localhost:8080/"
        },
        "id": "X6aHwMpAue-G",
        "outputId": "2482593d-07ae-47d2-8956-e704770db065"
      },
      "execution_count": null,
      "outputs": [
        {
          "output_type": "execute_result",
          "data": {
            "text/plain": [
              "0.9295774647887324"
            ]
          },
          "metadata": {},
          "execution_count": 81
        }
      ]
    },
    {
      "cell_type": "code",
      "source": [
        "print(confusion_matrix(y_test , prediction))"
      ],
      "metadata": {
        "colab": {
          "base_uri": "https://localhost:8080/"
        },
        "id": "eQYtRASALU6P",
        "outputId": "493cc2e6-b6b3-4b41-e22d-c97a84818f20"
      },
      "execution_count": null,
      "outputs": [
        {
          "output_type": "stream",
          "name": "stdout",
          "text": [
            "[[559  27]\n",
            " [ 23 101]]\n"
          ]
        }
      ]
    },
    {
      "cell_type": "code",
      "source": [
        "X_train, X_test, y_train, y_test = train_test_split(X_scaled, y, test_size=0.35, stratify = y, random_state=30)"
      ],
      "metadata": {
        "id": "RzP61Osqze-4"
      },
      "execution_count": null,
      "outputs": []
    },
    {
      "cell_type": "code",
      "source": [
        "dmodel = DecisionTreeClassifier(max_depth = 5)\n",
        "dmodel.fit(X_train , y_train)\n",
        "prediction = dmodel.predict(X_test)"
      ],
      "metadata": {
        "id": "onNNkO_koUgt"
      },
      "execution_count": null,
      "outputs": []
    },
    {
      "cell_type": "code",
      "source": [
        "print(classification_report(y_test , prediction))"
      ],
      "metadata": {
        "colab": {
          "base_uri": "https://localhost:8080/"
        },
        "id": "5h0sBZabg9Go",
        "outputId": "859355b4-f10c-4541-8060-18ebc09b211e"
      },
      "execution_count": null,
      "outputs": [
        {
          "output_type": "stream",
          "name": "stdout",
          "text": [
            "              precision    recall  f1-score   support\n",
            "\n",
            "           0       0.95      0.94      0.95       821\n",
            "           1       0.73      0.77      0.75       173\n",
            "\n",
            "    accuracy                           0.91       994\n",
            "   macro avg       0.84      0.86      0.85       994\n",
            "weighted avg       0.91      0.91      0.91       994\n",
            "\n"
          ]
        }
      ]
    },
    {
      "cell_type": "code",
      "source": [
        "dmodel.score(X_test,y_test)"
      ],
      "metadata": {
        "colab": {
          "base_uri": "https://localhost:8080/"
        },
        "id": "hRJox0j0uhIc",
        "outputId": "ddba1911-c3a0-4df3-8a63-a70fa2be325c"
      },
      "execution_count": null,
      "outputs": [
        {
          "output_type": "execute_result",
          "data": {
            "text/plain": [
              "0.9114688128772636"
            ]
          },
          "metadata": {},
          "execution_count": 86
        }
      ]
    },
    {
      "cell_type": "code",
      "source": [
        "print(confusion_matrix(y_test , prediction))"
      ],
      "metadata": {
        "colab": {
          "base_uri": "https://localhost:8080/"
        },
        "id": "NKynvcZjLeDm",
        "outputId": "200cf96a-8660-4c05-fb48-be5f3f45e346"
      },
      "execution_count": null,
      "outputs": [
        {
          "output_type": "stream",
          "name": "stdout",
          "text": [
            "[[773  48]\n",
            " [ 40 133]]\n"
          ]
        }
      ]
    },
    {
      "cell_type": "markdown",
      "source": [
        "# RANDOM FOREST"
      ],
      "metadata": {
        "id": "386ICeA778N4"
      }
    },
    {
      "cell_type": "code",
      "source": [
        "X_train, X_test, y_train, y_test = train_test_split(X_scaled, y, test_size=0.35, stratify = y, random_state=30)"
      ],
      "metadata": {
        "id": "fsa0LozQoUkU"
      },
      "execution_count": null,
      "outputs": []
    },
    {
      "cell_type": "code",
      "source": [
        "rfmodel = RandomForestClassifier(n_estimators =  100 , max_depth = 10)\n",
        "rfmodel.fit(X_train , y_train)\n",
        "prediction = rfmodel.predict(X_test)"
      ],
      "metadata": {
        "id": "jE3HIOm7nCjK"
      },
      "execution_count": null,
      "outputs": []
    },
    {
      "cell_type": "code",
      "source": [
        "print(classification_report(y_test , prediction))"
      ],
      "metadata": {
        "colab": {
          "base_uri": "https://localhost:8080/"
        },
        "id": "G_ZmxPY5nEQY",
        "outputId": "79ea626c-4e16-47b4-f42c-3a37071f1461"
      },
      "execution_count": null,
      "outputs": [
        {
          "output_type": "stream",
          "name": "stdout",
          "text": [
            "              precision    recall  f1-score   support\n",
            "\n",
            "           0       0.96      0.98      0.97       821\n",
            "           1       0.89      0.83      0.86       173\n",
            "\n",
            "    accuracy                           0.95       994\n",
            "   macro avg       0.93      0.90      0.92       994\n",
            "weighted avg       0.95      0.95      0.95       994\n",
            "\n"
          ]
        }
      ]
    },
    {
      "cell_type": "code",
      "source": [
        "rfmodel.score(X_test,y_test)"
      ],
      "metadata": {
        "colab": {
          "base_uri": "https://localhost:8080/"
        },
        "id": "VhUJmsgkLE3r",
        "outputId": "cf6e38c9-cfb2-4f62-ce5e-57a2098f0a5e"
      },
      "execution_count": null,
      "outputs": [
        {
          "output_type": "execute_result",
          "data": {
            "text/plain": [
              "0.9527162977867203"
            ]
          },
          "metadata": {},
          "execution_count": 91
        }
      ]
    },
    {
      "cell_type": "code",
      "source": [
        "print(confusion_matrix(y_test , prediction))"
      ],
      "metadata": {
        "colab": {
          "base_uri": "https://localhost:8080/"
        },
        "id": "Ngq7G-JnLJwj",
        "outputId": "015329fa-4b5e-4a91-a903-73cca4d27422"
      },
      "execution_count": null,
      "outputs": [
        {
          "output_type": "stream",
          "name": "stdout",
          "text": [
            "[[804  17]\n",
            " [ 30 143]]\n"
          ]
        }
      ]
    },
    {
      "cell_type": "code",
      "source": [
        "X_train, X_test, y_train, y_test = train_test_split(X_scaled, y, test_size=0.30, stratify = y, random_state=30)"
      ],
      "metadata": {
        "id": "6FGRh801nEO1"
      },
      "execution_count": null,
      "outputs": []
    },
    {
      "cell_type": "code",
      "source": [
        "rfmodel = RandomForestClassifier(n_estimators =  100 , max_depth = 15)\n",
        "rfmodel.fit(X_train , y_train)\n",
        "prediction = rfmodel.predict(X_test)"
      ],
      "metadata": {
        "id": "lTZiToXInEMt"
      },
      "execution_count": null,
      "outputs": []
    },
    {
      "cell_type": "code",
      "source": [
        "print(classification_report(y_test , prediction))"
      ],
      "metadata": {
        "id": "ALkTXXW4nEKa",
        "colab": {
          "base_uri": "https://localhost:8080/"
        },
        "outputId": "09f24b56-c8e0-4262-d948-612a7f688d56"
      },
      "execution_count": null,
      "outputs": [
        {
          "output_type": "stream",
          "name": "stdout",
          "text": [
            "              precision    recall  f1-score   support\n",
            "\n",
            "           0       0.96      0.97      0.97       703\n",
            "           1       0.85      0.83      0.84       149\n",
            "\n",
            "    accuracy                           0.94       852\n",
            "   macro avg       0.91      0.90      0.90       852\n",
            "weighted avg       0.94      0.94      0.94       852\n",
            "\n"
          ]
        }
      ]
    },
    {
      "cell_type": "code",
      "source": [
        "rfmodel.score(X_test,y_test)"
      ],
      "metadata": {
        "colab": {
          "base_uri": "https://localhost:8080/"
        },
        "id": "lhW71wrQL7Fm",
        "outputId": "0f64a0c7-753a-4f65-81ef-ae27d2cba157"
      },
      "execution_count": null,
      "outputs": [
        {
          "output_type": "execute_result",
          "data": {
            "text/plain": [
              "0.9448356807511737"
            ]
          },
          "metadata": {},
          "execution_count": 96
        }
      ]
    },
    {
      "cell_type": "code",
      "source": [
        "print(confusion_matrix(y_test , prediction))"
      ],
      "metadata": {
        "colab": {
          "base_uri": "https://localhost:8080/"
        },
        "id": "efIq7VatLxnN",
        "outputId": "fc2d2c53-6b32-432a-c292-35001e79431e"
      },
      "execution_count": null,
      "outputs": [
        {
          "output_type": "stream",
          "name": "stdout",
          "text": [
            "[[682  21]\n",
            " [ 26 123]]\n"
          ]
        }
      ]
    },
    {
      "cell_type": "code",
      "source": [
        "X_train, X_test, y_train, y_test = train_test_split(X_scaled, y, test_size=0.25, stratify = y, random_state=30)"
      ],
      "metadata": {
        "id": "1UZKVSVooUsq"
      },
      "execution_count": null,
      "outputs": []
    },
    {
      "cell_type": "code",
      "source": [
        "rfmodel = RandomForestClassifier(n_estimators =  100 , max_depth = 20)\n",
        "rfmodel.fit(X_train , y_train)\n",
        "prediction = rfmodel.predict(X_test)"
      ],
      "metadata": {
        "id": "tgalpSPjnEFV"
      },
      "execution_count": null,
      "outputs": []
    },
    {
      "cell_type": "code",
      "source": [
        "print(classification_report(y_test , prediction))"
      ],
      "metadata": {
        "id": "shcJ4237nECD",
        "colab": {
          "base_uri": "https://localhost:8080/"
        },
        "outputId": "f099d9ad-7f8b-4ee3-d7ca-29b9df3bae70"
      },
      "execution_count": null,
      "outputs": [
        {
          "output_type": "stream",
          "name": "stdout",
          "text": [
            "              precision    recall  f1-score   support\n",
            "\n",
            "           0       0.97      0.98      0.97       586\n",
            "           1       0.88      0.85      0.86       124\n",
            "\n",
            "    accuracy                           0.95       710\n",
            "   macro avg       0.93      0.91      0.92       710\n",
            "weighted avg       0.95      0.95      0.95       710\n",
            "\n"
          ]
        }
      ]
    },
    {
      "cell_type": "code",
      "source": [
        "rfmodel.score(X_test,y_test)"
      ],
      "metadata": {
        "colab": {
          "base_uri": "https://localhost:8080/"
        },
        "id": "vaA441eDMG9O",
        "outputId": "28cb3c09-4327-4985-bac2-44f87c1ba217"
      },
      "execution_count": null,
      "outputs": [
        {
          "output_type": "execute_result",
          "data": {
            "text/plain": [
              "0.9535211267605633"
            ]
          },
          "metadata": {},
          "execution_count": 101
        }
      ]
    },
    {
      "cell_type": "code",
      "source": [
        "print(confusion_matrix(y_test , prediction))"
      ],
      "metadata": {
        "colab": {
          "base_uri": "https://localhost:8080/"
        },
        "id": "Mv39BLOZL0Vl",
        "outputId": "c5061ca8-8cd2-41f5-90db-48b76cb3a860"
      },
      "execution_count": null,
      "outputs": [
        {
          "output_type": "stream",
          "name": "stdout",
          "text": [
            "[[572  14]\n",
            " [ 19 105]]\n"
          ]
        }
      ]
    },
    {
      "cell_type": "code",
      "source": [
        "X_train, X_test, y_train, y_test = train_test_split(X_scaled, y, test_size=0.20, stratify = y, random_state=30)"
      ],
      "metadata": {
        "id": "72JrA8dGnD_i"
      },
      "execution_count": null,
      "outputs": []
    },
    {
      "cell_type": "code",
      "source": [
        "rfmodel = RandomForestClassifier(n_estimators =  100 , max_depth = 25)\n",
        "rfmodel.fit(X_train , y_train)\n",
        "prediction = rfmodel.predict(X_test)"
      ],
      "metadata": {
        "id": "_NADqRDonD8x"
      },
      "execution_count": null,
      "outputs": []
    },
    {
      "cell_type": "code",
      "source": [
        "print(classification_report(y_test , prediction))"
      ],
      "metadata": {
        "id": "CxDT5HBqnD6n",
        "colab": {
          "base_uri": "https://localhost:8080/"
        },
        "outputId": "2afbc2a2-3840-4883-dc71-19d7485f7f01"
      },
      "execution_count": null,
      "outputs": [
        {
          "output_type": "stream",
          "name": "stdout",
          "text": [
            "              precision    recall  f1-score   support\n",
            "\n",
            "           0       0.96      0.98      0.97       469\n",
            "           1       0.89      0.82      0.85        99\n",
            "\n",
            "    accuracy                           0.95       568\n",
            "   macro avg       0.93      0.90      0.91       568\n",
            "weighted avg       0.95      0.95      0.95       568\n",
            "\n"
          ]
        }
      ]
    },
    {
      "cell_type": "code",
      "source": [
        "rfmodel.score(X_test,y_test)"
      ],
      "metadata": {
        "colab": {
          "base_uri": "https://localhost:8080/"
        },
        "id": "TySTT_dMMJba",
        "outputId": "b85d3580-87ac-4d39-8d47-7e18b25c638a"
      },
      "execution_count": null,
      "outputs": [
        {
          "output_type": "execute_result",
          "data": {
            "text/plain": [
              "0.9507042253521126"
            ]
          },
          "metadata": {},
          "execution_count": 106
        }
      ]
    },
    {
      "cell_type": "code",
      "source": [
        "print(confusion_matrix(y_test , prediction))"
      ],
      "metadata": {
        "id": "7QiQhhmtG4Sn",
        "colab": {
          "base_uri": "https://localhost:8080/"
        },
        "outputId": "ddb8f891-06df-4d33-c3d2-bdfde11a7032"
      },
      "execution_count": null,
      "outputs": [
        {
          "output_type": "stream",
          "name": "stdout",
          "text": [
            "[[459  10]\n",
            " [ 18  81]]\n"
          ]
        }
      ]
    },
    {
      "cell_type": "markdown",
      "source": [
        "KNeighborClassifier"
      ],
      "metadata": {
        "id": "cIDldW_ZBy29"
      }
    },
    {
      "cell_type": "code",
      "source": [
        "X_train, X_test, y_train, y_test = train_test_split(X_scaled, y, test_size=0.25, stratify = y, random_state=30)\n",
        "knnc = KNeighborsClassifier()\n",
        "knnc.fit(X_train , y_train)\n",
        "prediction = knnc.predict(X_test)\n",
        "print(classification_report(y_test , prediction))\n",
        "print(confusion_matrix(y_test , prediction))"
      ],
      "metadata": {
        "id": "n_CiFj-xnD3s",
        "colab": {
          "base_uri": "https://localhost:8080/"
        },
        "outputId": "bff5edde-8055-4f8e-a9b4-5697980abb7e"
      },
      "execution_count": null,
      "outputs": [
        {
          "output_type": "stream",
          "name": "stdout",
          "text": [
            "              precision    recall  f1-score   support\n",
            "\n",
            "           0       0.95      0.97      0.96       586\n",
            "           1       0.85      0.78      0.82       124\n",
            "\n",
            "    accuracy                           0.94       710\n",
            "   macro avg       0.90      0.88      0.89       710\n",
            "weighted avg       0.94      0.94      0.94       710\n",
            "\n",
            "[[569  17]\n",
            " [ 27  97]]\n"
          ]
        }
      ]
    },
    {
      "cell_type": "code",
      "source": [
        "knnc.score(X_test,y_test)"
      ],
      "metadata": {
        "colab": {
          "base_uri": "https://localhost:8080/"
        },
        "id": "bzYGS77RMT-7",
        "outputId": "a2256d70-e85e-4986-cc98-ddb4959364d1"
      },
      "execution_count": null,
      "outputs": [
        {
          "output_type": "execute_result",
          "data": {
            "text/plain": [
              "0.9380281690140845"
            ]
          },
          "metadata": {},
          "execution_count": 109
        }
      ]
    },
    {
      "cell_type": "code",
      "source": [
        "X_train, X_test, y_train, y_test = train_test_split(X_scaled, y, test_size=0.30, stratify = y, random_state=30)\n",
        "knnc = KNeighborsClassifier()\n",
        "knnc.fit(X_train , y_train)\n",
        "prediction = knnc.predict(X_test)\n",
        "print(classification_report(y_test , prediction))\n",
        "print(confusion_matrix(y_test , prediction))"
      ],
      "metadata": {
        "colab": {
          "base_uri": "https://localhost:8080/"
        },
        "id": "Cq-nXSoxp1RU",
        "outputId": "33f8786a-c8cb-491e-8757-0a8ef44f9a0f"
      },
      "execution_count": null,
      "outputs": [
        {
          "output_type": "stream",
          "name": "stdout",
          "text": [
            "              precision    recall  f1-score   support\n",
            "\n",
            "           0       0.95      0.96      0.95       703\n",
            "           1       0.79      0.77      0.78       149\n",
            "\n",
            "    accuracy                           0.92       852\n",
            "   macro avg       0.87      0.86      0.87       852\n",
            "weighted avg       0.92      0.92      0.92       852\n",
            "\n",
            "[[673  30]\n",
            " [ 35 114]]\n"
          ]
        }
      ]
    },
    {
      "cell_type": "code",
      "source": [
        "knnc.score(X_test,y_test)"
      ],
      "metadata": {
        "colab": {
          "base_uri": "https://localhost:8080/"
        },
        "id": "XSY9NbmmMbzu",
        "outputId": "62da0f22-5bdb-4adc-923f-4e75440666d7"
      },
      "execution_count": null,
      "outputs": [
        {
          "output_type": "execute_result",
          "data": {
            "text/plain": [
              "0.9237089201877934"
            ]
          },
          "metadata": {},
          "execution_count": 111
        }
      ]
    },
    {
      "cell_type": "code",
      "source": [
        "X_train, X_test, y_train, y_test = train_test_split(X_scaled, y, test_size=0.35, stratify = y, random_state= 30)\n",
        "knnc = KNeighborsClassifier()\n",
        "knnc.fit(X_train , y_train)\n",
        "prediction = knnc.predict(X_test)\n",
        "print(classification_report(y_test , prediction))\n",
        "print(confusion_matrix(y_test , prediction))"
      ],
      "metadata": {
        "colab": {
          "base_uri": "https://localhost:8080/"
        },
        "id": "lXc0skY_p1FZ",
        "outputId": "1170e815-97f0-41e9-fd11-f53352568ab4"
      },
      "execution_count": null,
      "outputs": [
        {
          "output_type": "stream",
          "name": "stdout",
          "text": [
            "              precision    recall  f1-score   support\n",
            "\n",
            "           0       0.96      0.97      0.96       821\n",
            "           1       0.84      0.79      0.81       173\n",
            "\n",
            "    accuracy                           0.94       994\n",
            "   macro avg       0.90      0.88      0.89       994\n",
            "weighted avg       0.94      0.94      0.94       994\n",
            "\n",
            "[[794  27]\n",
            " [ 36 137]]\n"
          ]
        }
      ]
    },
    {
      "cell_type": "code",
      "source": [
        "knnc.score(X_test,y_test)"
      ],
      "metadata": {
        "colab": {
          "base_uri": "https://localhost:8080/"
        },
        "id": "PMIRPhdOMeFK",
        "outputId": "82b2eb1c-513a-442f-ce7c-9261db688a9d"
      },
      "execution_count": null,
      "outputs": [
        {
          "output_type": "execute_result",
          "data": {
            "text/plain": [
              "0.9366197183098591"
            ]
          },
          "metadata": {},
          "execution_count": 113
        }
      ]
    },
    {
      "cell_type": "code",
      "source": [
        "X_train, X_test, y_train, y_test = train_test_split(X_scaled, y, test_size=0.20, stratify = y, random_state=30)\n",
        "knnc = KNeighborsClassifier()\n",
        "knnc.fit(X_train , y_train)\n",
        "prediction = knnc.predict(X_test)\n",
        "print(classification_report(y_test , prediction))\n",
        "print(confusion_matrix(y_test , prediction))"
      ],
      "metadata": {
        "colab": {
          "base_uri": "https://localhost:8080/"
        },
        "id": "n3PF4JOWp02M",
        "outputId": "a4b604b9-b77c-406c-a130-a83972a6f172"
      },
      "execution_count": null,
      "outputs": [
        {
          "output_type": "stream",
          "name": "stdout",
          "text": [
            "              precision    recall  f1-score   support\n",
            "\n",
            "           0       0.95      0.97      0.96       469\n",
            "           1       0.85      0.78      0.81        99\n",
            "\n",
            "    accuracy                           0.94       568\n",
            "   macro avg       0.90      0.87      0.89       568\n",
            "weighted avg       0.94      0.94      0.94       568\n",
            "\n",
            "[[455  14]\n",
            " [ 22  77]]\n"
          ]
        }
      ]
    },
    {
      "cell_type": "code",
      "source": [
        "knnc.score(X_test,y_test)"
      ],
      "metadata": {
        "colab": {
          "base_uri": "https://localhost:8080/"
        },
        "id": "7h9x6MF3MqOa",
        "outputId": "02cd84ed-8253-48af-93f6-63d222424d2b"
      },
      "execution_count": null,
      "outputs": [
        {
          "output_type": "execute_result",
          "data": {
            "text/plain": [
              "0.9366197183098591"
            ]
          },
          "metadata": {},
          "execution_count": 115
        }
      ]
    },
    {
      "cell_type": "code",
      "source": [
        "# cm = confusion_matrix(y_test , prediction)"
      ],
      "metadata": {
        "id": "An7rsf-3jGS_"
      },
      "execution_count": null,
      "outputs": []
    },
    {
      "cell_type": "code",
      "source": [
        "# sb.heatmap(cm, annot=True)"
      ],
      "metadata": {
        "id": "WlATIb_Ai80e"
      },
      "execution_count": null,
      "outputs": []
    },
    {
      "cell_type": "markdown",
      "source": [
        "SupportVectorMachine"
      ],
      "metadata": {
        "id": "Kax5cPPDCKTh"
      }
    },
    {
      "cell_type": "code",
      "source": [
        "X_train, X_test, y_train, y_test = train_test_split(X_scaled, y, test_size=0.25, stratify = y, random_state=30)\n",
        "sv = SVC()\n",
        "sv.fit(X_train , y_train)\n",
        "prediction = sv.predict(X_test)\n",
        "print(classification_report(y_test , prediction))\n",
        "print(confusion_matrix(y_test , prediction))\n"
      ],
      "metadata": {
        "id": "2C6ucfcbB7yM",
        "colab": {
          "base_uri": "https://localhost:8080/"
        },
        "outputId": "881fc6ba-ea53-462f-81ed-3ea9b1b052e7"
      },
      "execution_count": null,
      "outputs": [
        {
          "output_type": "stream",
          "name": "stdout",
          "text": [
            "              precision    recall  f1-score   support\n",
            "\n",
            "           0       0.92      0.99      0.96       586\n",
            "           1       0.96      0.59      0.73       124\n",
            "\n",
            "    accuracy                           0.92       710\n",
            "   macro avg       0.94      0.79      0.84       710\n",
            "weighted avg       0.93      0.92      0.92       710\n",
            "\n",
            "[[583   3]\n",
            " [ 51  73]]\n"
          ]
        }
      ]
    },
    {
      "cell_type": "code",
      "source": [
        "sv.score(X_test,y_test)"
      ],
      "metadata": {
        "colab": {
          "base_uri": "https://localhost:8080/"
        },
        "id": "u6XIjMtBMw_F",
        "outputId": "0676533d-f70c-4c5f-f720-830feb3c9a5d"
      },
      "execution_count": null,
      "outputs": [
        {
          "output_type": "execute_result",
          "data": {
            "text/plain": [
              "0.923943661971831"
            ]
          },
          "metadata": {},
          "execution_count": 119
        }
      ]
    },
    {
      "cell_type": "code",
      "source": [
        "X_train, X_test, y_train, y_test = train_test_split(X_scaled, y, test_size=0.30, stratify = y, random_state=30)\n",
        "sv = SVC()\n",
        "sv.fit(X_train , y_train)\n",
        "prediction = sv.predict(X_test)\n",
        "print(classification_report(y_test , prediction))\n",
        "print(confusion_matrix(y_test , prediction))\n"
      ],
      "metadata": {
        "colab": {
          "base_uri": "https://localhost:8080/"
        },
        "id": "Cslm1rFEqEFm",
        "outputId": "e2282070-c65f-460b-915d-d0c9cb7a86cb"
      },
      "execution_count": null,
      "outputs": [
        {
          "output_type": "stream",
          "name": "stdout",
          "text": [
            "              precision    recall  f1-score   support\n",
            "\n",
            "           0       0.92      1.00      0.96       703\n",
            "           1       0.97      0.58      0.73       149\n",
            "\n",
            "    accuracy                           0.92       852\n",
            "   macro avg       0.94      0.79      0.84       852\n",
            "weighted avg       0.93      0.92      0.92       852\n",
            "\n",
            "[[700   3]\n",
            " [ 62  87]]\n"
          ]
        }
      ]
    },
    {
      "cell_type": "code",
      "source": [
        "sv.score(X_test,y_test)"
      ],
      "metadata": {
        "colab": {
          "base_uri": "https://localhost:8080/"
        },
        "id": "HbTSU7tQM3n2",
        "outputId": "982a1fd4-f732-4416-efbc-09b8c153f22b"
      },
      "execution_count": null,
      "outputs": [
        {
          "output_type": "execute_result",
          "data": {
            "text/plain": [
              "0.9237089201877934"
            ]
          },
          "metadata": {},
          "execution_count": 121
        }
      ]
    },
    {
      "cell_type": "code",
      "source": [
        "X_train, X_test, y_train, y_test = train_test_split(X_scaled, y, test_size=0.35, stratify = y, random_state=30)\n",
        "sv = SVC()\n",
        "sv.fit(X_train , y_train)\n",
        "prediction = sv.predict(X_test)\n",
        "print(classification_report(y_test , prediction))\n",
        "print(confusion_matrix(y_test , prediction))\n"
      ],
      "metadata": {
        "colab": {
          "base_uri": "https://localhost:8080/"
        },
        "id": "GH2X7V8HqD5C",
        "outputId": "403078d4-a42d-4d4a-a2bf-a85ee260230c"
      },
      "execution_count": null,
      "outputs": [
        {
          "output_type": "stream",
          "name": "stdout",
          "text": [
            "              precision    recall  f1-score   support\n",
            "\n",
            "           0       0.92      1.00      0.95       821\n",
            "           1       0.96      0.57      0.71       173\n",
            "\n",
            "    accuracy                           0.92       994\n",
            "   macro avg       0.94      0.78      0.83       994\n",
            "weighted avg       0.92      0.92      0.91       994\n",
            "\n",
            "[[817   4]\n",
            " [ 75  98]]\n"
          ]
        }
      ]
    },
    {
      "cell_type": "code",
      "source": [
        "sv.score(X_test,y_test)"
      ],
      "metadata": {
        "colab": {
          "base_uri": "https://localhost:8080/"
        },
        "id": "SoMGqLCbM6qp",
        "outputId": "2e9c7097-5071-4e8c-98e7-53faca8f6b47"
      },
      "execution_count": null,
      "outputs": [
        {
          "output_type": "execute_result",
          "data": {
            "text/plain": [
              "0.920523138832998"
            ]
          },
          "metadata": {},
          "execution_count": 123
        }
      ]
    },
    {
      "cell_type": "code",
      "source": [
        "X_train, X_test, y_train, y_test = train_test_split(X_scaled, y, test_size=0.20, stratify = y, random_state=30)\n",
        "sv = SVC()\n",
        "sv.fit(X_train , y_train)\n",
        "prediction = sv.predict(X_test)\n",
        "print(classification_report(y_test , prediction))\n",
        "print(confusion_matrix(y_test , prediction))\n"
      ],
      "metadata": {
        "colab": {
          "base_uri": "https://localhost:8080/"
        },
        "id": "i1HRVU0AqDnt",
        "outputId": "67678806-094b-4e98-e14c-c296aaf0043f"
      },
      "execution_count": null,
      "outputs": [
        {
          "output_type": "stream",
          "name": "stdout",
          "text": [
            "              precision    recall  f1-score   support\n",
            "\n",
            "           0       0.92      1.00      0.96       469\n",
            "           1       0.97      0.60      0.74        99\n",
            "\n",
            "    accuracy                           0.93       568\n",
            "   macro avg       0.94      0.80      0.85       568\n",
            "weighted avg       0.93      0.93      0.92       568\n",
            "\n",
            "[[467   2]\n",
            " [ 40  59]]\n"
          ]
        }
      ]
    },
    {
      "cell_type": "code",
      "source": [
        "sv.score(X_test,y_test)"
      ],
      "metadata": {
        "colab": {
          "base_uri": "https://localhost:8080/"
        },
        "id": "lHpphBK7M9Tx",
        "outputId": "d22e190d-5661-49e6-f379-57ab2ba3c254"
      },
      "execution_count": null,
      "outputs": [
        {
          "output_type": "execute_result",
          "data": {
            "text/plain": [
              "0.926056338028169"
            ]
          },
          "metadata": {},
          "execution_count": 125
        }
      ]
    },
    {
      "cell_type": "code",
      "source": [],
      "metadata": {
        "id": "OjJzdQw-li0D"
      },
      "execution_count": null,
      "outputs": []
    },
    {
      "cell_type": "markdown",
      "source": [],
      "metadata": {
        "id": "3i53MbyeR5UE"
      }
    },
    {
      "cell_type": "markdown",
      "source": [],
      "metadata": {
        "id": "YffZKAs8B80o"
      }
    }
  ]
}